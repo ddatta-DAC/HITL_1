{
 "cells": [
  {
   "cell_type": "code",
   "execution_count": 1,
   "metadata": {},
   "outputs": [],
   "source": [
    "import torch\n",
    "import torch.nn as nn\n",
    "import numpy as np\n"
   ]
  },
  {
   "cell_type": "code",
   "execution_count": 2,
   "metadata": {},
   "outputs": [],
   "source": [
    "import os\n",
    "import sys\n",
    "import pickle \n",
    "import networkx as nx"
   ]
  },
  {
   "cell_type": "code",
   "execution_count": null,
   "metadata": {},
   "outputs": [],
   "source": [
    "class Aggregator(nn.Module):\n",
    "    def __init__(self):\n",
    "        return\n",
    "    def forward(self):\n",
    "        return\n",
    "    \n",
    "    \n",
    "    \n",
    "    "
   ]
  },
  {
   "cell_type": "code",
   "execution_count": null,
   "metadata": {},
   "outputs": [],
   "source": [
    "class Encoder(nn.Module):\n",
    "    def __init__(\n",
    "        inpt_dim,\n",
    "        output_dim,\n",
    "        input_embedding\n",
    "    ):\n",
    "        # Define Aggregator\n",
    "        \n",
    "        \n",
    "        \n",
    "        W_inp_dim = 1\n",
    "        # Define W \n",
    "        W_inp_dim = 10\n",
    "        self.W = nn.Linear(,output_dim,bias=False)\n",
    "        return\n",
    "    def forward(self):\n",
    "        return "
   ]
  },
  {
   "cell_type": "code",
   "execution_count": null,
   "metadata": {},
   "outputs": [],
   "source": [
    "class GSAGE(nn.Module):\n",
    "    def __init__( \n",
    "        num_classes, \n",
    "        num_nodes,\n",
    "        node_features,\n",
    "        num_gnn_layers,\n",
    "        gnn_layer_dims\n",
    "    ):\n",
    "        aggregate_n_encode = []\n",
    "        \n",
    "        for layer in range(num_gnn_layers):\n",
    "            if layer == 0:\n",
    "                inp_feature_dims = node_features.shape[1]\n",
    "                input_embedding = nn.Embedding.from_pretrained(node_features)               \n",
    "            else:\n",
    "                _encoder = aggregate_n_encode[layer-1]\n",
    "                # Lambda function acts like an embedding\n",
    "                input_embedding =  lambda node : _encoder(node).t()\n",
    "            \n",
    "            # Define the encoder layer object\n",
    "            \n",
    "            \n",
    "        # Final layer\n",
    "        layers = []\n",
    "        layers.append(nn.Linear(gnn_layer_dims[-1],num_classes))\n",
    "        layers.append(nn.Sigmoid())\n",
    "        layers.append(nn.Softmax())\n",
    "        self.clf_fc = nn.ModuleList(*layers)\n",
    "        return\n",
    "    def forward(self):\n",
    "        return\n",
    "    "
   ]
  }
 ],
 "metadata": {
  "kernelspec": {
   "display_name": "Python 3",
   "language": "python",
   "name": "python3"
  },
  "language_info": {
   "codemirror_mode": {
    "name": "ipython",
    "version": 3
   },
   "file_extension": ".py",
   "mimetype": "text/x-python",
   "name": "python",
   "nbconvert_exporter": "python",
   "pygments_lexer": "ipython3",
   "version": "3.7.9"
  }
 },
 "nbformat": 4,
 "nbformat_minor": 4
}
