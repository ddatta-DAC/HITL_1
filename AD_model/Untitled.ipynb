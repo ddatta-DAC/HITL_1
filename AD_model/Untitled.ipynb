{
 "cells": [
  {
   "cell_type": "code",
   "execution_count": 2,
   "metadata": {},
   "outputs": [],
   "source": [
    "import os\n",
    "import torch\n",
    "import pandas as pd\n",
    "import numpy as np\n",
    "import model_AD_1 as AD\n",
    "import pickle\n",
    "\n",
    "%load_ext autoreload\n",
    "%autoreload 2\n"
   ]
  },
  {
   "cell_type": "code",
   "execution_count": 16,
   "metadata": {},
   "outputs": [],
   "source": []
  },
  {
   "cell_type": "code",
   "execution_count": 17,
   "metadata": {},
   "outputs": [],
   "source": [
    "x_pos = np.load('./../generated_data_v1/us_import1/stage_2/train_x_pos.npy')\n",
    "x_neg = np.load('./../generated_data_v1/us_import1/stage_2/train_x_neg.npy')"
   ]
  },
  {
   "cell_type": "code",
   "execution_count": 23,
   "metadata": {},
   "outputs": [],
   "source": [
    "x_neg = x_neg.reshape([x_pos.shape[0], -1 , x_pos.shape[1]])"
   ]
  },
  {
   "cell_type": "code",
   "execution_count": 18,
   "metadata": {},
   "outputs": [],
   "source": [
    "with open('./../generated_data_v1/us_import1/domain_dims.pkl','rb')  as fh:\n",
    "    domain_dims= pickle.load(fh)\n",
    "    "
   ]
  },
  {
   "cell_type": "code",
   "execution_count": 19,
   "metadata": {},
   "outputs": [],
   "source": [
    "total_entity_count = sum(domain_dims.values())"
   ]
  },
  {
   "cell_type": "code",
   "execution_count": 26,
   "metadata": {},
   "outputs": [],
   "source": [
    "model = AD.AD_model_container(total_entity_count, emb_dim=16)"
   ]
  },
  {
   "cell_type": "code",
   "execution_count": null,
   "metadata": {},
   "outputs": [
    {
     "name": "stderr",
     "output_type": "stream",
     "text": [
      "  0%|          | 0/20 [00:00<?, ?it/s]"
     ]
    },
    {
     "name": "stdout",
     "output_type": "stream",
     "text": [
      "Epoch 0  batch 0 Loss 1.073007\n",
      "Epoch 0  batch 100 Loss 1.004386\n",
      "Epoch 0  batch 200 Loss 0.948013\n",
      "Epoch 0  batch 300 Loss 0.972287\n",
      "Epoch 0  batch 400 Loss 0.915959\n",
      "Epoch 0  batch 500 Loss 0.909681\n"
     ]
    },
    {
     "name": "stderr",
     "output_type": "stream",
     "text": [
      "  5%|▌         | 1/20 [01:24<26:41, 84.30s/it]"
     ]
    },
    {
     "name": "stdout",
     "output_type": "stream",
     "text": [
      "Epoch 1  batch 0 Loss 0.875377\n",
      "Epoch 1  batch 100 Loss 0.831254\n",
      "Epoch 1  batch 200 Loss 0.757903\n",
      "Epoch 1  batch 300 Loss 0.819204\n",
      "Epoch 1  batch 400 Loss 0.726067\n",
      "Epoch 1  batch 500 Loss 0.761799\n"
     ]
    },
    {
     "name": "stderr",
     "output_type": "stream",
     "text": [
      " 10%|█         | 2/20 [02:48<25:16, 84.23s/it]"
     ]
    },
    {
     "name": "stdout",
     "output_type": "stream",
     "text": [
      "Epoch 2  batch 0 Loss 0.696423\n",
      "Epoch 2  batch 100 Loss 0.737410\n",
      "Epoch 2  batch 200 Loss 0.708994\n",
      "Epoch 2  batch 300 Loss 0.629264\n",
      "Epoch 2  batch 400 Loss 0.653498\n",
      "Epoch 2  batch 500 Loss 0.662399\n"
     ]
    },
    {
     "name": "stderr",
     "output_type": "stream",
     "text": [
      " 15%|█▌        | 3/20 [04:11<23:45, 83.87s/it]"
     ]
    },
    {
     "name": "stdout",
     "output_type": "stream",
     "text": [
      "Epoch 3  batch 0 Loss 0.690247\n",
      "Epoch 3  batch 100 Loss 0.630665\n",
      "Epoch 3  batch 200 Loss 0.564347\n",
      "Epoch 3  batch 300 Loss 0.585909\n",
      "Epoch 3  batch 400 Loss 0.566188\n",
      "Epoch 3  batch 500 Loss 0.584829\n"
     ]
    },
    {
     "name": "stderr",
     "output_type": "stream",
     "text": [
      " 20%|██        | 4/20 [05:32<22:08, 83.04s/it]"
     ]
    },
    {
     "name": "stdout",
     "output_type": "stream",
     "text": [
      "Epoch 4  batch 0 Loss 0.568169\n",
      "Epoch 4  batch 100 Loss 0.548959\n"
     ]
    }
   ],
   "source": [
    "model.train_model(x_pos,x_neg, batch_size=256, epochs=20)"
   ]
  },
  {
   "cell_type": "code",
   "execution_count": null,
   "metadata": {},
   "outputs": [],
   "source": []
  }
 ],
 "metadata": {
  "kernelspec": {
   "display_name": "Python 3",
   "language": "python",
   "name": "python3"
  },
  "language_info": {
   "codemirror_mode": {
    "name": "ipython",
    "version": 3
   },
   "file_extension": ".py",
   "mimetype": "text/x-python",
   "name": "python",
   "nbconvert_exporter": "python",
   "pygments_lexer": "ipython3",
   "version": "3.7.9"
  }
 },
 "nbformat": 4,
 "nbformat_minor": 4
}
