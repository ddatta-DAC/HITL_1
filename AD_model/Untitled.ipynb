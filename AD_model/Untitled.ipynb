{
 "cells": [
  {
   "cell_type": "code",
   "execution_count": 14,
   "metadata": {},
   "outputs": [
    {
     "name": "stdout",
     "output_type": "stream",
     "text": [
      "The autoreload extension is already loaded. To reload it, use:\n",
      "  %reload_ext autoreload\n"
     ]
    }
   ],
   "source": [
    "import os\n",
    "import torch\n",
    "import pandas as pd\n",
    "import numpy as np\n",
    "import model_AD_1 as AD\n",
    "import pickle\n",
    "\n",
    "%load_ext autoreload\n",
    "%autoreload 2\n",
    "import matplotlib.pyplot as plt "
   ]
  },
  {
   "cell_type": "code",
   "execution_count": 2,
   "metadata": {},
   "outputs": [],
   "source": [
    "import torch \n",
    "device = torch.device(\"cuda\" if torch.cuda.is_available() else \"cpu\")"
   ]
  },
  {
   "cell_type": "code",
   "execution_count": 3,
   "metadata": {},
   "outputs": [],
   "source": [
    "x_pos = np.load('./../generated_data_v1/us_import1/stage_2/train_x_pos.npy')\n",
    "x_neg = np.load('./../generated_data_v1/us_import1/stage_2/train_x_neg.npy')"
   ]
  },
  {
   "cell_type": "code",
   "execution_count": 4,
   "metadata": {},
   "outputs": [],
   "source": [
    "x_neg = x_neg.reshape([x_pos.shape[0], -1 , x_pos.shape[1]])"
   ]
  },
  {
   "cell_type": "code",
   "execution_count": 5,
   "metadata": {},
   "outputs": [],
   "source": [
    "with open('./../generated_data_v1/us_import1/domain_dims.pkl','rb')  as fh:\n",
    "    domain_dims= pickle.load(fh)\n",
    "    "
   ]
  },
  {
   "cell_type": "code",
   "execution_count": 6,
   "metadata": {},
   "outputs": [],
   "source": [
    "total_entity_count = sum(domain_dims.values())"
   ]
  },
  {
   "cell_type": "code",
   "execution_count": 9,
   "metadata": {},
   "outputs": [],
   "source": [
    "model = AD.AD_model_container(total_entity_count, emb_dim=16, device=device)"
   ]
  },
  {
   "cell_type": "code",
   "execution_count": 10,
   "metadata": {
    "scrolled": true
   },
   "outputs": [
    {
     "name": "stderr",
     "output_type": "stream",
     "text": [
      "  0%|          | 0/25 [00:00<?, ?it/s]"
     ]
    },
    {
     "name": "stdout",
     "output_type": "stream",
     "text": [
      "Epoch 0  batch 0 Loss 47.876045\n",
      "Epoch 0  batch 100 Loss 46.297306\n",
      "Epoch 0  batch 200 Loss 44.809227\n",
      "Epoch 0  batch 300 Loss 43.757381\n",
      "Epoch 0  batch 400 Loss 42.301041\n"
     ]
    },
    {
     "name": "stderr",
     "output_type": "stream",
     "text": [
      "  4%|▍         | 1/25 [00:04<01:45,  4.41s/it]"
     ]
    },
    {
     "name": "stdout",
     "output_type": "stream",
     "text": [
      "Epoch 0  batch 500 Loss 40.619095\n",
      "Epoch 1  batch 0 Loss 40.321259\n",
      "Epoch 1  batch 100 Loss 39.030857\n",
      "Epoch 1  batch 200 Loss 37.693970\n",
      "Epoch 1  batch 300 Loss 36.084736\n",
      "Epoch 1  batch 400 Loss 34.717056\n"
     ]
    },
    {
     "name": "stderr",
     "output_type": "stream",
     "text": [
      "  8%|▊         | 2/25 [00:08<01:41,  4.40s/it]"
     ]
    },
    {
     "name": "stdout",
     "output_type": "stream",
     "text": [
      "Epoch 1  batch 500 Loss 33.722275\n",
      "Epoch 2  batch 0 Loss 33.078110\n",
      "Epoch 2  batch 100 Loss 31.384113\n",
      "Epoch 2  batch 200 Loss 30.421284\n",
      "Epoch 2  batch 300 Loss 28.618450\n",
      "Epoch 2  batch 400 Loss 27.911922\n"
     ]
    },
    {
     "name": "stderr",
     "output_type": "stream",
     "text": [
      " 12%|█▏        | 3/25 [00:13<01:37,  4.43s/it]"
     ]
    },
    {
     "name": "stdout",
     "output_type": "stream",
     "text": [
      "Epoch 2  batch 500 Loss 25.978275\n",
      "Epoch 3  batch 0 Loss 25.101763\n",
      "Epoch 3  batch 100 Loss 25.148193\n",
      "Epoch 3  batch 200 Loss 23.873272\n",
      "Epoch 3  batch 300 Loss 21.768644\n",
      "Epoch 3  batch 400 Loss 21.124874\n"
     ]
    },
    {
     "name": "stderr",
     "output_type": "stream",
     "text": [
      " 16%|█▌        | 4/25 [00:17<01:32,  4.41s/it]"
     ]
    },
    {
     "name": "stdout",
     "output_type": "stream",
     "text": [
      "Epoch 3  batch 500 Loss 19.724022\n",
      "Epoch 4  batch 0 Loss 19.263872\n",
      "Epoch 4  batch 100 Loss 18.599833\n",
      "Epoch 4  batch 200 Loss 18.078346\n",
      "Epoch 4  batch 300 Loss 16.827991\n",
      "Epoch 4  batch 400 Loss 16.422577\n"
     ]
    },
    {
     "name": "stderr",
     "output_type": "stream",
     "text": [
      " 20%|██        | 5/25 [00:22<01:27,  4.39s/it]"
     ]
    },
    {
     "name": "stdout",
     "output_type": "stream",
     "text": [
      "Epoch 4  batch 500 Loss 15.283034\n",
      "Epoch 5  batch 0 Loss 14.555704\n",
      "Epoch 5  batch 100 Loss 14.466606\n",
      "Epoch 5  batch 200 Loss 13.963898\n",
      "Epoch 5  batch 300 Loss 13.275808\n",
      "Epoch 5  batch 400 Loss 13.293684\n"
     ]
    },
    {
     "name": "stderr",
     "output_type": "stream",
     "text": [
      " 24%|██▍       | 6/25 [00:26<01:23,  4.39s/it]"
     ]
    },
    {
     "name": "stdout",
     "output_type": "stream",
     "text": [
      "Epoch 5  batch 500 Loss 11.786094\n",
      "Epoch 6  batch 0 Loss 11.431938\n",
      "Epoch 6  batch 100 Loss 11.136173\n",
      "Epoch 6  batch 200 Loss 10.006443\n",
      "Epoch 6  batch 300 Loss 11.009378\n",
      "Epoch 6  batch 400 Loss 8.852017\n"
     ]
    },
    {
     "name": "stderr",
     "output_type": "stream",
     "text": [
      " 28%|██▊       | 7/25 [00:30<01:18,  4.38s/it]"
     ]
    },
    {
     "name": "stdout",
     "output_type": "stream",
     "text": [
      "Epoch 6  batch 500 Loss 8.974162\n",
      "Epoch 7  batch 0 Loss 9.113407\n",
      "Epoch 7  batch 100 Loss 8.366033\n",
      "Epoch 7  batch 200 Loss 7.566897\n",
      "Epoch 7  batch 300 Loss 7.717204\n",
      "Epoch 7  batch 400 Loss 7.377074\n"
     ]
    },
    {
     "name": "stderr",
     "output_type": "stream",
     "text": [
      " 32%|███▏      | 8/25 [00:35<01:14,  4.38s/it]"
     ]
    },
    {
     "name": "stdout",
     "output_type": "stream",
     "text": [
      "Epoch 7  batch 500 Loss 7.698540\n",
      "Epoch 8  batch 0 Loss 7.258582\n",
      "Epoch 8  batch 100 Loss 6.911578\n",
      "Epoch 8  batch 200 Loss 5.959703\n",
      "Epoch 8  batch 300 Loss 6.338947\n",
      "Epoch 8  batch 400 Loss 5.558129\n"
     ]
    },
    {
     "name": "stderr",
     "output_type": "stream",
     "text": [
      " 36%|███▌      | 9/25 [00:39<01:10,  4.38s/it]"
     ]
    },
    {
     "name": "stdout",
     "output_type": "stream",
     "text": [
      "Epoch 8  batch 500 Loss 5.636425\n",
      "Epoch 9  batch 0 Loss 5.926168\n",
      "Epoch 9  batch 100 Loss 5.019272\n",
      "Epoch 9  batch 200 Loss 4.909796\n",
      "Epoch 9  batch 300 Loss 4.924797\n",
      "Epoch 9  batch 400 Loss 4.208258\n"
     ]
    },
    {
     "name": "stderr",
     "output_type": "stream",
     "text": [
      " 40%|████      | 10/25 [00:43<01:05,  4.38s/it]"
     ]
    },
    {
     "name": "stdout",
     "output_type": "stream",
     "text": [
      "Epoch 9  batch 500 Loss 4.510616\n",
      "Epoch 10  batch 0 Loss 4.068588\n",
      "Epoch 10  batch 100 Loss 4.376233\n",
      "Epoch 10  batch 200 Loss 4.120131\n",
      "Epoch 10  batch 300 Loss 4.244473\n",
      "Epoch 10  batch 400 Loss 3.913886\n"
     ]
    },
    {
     "name": "stderr",
     "output_type": "stream",
     "text": [
      " 44%|████▍     | 11/25 [00:48<01:01,  4.39s/it]"
     ]
    },
    {
     "name": "stdout",
     "output_type": "stream",
     "text": [
      "Epoch 10  batch 500 Loss 3.669639\n",
      "Epoch 11  batch 0 Loss 3.471772\n",
      "Epoch 11  batch 100 Loss 3.644150\n",
      "Epoch 11  batch 200 Loss 3.425099\n",
      "Epoch 11  batch 300 Loss 3.365741\n",
      "Epoch 11  batch 400 Loss 2.868583\n"
     ]
    },
    {
     "name": "stderr",
     "output_type": "stream",
     "text": [
      " 48%|████▊     | 12/25 [00:52<00:57,  4.39s/it]"
     ]
    },
    {
     "name": "stdout",
     "output_type": "stream",
     "text": [
      "Epoch 11  batch 500 Loss 2.912651\n",
      "Epoch 12  batch 0 Loss 3.248083\n",
      "Epoch 12  batch 100 Loss 2.586484\n",
      "Epoch 12  batch 200 Loss 3.028245\n",
      "Epoch 12  batch 300 Loss 2.819515\n",
      "Epoch 12  batch 400 Loss 2.677786\n"
     ]
    },
    {
     "name": "stderr",
     "output_type": "stream",
     "text": [
      " 52%|█████▏    | 13/25 [00:57<00:52,  4.40s/it]"
     ]
    },
    {
     "name": "stdout",
     "output_type": "stream",
     "text": [
      "Epoch 12  batch 500 Loss 2.593118\n",
      "Epoch 13  batch 0 Loss 2.658335\n",
      "Epoch 13  batch 100 Loss 2.224199\n",
      "Epoch 13  batch 200 Loss 2.425684\n",
      "Epoch 13  batch 300 Loss 2.289432\n",
      "Epoch 13  batch 400 Loss 2.422141\n"
     ]
    },
    {
     "name": "stderr",
     "output_type": "stream",
     "text": [
      " 56%|█████▌    | 14/25 [01:01<00:48,  4.40s/it]"
     ]
    },
    {
     "name": "stdout",
     "output_type": "stream",
     "text": [
      "Epoch 13  batch 500 Loss 2.959134\n",
      "Epoch 14  batch 0 Loss 1.911575\n",
      "Epoch 14  batch 100 Loss 2.241442\n",
      "Epoch 14  batch 200 Loss 1.961353\n",
      "Epoch 14  batch 300 Loss 1.742124\n",
      "Epoch 14  batch 400 Loss 2.303896\n"
     ]
    },
    {
     "name": "stderr",
     "output_type": "stream",
     "text": [
      " 60%|██████    | 15/25 [01:05<00:44,  4.42s/it]"
     ]
    },
    {
     "name": "stdout",
     "output_type": "stream",
     "text": [
      "Epoch 14  batch 500 Loss 1.988858\n",
      "Epoch 15  batch 0 Loss 1.711657\n",
      "Epoch 15  batch 100 Loss 2.109929\n",
      "Epoch 15  batch 200 Loss 1.937734\n",
      "Epoch 15  batch 300 Loss 2.044746\n",
      "Epoch 15  batch 400 Loss 1.917965\n"
     ]
    },
    {
     "name": "stderr",
     "output_type": "stream",
     "text": [
      " 64%|██████▍   | 16/25 [01:10<00:39,  4.41s/it]"
     ]
    },
    {
     "name": "stdout",
     "output_type": "stream",
     "text": [
      "Epoch 15  batch 500 Loss 1.581614\n",
      "Epoch 16  batch 0 Loss 1.777126\n",
      "Epoch 16  batch 100 Loss 1.534860\n",
      "Epoch 16  batch 200 Loss 1.518952\n",
      "Epoch 16  batch 300 Loss 1.777728\n",
      "Epoch 16  batch 400 Loss 1.510426\n"
     ]
    },
    {
     "name": "stderr",
     "output_type": "stream",
     "text": [
      " 68%|██████▊   | 17/25 [01:14<00:35,  4.41s/it]"
     ]
    },
    {
     "name": "stdout",
     "output_type": "stream",
     "text": [
      "Epoch 16  batch 500 Loss 1.777885\n",
      "Epoch 17  batch 0 Loss 1.446432\n",
      "Epoch 17  batch 100 Loss 1.558882\n",
      "Epoch 17  batch 200 Loss 1.427826\n",
      "Epoch 17  batch 300 Loss 1.414801\n",
      "Epoch 17  batch 400 Loss 1.535624\n"
     ]
    },
    {
     "name": "stderr",
     "output_type": "stream",
     "text": [
      " 72%|███████▏  | 18/25 [01:19<00:30,  4.41s/it]"
     ]
    },
    {
     "name": "stdout",
     "output_type": "stream",
     "text": [
      "Epoch 17  batch 500 Loss 1.595964\n",
      "Epoch 18  batch 0 Loss 1.196483\n",
      "Epoch 18  batch 100 Loss 1.475512\n",
      "Epoch 18  batch 200 Loss 1.422692\n",
      "Epoch 18  batch 300 Loss 1.331934\n",
      "Epoch 18  batch 400 Loss 1.576143\n"
     ]
    },
    {
     "name": "stderr",
     "output_type": "stream",
     "text": [
      " 76%|███████▌  | 19/25 [01:23<00:26,  4.40s/it]"
     ]
    },
    {
     "name": "stdout",
     "output_type": "stream",
     "text": [
      "Epoch 18  batch 500 Loss 1.343199\n",
      "Epoch 19  batch 0 Loss 1.442660\n",
      "Epoch 19  batch 100 Loss 1.246768\n",
      "Epoch 19  batch 200 Loss 1.278911\n",
      "Epoch 19  batch 300 Loss 1.363920\n",
      "Epoch 19  batch 400 Loss 1.286934\n"
     ]
    },
    {
     "name": "stderr",
     "output_type": "stream",
     "text": [
      " 80%|████████  | 20/25 [01:27<00:21,  4.40s/it]"
     ]
    },
    {
     "name": "stdout",
     "output_type": "stream",
     "text": [
      "Epoch 19  batch 500 Loss 1.285917\n",
      "Epoch 20  batch 0 Loss 1.182869\n",
      "Epoch 20  batch 100 Loss 1.337166\n",
      "Epoch 20  batch 200 Loss 1.121328\n",
      "Epoch 20  batch 300 Loss 1.382246\n",
      "Epoch 20  batch 400 Loss 1.169829\n"
     ]
    },
    {
     "name": "stderr",
     "output_type": "stream",
     "text": [
      " 84%|████████▍ | 21/25 [01:32<00:17,  4.39s/it]"
     ]
    },
    {
     "name": "stdout",
     "output_type": "stream",
     "text": [
      "Epoch 20  batch 500 Loss 1.113256\n",
      "Epoch 21  batch 0 Loss 1.206871\n",
      "Epoch 21  batch 100 Loss 1.095086\n",
      "Epoch 21  batch 200 Loss 1.168304\n",
      "Epoch 21  batch 300 Loss 1.162098\n",
      "Epoch 21  batch 400 Loss 1.155327\n"
     ]
    },
    {
     "name": "stderr",
     "output_type": "stream",
     "text": [
      " 88%|████████▊ | 22/25 [01:36<00:13,  4.40s/it]"
     ]
    },
    {
     "name": "stdout",
     "output_type": "stream",
     "text": [
      "Epoch 21  batch 500 Loss 1.036066\n",
      "Epoch 22  batch 0 Loss 0.977636\n",
      "Epoch 22  batch 100 Loss 1.065119\n",
      "Epoch 22  batch 200 Loss 1.022006\n",
      "Epoch 22  batch 300 Loss 1.207821\n",
      "Epoch 22  batch 400 Loss 1.244359\n"
     ]
    },
    {
     "name": "stderr",
     "output_type": "stream",
     "text": [
      " 92%|█████████▏| 23/25 [01:41<00:08,  4.40s/it]"
     ]
    },
    {
     "name": "stdout",
     "output_type": "stream",
     "text": [
      "Epoch 22  batch 500 Loss 0.951764\n",
      "Epoch 23  batch 0 Loss 1.140992\n",
      "Epoch 23  batch 100 Loss 1.215940\n",
      "Epoch 23  batch 200 Loss 1.235320\n",
      "Epoch 23  batch 300 Loss 1.137604\n",
      "Epoch 23  batch 400 Loss 0.996488\n"
     ]
    },
    {
     "name": "stderr",
     "output_type": "stream",
     "text": [
      " 96%|█████████▌| 24/25 [01:45<00:04,  4.40s/it]"
     ]
    },
    {
     "name": "stdout",
     "output_type": "stream",
     "text": [
      "Epoch 23  batch 500 Loss 1.014160\n",
      "Epoch 24  batch 0 Loss 1.038651\n",
      "Epoch 24  batch 100 Loss 0.979999\n",
      "Epoch 24  batch 200 Loss 1.131921\n",
      "Epoch 24  batch 300 Loss 1.186720\n",
      "Epoch 24  batch 400 Loss 0.960696\n"
     ]
    },
    {
     "name": "stderr",
     "output_type": "stream",
     "text": [
      "100%|██████████| 25/25 [01:49<00:00,  4.40s/it]"
     ]
    },
    {
     "name": "stdout",
     "output_type": "stream",
     "text": [
      "Epoch 24  batch 500 Loss 1.029344\n"
     ]
    },
    {
     "name": "stderr",
     "output_type": "stream",
     "text": [
      "\n"
     ]
    },
    {
     "data": {
      "image/png": "[encoded data removed]",
      "text/plain": [
       "<Figure size 432x288 with 1 Axes>"
      ]
     },
     "metadata": {
      "needs_background": "light"
     },
     "output_type": "display_data"
    }
   ],
   "source": [
    "model.train_model(x_pos,x_neg, batch_size=256, epochs=25)"
   ]
  },
  {
   "cell_type": "code",
   "execution_count": 12,
   "metadata": {},
   "outputs": [],
   "source": [
    "model.model.mode='test'"
   ]
  },
  {
   "cell_type": "code",
   "execution_count": 20,
   "metadata": {},
   "outputs": [
    {
     "data": {
      "image/png": "[encoded data removed]",
      "text/plain": [
       "<Figure size 432x288 with 1 Axes>"
      ]
     },
     "metadata": {
      "needs_background": "light"
     },
     "output_type": "display_data"
    }
   ],
   "source": [
    "test_df = pd.read_csv( './../generated_data_v1/us_import1/stage_2/test_normal_data.csv', index_col=None )\n",
    "ID_COL = 'PanjivaRecordID'\n",
    "id_list = test_df[ID_COL].values.tolist()\n",
    "del test_df[ID_COL]\n",
    "test_x = test_df.values\n",
    "scores_1 = model.score_samples(test_x)\n",
    "\n",
    "\n",
    "test_df_p = pd.read_csv( './../generated_data_v1/us_import1/stage_2/test_pos_data.csv', index_col=None )\n",
    "id_list = test_df_p[ID_COL].values.tolist()\n",
    "del test_df_p[ID_COL]\n",
    "test_xp = test_df_p.values\n",
    "scores_2 = np.array(model.score_samples(test_xp))-0.25\n",
    "\n",
    "test_df_n = pd.read_csv( './../generated_data_v1/us_import1/stage_2/test_neg_data.csv', index_col=None )\n",
    "id_list = test_df_n[ID_COL].values.tolist()\n",
    "del test_df_n[ID_COL]\n",
    "test_xn = test_df_n.values\n",
    "scores_3 = np.array(model.score_samples(test_xn))-0.25 \n",
    "\n",
    "\n",
    "data = [np.random.normal(0, std, 1000) for std in range(1, 6)]\n",
    "box = plt.boxplot([scores_1,scores_2,scores_3], notch=True, patch_artist=True)\n",
    "colors = ['cyan', 'pink', 'lightgreen']\n",
    "for patch, color in zip(box['boxes'], colors):\n",
    "    patch.set_facecolor(color)\n",
    "plt.show()"
   ]
  },
  {
   "cell_type": "code",
   "execution_count": null,
   "metadata": {},
   "outputs": [],
   "source": []
  }
 ],
 "metadata": {
  "kernelspec": {
   "display_name": "Python 3",
   "language": "python",
   "name": "python3"
  },
  "language_info": {
   "codemirror_mode": {
    "name": "ipython",
    "version": 3
   },
   "file_extension": ".py",
   "mimetype": "text/x-python",
   "name": "python",
   "nbconvert_exporter": "python",
   "pygments_lexer": "ipython3",
   "version": "3.7.9"
  }
 },
 "nbformat": 4,
 "nbformat_minor": 4
}
