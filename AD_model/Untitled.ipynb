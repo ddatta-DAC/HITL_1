{
 "cells": [
  {
   "cell_type": "code",
   "execution_count": 1,
   "metadata": {},
   "outputs": [],
   "source": [
    "import os\n",
    "import torch\n",
    "import pandas as pd\n",
    "import numpy as np\n",
    "import model_AD_1 as AD\n",
    "import pickle\n",
    "\n",
    "%load_ext autoreload\n",
    "%autoreload 2\n",
    "import matplotlib.pyplot as plt "
   ]
  },
  {
   "cell_type": "code",
   "execution_count": 2,
   "metadata": {},
   "outputs": [],
   "source": [
    "import torch \n",
    "device = torch.device(\"cuda\" if torch.cuda.is_available() else \"cpu\")"
   ]
  },
  {
   "cell_type": "code",
   "execution_count": 3,
   "metadata": {},
   "outputs": [],
   "source": [
    "x_pos = np.load('./../generated_data_v1/us_import1/stage_2/train_x_pos.npy')\n",
    "x_neg = np.load('./../generated_data_v1/us_import1/stage_2/train_x_neg.npy')"
   ]
  },
  {
   "cell_type": "code",
   "execution_count": 4,
   "metadata": {},
   "outputs": [],
   "source": [
    "x_neg = x_neg.reshape([x_pos.shape[0], -1 , x_pos.shape[1]])"
   ]
  },
  {
   "cell_type": "code",
   "execution_count": 5,
   "metadata": {},
   "outputs": [],
   "source": [
    "with open('./../generated_data_v1/us_import1/domain_dims.pkl','rb')  as fh:\n",
    "    domain_dims= pickle.load(fh)\n",
    "    "
   ]
  },
  {
   "cell_type": "code",
   "execution_count": 6,
   "metadata": {},
   "outputs": [],
   "source": [
    "total_entity_count = sum(domain_dims.values())"
   ]
  },
  {
   "cell_type": "code",
   "execution_count": 7,
   "metadata": {},
   "outputs": [],
   "source": [
    "model = AD.AD_model_container(total_entity_count, emb_dim=16, device=device)"
   ]
  },
  {
   "cell_type": "code",
   "execution_count": 10,
   "metadata": {
    "scrolled": true
   },
   "outputs": [
    {
     "name": "stderr",
     "output_type": "stream",
     "text": [
      "  0%|          | 0/10 [00:00<?, ?it/s]"
     ]
    },
    {
     "name": "stdout",
     "output_type": "stream",
     "text": [
      "Epoch 0  batch 0 Loss 1.355132\n",
      "Epoch 0  batch 100 Loss 1.280946\n",
      "Epoch 0  batch 200 Loss 1.422220\n",
      "Epoch 0  batch 300 Loss 1.266125\n"
     ]
    },
    {
     "name": "stderr",
     "output_type": "stream",
     "text": [
      " 10%|█         | 1/10 [00:03<00:30,  3.42s/it]"
     ]
    },
    {
     "name": "stdout",
     "output_type": "stream",
     "text": [
      "Epoch 1  batch 0 Loss 1.333574\n",
      "Epoch 1  batch 100 Loss 1.287990\n",
      "Epoch 1  batch 200 Loss 1.261694\n",
      "Epoch 1  batch 300 Loss 1.131170\n"
     ]
    },
    {
     "name": "stderr",
     "output_type": "stream",
     "text": [
      " 20%|██        | 2/10 [00:06<00:27,  3.42s/it]"
     ]
    },
    {
     "name": "stdout",
     "output_type": "stream",
     "text": [
      "Epoch 2  batch 0 Loss 1.158458\n",
      "Epoch 2  batch 100 Loss 1.126985\n",
      "Epoch 2  batch 200 Loss 1.298704\n",
      "Epoch 2  batch 300 Loss 1.131853\n"
     ]
    },
    {
     "name": "stderr",
     "output_type": "stream",
     "text": [
      " 30%|███       | 3/10 [00:10<00:23,  3.41s/it]"
     ]
    },
    {
     "name": "stdout",
     "output_type": "stream",
     "text": [
      "Epoch 3  batch 0 Loss 1.084743\n",
      "Epoch 3  batch 100 Loss 1.212677\n",
      "Epoch 3  batch 200 Loss 1.045525\n",
      "Epoch 3  batch 300 Loss 1.036660\n"
     ]
    },
    {
     "name": "stderr",
     "output_type": "stream",
     "text": [
      " 40%|████      | 4/10 [00:13<00:20,  3.41s/it]"
     ]
    },
    {
     "name": "stdout",
     "output_type": "stream",
     "text": [
      "Epoch 4  batch 0 Loss 1.039543\n",
      "Epoch 4  batch 100 Loss 1.104196\n",
      "Epoch 4  batch 200 Loss 1.134008\n",
      "Epoch 4  batch 300 Loss 1.036278\n"
     ]
    },
    {
     "name": "stderr",
     "output_type": "stream",
     "text": [
      " 50%|█████     | 5/10 [00:17<00:17,  3.41s/it]"
     ]
    },
    {
     "name": "stdout",
     "output_type": "stream",
     "text": [
      "Epoch 5  batch 0 Loss 1.047375\n",
      "Epoch 5  batch 100 Loss 0.976267\n",
      "Epoch 5  batch 200 Loss 1.055885\n",
      "Epoch 5  batch 300 Loss 1.010938\n"
     ]
    },
    {
     "name": "stderr",
     "output_type": "stream",
     "text": [
      " 60%|██████    | 6/10 [00:20<00:13,  3.41s/it]"
     ]
    },
    {
     "name": "stdout",
     "output_type": "stream",
     "text": [
      "Epoch 6  batch 0 Loss 0.967529\n",
      "Epoch 6  batch 100 Loss 0.995669\n",
      "Epoch 6  batch 200 Loss 1.008939\n",
      "Epoch 6  batch 300 Loss 1.026317\n"
     ]
    },
    {
     "name": "stderr",
     "output_type": "stream",
     "text": [
      " 70%|███████   | 7/10 [00:23<00:10,  3.40s/it]"
     ]
    },
    {
     "name": "stdout",
     "output_type": "stream",
     "text": [
      "Epoch 7  batch 0 Loss 0.968004\n",
      "Epoch 7  batch 100 Loss 0.946601\n",
      "Epoch 7  batch 200 Loss 1.022602\n",
      "Epoch 7  batch 300 Loss 0.966856\n"
     ]
    },
    {
     "name": "stderr",
     "output_type": "stream",
     "text": [
      " 80%|████████  | 8/10 [00:27<00:06,  3.41s/it]"
     ]
    },
    {
     "name": "stdout",
     "output_type": "stream",
     "text": [
      "Epoch 8  batch 0 Loss 0.973035\n",
      "Epoch 8  batch 100 Loss 0.947657\n",
      "Epoch 8  batch 200 Loss 0.942719\n",
      "Epoch 8  batch 300 Loss 0.948619\n"
     ]
    },
    {
     "name": "stderr",
     "output_type": "stream",
     "text": [
      " 90%|█████████ | 9/10 [00:30<00:03,  3.41s/it]"
     ]
    },
    {
     "name": "stdout",
     "output_type": "stream",
     "text": [
      "Epoch 9  batch 0 Loss 0.948291\n",
      "Epoch 9  batch 100 Loss 1.009460\n",
      "Epoch 9  batch 200 Loss 0.941273\n",
      "Epoch 9  batch 300 Loss 0.953724\n"
     ]
    },
    {
     "name": "stderr",
     "output_type": "stream",
     "text": [
      "100%|██████████| 10/10 [00:34<00:00,  3.41s/it]\n"
     ]
    },
    {
     "data": {
      "image/png": "[encoded data removed]",
      "text/plain": [
       "<Figure size 432x288 with 1 Axes>"
      ]
     },
     "metadata": {
      "needs_background": "light"
     },
     "output_type": "display_data"
    }
   ],
   "source": [
    "model.train_model(x_pos,x_neg, batch_size=128, epochs=10)"
   ]
  },
  {
   "cell_type": "code",
   "execution_count": 11,
   "metadata": {},
   "outputs": [],
   "source": [
    "model.model.mode='test'"
   ]
  },
  {
   "cell_type": "code",
   "execution_count": 13,
   "metadata": {},
   "outputs": [
    {
     "data": {
      "image/png": "[encoded data removed]",
      "text/plain": [
       "<Figure size 432x288 with 1 Axes>"
      ]
     },
     "metadata": {
      "needs_background": "light"
     },
     "output_type": "display_data"
    }
   ],
   "source": [
    "test_df = pd.read_csv( './../generated_data_v1/us_import1/stage_2/test_normal_serialized.csv', index_col=None )\n",
    "ID_COL = 'PanjivaRecordID'\n",
    "id_list_normal = test_df[ID_COL].values.tolist()\n",
    "del test_df[ID_COL]\n",
    "test_x = test_df.values\n",
    "scores_1 = model.score_samples(test_x)\n",
    "\n",
    "test_df_p = pd.read_csv( './../generated_data_v1/us_import1/stage_2/test_pos_serialized.csv', index_col=None )\n",
    "id_list_p = test_df_p[ID_COL].values.tolist()\n",
    "del test_df_p[ID_COL]\n",
    "test_xp = test_df_p.values\n",
    "scores_2 =  model.score_samples(test_xp)\n",
    "\n",
    "test_df_n = pd.read_csv( './../generated_data_v1/us_import1/stage_2/test_neg_serialized.csv', index_col=None )\n",
    "id_list_n = test_df_n[ID_COL].values.tolist()\n",
    "del test_df_n[ID_COL]\n",
    "test_xn = test_df_n.values\n",
    "scores_3 = model.score_samples(test_xn)\n",
    "\n",
    "\n",
    "data = [np.random.normal(0, std, 1000) for std in range(1, 6)]\n",
    "box = plt.boxplot([scores_1,scores_2,scores_3], notch=True, patch_artist=True)\n",
    "colors = ['cyan', 'pink', 'lightgreen']\n",
    "for patch, color in zip(box['boxes'], colors):\n",
    "    patch.set_facecolor(color)\n",
    "plt.show()"
   ]
  },
  {
   "cell_type": "code",
   "execution_count": 14,
   "metadata": {},
   "outputs": [],
   "source": [
    "label_list_normal = [0 for _ in  range(len(scores_1))]\n",
    "label_list_p = [1 for _ in range(len(scores_2))]\n",
    "label_list_n = [-1 for _ in range(len(scores_2))]\n",
    "scores = scores_1 + scores_2 + scores_3"
   ]
  },
  {
   "cell_type": "code",
   "execution_count": 15,
   "metadata": {},
   "outputs": [],
   "source": [
    "labels = label_list_normal + label_list_p + label_list_n"
   ]
  },
  {
   "cell_type": "code",
   "execution_count": 16,
   "metadata": {},
   "outputs": [],
   "source": [
    "data = { 'label': labels, 'score' : scores}\n",
    "df = pd.DataFrame(data)"
   ]
  },
  {
   "cell_type": "code",
   "execution_count": 17,
   "metadata": {},
   "outputs": [],
   "source": [
    "df = df.sort_values(by='score')"
   ]
  },
  {
   "cell_type": "code",
   "execution_count": 18,
   "metadata": {},
   "outputs": [],
   "source": [
    "tmp = df.head(1000)\n",
    "tmp = tmp.loc[tmp['label']!=0]"
   ]
  },
  {
   "cell_type": "code",
   "execution_count": 20,
   "metadata": {},
   "outputs": [
    {
     "data": {
      "text/plain": [
       "802"
      ]
     },
     "execution_count": 20,
     "metadata": {},
     "output_type": "execute_result"
    }
   ],
   "source": [
    "len(tmp)"
   ]
  },
  {
   "cell_type": "code",
   "execution_count": null,
   "metadata": {},
   "outputs": [],
   "source": []
  }
 ],
 "metadata": {
  "kernelspec": {
   "display_name": "Python 3",
   "language": "python",
   "name": "python3"
  },
  "language_info": {
   "codemirror_mode": {
    "name": "ipython",
    "version": 3
   },
   "file_extension": ".py",
   "mimetype": "text/x-python",
   "name": "python",
   "nbconvert_exporter": "python",
   "pygments_lexer": "ipython3",
   "version": "3.7.9"
  }
 },
 "nbformat": 4,
 "nbformat_minor": 4
}
