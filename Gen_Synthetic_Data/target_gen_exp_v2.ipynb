{
 "cells": [
  {
   "cell_type": "code",
   "execution_count": 18,
   "metadata": {},
   "outputs": [
    {
     "name": "stdout",
     "output_type": "stream",
     "text": [
      "INFO: Pandarallel will run on 40 workers.\n",
      "INFO: Pandarallel will use Memory file system to transfer data between the main process and workers.\n"
     ]
    }
   ],
   "source": [
    "import pandas as pd\n",
    "import numpy as np\n",
    "import os\n",
    "import sys\n",
    "from  networkx import bipartite\n",
    "sys.path.append('./../..')\n",
    "sys.path.append('./..')\n",
    "import glob\n",
    "from tqdm import tqdm\n",
    "import joblib\n",
    "from joblib import Parallel, delayed\n",
    "from pandarallel import pandarallel\n",
    "from gensim.models import KeyedVectors\n",
    "import multiprocessing as mp\n",
    "pandarallel.initialize()\n",
    "import re\n",
    "from IPython.core.display import display, HTML\n",
    "import yaml\n",
    "from sklearn.preprocessing import LabelEncoder\n",
    "import sys\n",
    "sys.path.append('./..')\n",
    "sys.path.append('./../..')\n",
    "from common_utils import utils\n",
    "from collections import Counter\n",
    "import pickle\n",
    "import matplotlib.pyplot as plt\n",
    "import seaborn as sns\n",
    "from multiprocessing import Pool\n",
    "import time\n",
    "import itertools\n",
    "import matplotlib.pyplot as plt\n",
    "import networkx as nx\n",
    "id_col = 'PanjivaRecordID'\n",
    "import networkx as nx\n",
    "import operator\n",
    "import collections\n",
    "import argparse\n",
    "from networkx.algorithms import community"
   ]
  },
  {
   "cell_type": "code",
   "execution_count": 114,
   "metadata": {},
   "outputs": [],
   "source": [
    "config_ANOM_PERC = 1\n",
    "config_MULTIPLICATIVE = 3"
   ]
  },
  {
   "cell_type": "code",
   "execution_count": 2,
   "metadata": {},
   "outputs": [],
   "source": [
    "CONFIG = None\n",
    "DIR_LOC = None\n",
    "CONFIG = None\n",
    "CONFIG_FILE = 'config.yaml'\n",
    "save_dir = None\n",
    "id_col = 'PanjivaRecordID'\n",
    "use_cols = None\n",
    "freq_bound = None\n",
    "attribute_columns = None\n",
    "DIR = None\n",
    "CUT_OFF = None"
   ]
  },
  {
   "cell_type": "code",
   "execution_count": 3,
   "metadata": {},
   "outputs": [],
   "source": [
    "# -------------------\n",
    "# To find Betwenness Centrality\n",
    "# -------------------\n",
    "\n",
    "def chunks(l, n):\n",
    "    \"\"\"Divide a list of nodes `l` in `n` chunks\"\"\"\n",
    "    l_c = iter(l)\n",
    "    while 1:\n",
    "        x = tuple(itertools.islice(l_c, n))\n",
    "        if not x:\n",
    "            return\n",
    "        yield x\n",
    "\n",
    "\n",
    "def betweenness_centrality_parallel(G, processes=None):\n",
    "    \"\"\"Parallel betweenness centrality  function\"\"\"\n",
    "    p = Pool(processes=processes)\n",
    "    node_divisor = len(p._pool) * 4\n",
    "    node_chunks = list(chunks(G.nodes(), int(G.order() / node_divisor)))\n",
    "    num_chunks = len(node_chunks)\n",
    "    bt_sc = p.starmap(\n",
    "        nx.betweenness_centrality_subset,\n",
    "        zip(\n",
    "            [G] * num_chunks,\n",
    "            node_chunks,\n",
    "            [list(G)] * num_chunks,\n",
    "            [True] * num_chunks,\n",
    "            [None] * num_chunks,\n",
    "        ),\n",
    "    )\n",
    "\n",
    "    # Reduce the partial solutions\n",
    "    bt_c = bt_sc[0]\n",
    "    for bt in bt_sc[1:]:\n",
    "        for n in bt:\n",
    "            bt_c[n] += bt[n]\n",
    "    return bt_c\n"
   ]
  },
  {
   "cell_type": "code",
   "execution_count": 4,
   "metadata": {},
   "outputs": [],
   "source": [
    "def set_up_config(_DIR=None):\n",
    "    global DIR\n",
    "    global CONFIG\n",
    "    global CONFIG_FILE\n",
    "    global use_cols\n",
    "    global num_neg_samples\n",
    "    global DATA_SOURCE\n",
    "    global DIR_LOC\n",
    "    global save_dir\n",
    "    global id_col\n",
    "    global attribute_columns\n",
    "\n",
    "    DATA_SOURCE = './../generated_data_v1/'\n",
    "    with open(CONFIG_FILE) as f:\n",
    "        CONFIG = yaml.safe_load(f)\n",
    "\n",
    "    if _DIR is not None:\n",
    "        DIR = _DIR\n",
    "        CONFIG['DIR'] = _DIR\n",
    "    else:\n",
    "        DIR = CONFIG['DIR']\n",
    "\n",
    "    DIR_LOC = re.sub('[0-9]', '', DIR)\n",
    "    DATA_SOURCE = os.path.join(DATA_SOURCE, DIR)\n",
    "    save_dir = '__2'\n",
    "    save_dir = os.path.join(\n",
    "        DATA_SOURCE,\n",
    "        save_dir\n",
    "    )\n",
    "    \n",
    "\n",
    "    if not os.path.exists(save_dir):\n",
    "        os.mkdir(save_dir)\n",
    "\n",
    "    use_cols = CONFIG[DIR]['use_cols']\n",
    "    _cols = list(use_cols)\n",
    "    _cols.remove(id_col)\n",
    "    attribute_columns = list(sorted(_cols))\n",
    "    return"
   ]
  },
  {
   "cell_type": "code",
   "execution_count": 5,
   "metadata": {},
   "outputs": [
    {
     "data": {
      "text/plain": [
       "'./../generated_data_v1/us_import2'"
      ]
     },
     "execution_count": 5,
     "metadata": {},
     "output_type": "execute_result"
    }
   ],
   "source": [
    "DIR = 'us_import2'\n",
    "set_up_config(DIR)\n",
    "DATA_SOURCE"
   ]
  },
  {
   "cell_type": "code",
   "execution_count": null,
   "metadata": {},
   "outputs": [],
   "source": []
  },
  {
   "cell_type": "code",
   "execution_count": 6,
   "metadata": {},
   "outputs": [],
   "source": [
    "df_train = pd.read_csv(\n",
    "    os.path.join(DATA_SOURCE, 'train_data.csv'),\n",
    "    low_memory=False,\n",
    "    index_col=None\n",
    ")"
   ]
  },
  {
   "cell_type": "code",
   "execution_count": 7,
   "metadata": {},
   "outputs": [],
   "source": [
    "df_test = pd.read_csv(\n",
    "    os.path.join(DATA_SOURCE, 'test_data.csv'),\n",
    "    low_memory=False,\n",
    "    index_col=None\n",
    ")"
   ]
  },
  {
   "cell_type": "code",
   "execution_count": null,
   "metadata": {},
   "outputs": [],
   "source": []
  },
  {
   "cell_type": "code",
   "execution_count": 8,
   "metadata": {},
   "outputs": [],
   "source": [
    "def check_degree_distribution(graph_obj):\n",
    "    degree_sequence = sorted([d for n, d in graph_obj.degree()], reverse=True)\n",
    "    try:\n",
    "        plt.title('Boxplot of degree')\n",
    "        plt.boxplot(degree_sequence)\n",
    "        plt.show()\n",
    "    except:\n",
    "        pass\n",
    "    degreeCount = collections.Counter(degree_sequence)\n",
    "    deg, cnt = zip(*degreeCount.items())\n",
    "    try:\n",
    "        fig, ax = plt.subplots()\n",
    "        plt.bar(deg, cnt, width=0.80, color=\"b\")\n",
    "        plt.title(\"Degree Histogram\")\n",
    "        plt.ylabel(\"Count\")\n",
    "        plt.xlabel(\"Degree\")\n",
    "        plt.show()\n",
    "    except:\n",
    "        pass\n",
    "   "
   ]
  },
  {
   "cell_type": "code",
   "execution_count": 9,
   "metadata": {},
   "outputs": [],
   "source": [
    "def get_domain_dims():\n",
    "    global DATA_SOURCE\n",
    "    \n",
    "    dom_dims_path = os.path.join(DATA_SOURCE, 'domain_dims.pkl')\n",
    "    with open(dom_dims_path,'rb') as fh:\n",
    "        domain_dims =  pickle.load(fh)\n",
    "    return domain_dims"
   ]
  },
  {
   "cell_type": "code",
   "execution_count": 10,
   "metadata": {},
   "outputs": [
    {
     "name": "stderr",
     "output_type": "stream",
     "text": [
      "100%|██████████| 8/8 [00:18<00:00,  2.25s/it]\n"
     ]
    }
   ],
   "source": [
    "target_df = utils.convert_to_serializedID_format( target_df = df_train, DIR=DIR, data_source_loc=None,REFRESH=False)"
   ]
  },
  {
   "cell_type": "code",
   "execution_count": 45,
   "metadata": {},
   "outputs": [],
   "source": [
    "main_df = target_df.copy()"
   ]
  },
  {
   "cell_type": "code",
   "execution_count": 11,
   "metadata": {},
   "outputs": [],
   "source": [
    "\n",
    "def build_complete_graph(df):\n",
    "    from itertools import combinations\n",
    "    domain_dims = get_domain_dims()\n",
    "    complete_G =nx.Graph()\n",
    "    edges = [\n",
    "        ['Carrier','ConsigneePanjivaID'],\n",
    "        ['Carrier','HSCode'],\n",
    "        ['Carrier','PortOfLading'],\n",
    "        ['Carrier','PortOfUnlading'],\n",
    "        ['Carrier','ShipperPanjivaID'],\n",
    "        ['ConsigneePanjivaID','HSCode'],\n",
    "        ['ConsigneePanjivaID','PortOfUnlading'],\n",
    "        ['ConsigneePanjivaID','ShipmentDestination'],\n",
    "        ['HSCode','ShipmentDestination'],\n",
    "        ['HSCode','ShipmentOrigin'],\n",
    "        ['HSCode','ShipperPanjivaID'],\n",
    "        ['PortOfLading','ShipmentOrigin'],\n",
    "        ['PortOfLading','ShipperPanjivaID'],\n",
    "        ['PortOfUnlading','ShipmentDestination'],\n",
    "        ['ConsigneePanjivaID','ShipperPanjivaID']\n",
    "    ]\n",
    "    \n",
    "    for i,j in edges:\n",
    "        __tmp__ = df[[i,j]]\n",
    "        __tmp__ = __tmp__.drop_duplicates()\n",
    "        _i = __tmp__[i].values.tolist()\n",
    "        _j = __tmp__[j].values.tolist()\n",
    "        n1_n2 = [ ( a,b)for a,b in zip(_i,_j)]\n",
    "        complete_G.add_edges_from(n1_n2)\n",
    "    return complete_G\n",
    "        \n",
    "complete_G = build_complete_graph(target_df)    "
   ]
  },
  {
   "cell_type": "code",
   "execution_count": 12,
   "metadata": {},
   "outputs": [
    {
     "name": "stderr",
     "output_type": "stream",
     "text": [
      "100%|██████████| 8/8 [00:15<00:00,  1.96s/it]\n"
     ]
    }
   ],
   "source": [
    "df_test = utils.convert_to_serializedID_format( target_df = df_test, DIR=DIR, data_source_loc=None,REFRESH=False)"
   ]
  },
  {
   "cell_type": "code",
   "execution_count": 20,
   "metadata": {},
   "outputs": [],
   "source": [
    "domain_dims = get_domain_dims()\n",
    "entity_type_list = {\n",
    "    d : list(set(target_df[d])) for d in domain_dims.keys()\n",
    "}"
   ]
  },
  {
   "cell_type": "code",
   "execution_count": 13,
   "metadata": {},
   "outputs": [],
   "source": [
    "# import networkx as nx\n",
    "# from node2vec import Node2Vec\n",
    "# graph = complete_G.copy()\n",
    "# node2vec = Node2Vec(graph, dimensions=32, walk_length=10, num_walks=200, workers=mp.cpu_count())"
   ]
  },
  {
   "cell_type": "code",
   "execution_count": 14,
   "metadata": {},
   "outputs": [],
   "source": [
    "# --------------------------------------\n",
    "# Used to get approximate candidates \n",
    "# --------------------------------------\n",
    "def get_n2v_model(G):\n",
    "    global DIR\n",
    "    fname = DIR +'_node2vec'\n",
    "    from nodevectors import Node2Vec\n",
    "    if not os.path.exists(fname + '.zip'):\n",
    "        n2v = Node2Vec()\n",
    "        n2v.fit(G)\n",
    "        \n",
    "        n2v.save(DIR +'_node2vec')\n",
    "       \n",
    "    else:\n",
    "        n2v = Node2Vec.load( fname + '.zip')\n",
    "    return n2v\n"
   ]
  },
  {
   "cell_type": "code",
   "execution_count": 15,
   "metadata": {},
   "outputs": [],
   "source": [
    "n2v = get_n2v_model(complete_G.copy())\n",
    "# Save model to gensim.KeyedVector format\n",
    "n2v.save_vectors(\"{}_n2v_model.bin\".format(DIR))\n",
    "query_model = KeyedVectors.load_word2vec_format(\"{}_n2v_model.bin\".format(DIR))"
   ]
  },
  {
   "cell_type": "code",
   "execution_count": 25,
   "metadata": {
    "jupyter": {
     "source_hidden": true
    }
   },
   "outputs": [],
   "source": [
    "\n",
    "\n",
    "\n"
   ]
  },
  {
   "cell_type": "code",
   "execution_count": 148,
   "metadata": {},
   "outputs": [],
   "source": [
    "# -----------------------------------------------------------\n",
    "# Get ordered list of elements that are approx most dissimilar\n",
    "# ------------------------------------------------------------\n",
    "def query_ordered_dissimilar(ent_id, entity_type, entity_type_list , query_model, exclude_list= None):\n",
    "     \n",
    "    k = int(len(entity_type_list[entity_type]) * .20)\n",
    "    _dict = { e1: query_model.similarity(str(ent_id),str(e1)) for e1 in entity_type_list[entity_type] }\n",
    "    sorted_dict = sorted(_dict.items() ,key=operator.itemgetter(1), reverse=True)\n",
    "    \n",
    "    if exclude_list is not None:\n",
    "        res = [ _[0] for _ in sorted_dict[-k:] if _[0] not in exclude_list]\n",
    "    else:\n",
    "        res = [ _[0] for _ in sorted_dict[-k:] if _[0] ]\n",
    "    return res\n",
    "# Example : query_ordered_dissimilar(75, 'Carrier', entity_type_list , query_model)\n",
    "\n",
    "\n",
    "def query_ordered_similar(ent_id, entity_type, entity_type_list , query_model, exclude_list= None, include_list = None):\n",
    "     \n",
    "    k = int(len(entity_type_list[entity_type]) * .25)\n",
    "    _dict = { e1: query_model.similarity(str(ent_id),str(e1)) for e1 in entity_type_list[entity_type] }\n",
    "    sorted_dict = sorted(_dict.items() ,key=operator.itemgetter(1), reverse=True)\n",
    "    \n",
    "    if exclude_list is not None:\n",
    "        res = [ _[0] for _ in sorted_dict[:k] if _[0] not in exclude_list]\n",
    "    else:\n",
    "        res = [ _[0] for _ in sorted_dict[:k]  ]\n",
    "   \n",
    "    if include_list is not None:\n",
    "        res = [ _ for _ in res if _ in include_list]\n",
    "    else:\n",
    "        res = [ _ for _ in res ]\n",
    "        \n",
    "    return res\n",
    "# Example : query_ordered_similar(75, 'Carrier', entity_type_list , query_model)"
   ]
  },
  {
   "cell_type": "code",
   "execution_count": 57,
   "metadata": {},
   "outputs": [],
   "source": [
    "def get_nonCoOcc(ent_id, e_type, target_e_type):\n",
    "    global main_df\n",
    "    global entity_type_list\n",
    "    \n",
    "    tmp = set(main_df[[e_type, target_e_type]].loc[main_df[e_type]==ent_id][target_e_type].values.tolist())\n",
    "    return list(set(entity_type_list[target_e_type]).difference(tmp))\n",
    "# Example : get_nonCoOcc(45, 'Carrier', 'HSCode'))"
   ]
  },
  {
   "cell_type": "code",
   "execution_count": 44,
   "metadata": {},
   "outputs": [
    {
     "name": "stdout",
     "output_type": "stream",
     "text": [
      ">>  68257\n",
      " IS the bipartite graph of Comapnies connected ?  False\n"
     ]
    }
   ],
   "source": [
    "# \n",
    "# =======================================\n",
    "company_cols = ['ConsigneePanjivaID', 'ShipperPanjivaID']\n",
    "\n",
    "\n",
    "df = target_df.copy()\n",
    "print('>> ', len(df))\n",
    "attributes = [ _ for _ in list(df.columns) if _ not in id_col]\n",
    "df = df.drop_duplicates(subset = attributes)\n",
    "df_subset = df[company_cols].groupby(\n",
    "    company_cols).size().reset_index(\n",
    "    name='count'\n",
    ").sort_values(by='count', ascending=False)\n",
    "\n",
    "\n",
    "\n",
    "# --------------------\n",
    "# Create a bipartite graph\n",
    "# --------------------\n",
    "B = nx.Graph()\n",
    "B.add_nodes_from(set(df_subset['ConsigneePanjivaID'].values), bipartite=0)\n",
    "B.add_nodes_from(set(df_subset['ShipperPanjivaID'].values), bipartite=1)\n",
    "edges = []\n",
    "\n",
    "for i, j, k in zip(df_subset['ConsigneePanjivaID'].values,\n",
    "                   df_subset['ShipperPanjivaID'].values,\n",
    "                   df_subset['count'].values):\n",
    "    edges.append((i, j, {'weight': k}))\n",
    "\n",
    "B.add_edges_from(edges)\n",
    "print(' IS the bipartite graph of Comapnies connected ? ', nx.is_connected(B))"
   ]
  },
  {
   "cell_type": "code",
   "execution_count": null,
   "metadata": {},
   "outputs": [],
   "source": []
  },
  {
   "cell_type": "code",
   "execution_count": null,
   "metadata": {},
   "outputs": [],
   "source": []
  },
  {
   "cell_type": "code",
   "execution_count": 58,
   "metadata": {},
   "outputs": [],
   "source": [
    " \n",
    "def get_largest_component_subgraph(graph_obj):\n",
    "    component_id = 0\n",
    "    components = {}\n",
    "    component_size_dict = {}\n",
    "\n",
    "    for c in nx.connected_components(graph_obj):\n",
    "        components[component_id] = c\n",
    "        component_size_dict[component_id] = len(c) \n",
    "        component_id += 1\n",
    "        \n",
    "    component_size_dict = sorted(component_size_dict.items(), key=operator.itemgetter(1), reverse=True)\n",
    "    # Get the largest connected component\n",
    "    max_component = components[component_size_dict[0][0]]\n",
    "    subgraph = graph_obj.subgraph(max_component)\n",
    "    return subgraph , component_size_dict"
   ]
  },
  {
   "cell_type": "code",
   "execution_count": 59,
   "metadata": {},
   "outputs": [],
   "source": [
    "def get_graph_components(graph_obj):\n",
    "    component_id = 0\n",
    "    components = {}\n",
    "    component_size_dict = {}\n",
    "\n",
    "    for c in nx.connected_components(graph_obj):\n",
    "        components[component_id] = c\n",
    "        component_size_dict[component_id] = len(c) \n",
    "        component_id += 1\n",
    "        \n",
    "    component_size_dict = sorted(component_size_dict.items(), key=operator.itemgetter(1), reverse=True)\n",
    "    \n",
    "    components_dict = []\n",
    "    for i, _size in component_size_dict:\n",
    "        components_dict.append((i, _size,   components[i]))\n",
    "      \n",
    "    return components_dict"
   ]
  },
  {
   "cell_type": "code",
   "execution_count": 60,
   "metadata": {
    "scrolled": true
   },
   "outputs": [],
   "source": [
    "B0, _ = get_largest_component_subgraph(B)"
   ]
  },
  {
   "cell_type": "code",
   "execution_count": 61,
   "metadata": {
    "scrolled": true
   },
   "outputs": [
    {
     "data": {
      "text/plain": [
       "10130"
      ]
     },
     "execution_count": 61,
     "metadata": {},
     "output_type": "execute_result"
    }
   ],
   "source": [
    "B0.number_of_nodes()"
   ]
  },
  {
   "cell_type": "code",
   "execution_count": 62,
   "metadata": {},
   "outputs": [
    {
     "data": {
      "text/plain": [
       "'Name: \\nType: Graph\\nNumber of nodes: 14353\\nNumber of edges: 164768\\nAverage degree:  22.9594'"
      ]
     },
     "execution_count": 62,
     "metadata": {},
     "output_type": "execute_result"
    }
   ],
   "source": [
    "nx.info(complete_G)"
   ]
  },
  {
   "cell_type": "code",
   "execution_count": 64,
   "metadata": {},
   "outputs": [],
   "source": [
    "bt_sorted = betweenness_centrality_parallel(B0)\n",
    "bt_sorted = sorted(bt_sorted.items(), key=operator.itemgetter(1), reverse=True)"
   ]
  },
  {
   "cell_type": "code",
   "execution_count": 65,
   "metadata": {},
   "outputs": [],
   "source": [
    "centrality_d = nx.degree_centrality(B0)\n",
    "centrality_d = sorted(centrality_d.items(), key=operator.itemgetter(1), reverse=True)"
   ]
  },
  {
   "cell_type": "code",
   "execution_count": 81,
   "metadata": {},
   "outputs": [],
   "source": [
    "top_K_companies = set([_[0] for _ in  bt_sorted[:50] + centrality_d[:50]])\n",
    "top_K_companies = list(set(top_K_companies))\n",
    "tmp1 = df.loc[(df['ConsigneePanjivaID'].isin(top_K_companies)) | (df['ShipperPanjivaID'].isin(top_K_companies))].copy()\n",
    "#The set of HS codes that are mostly transacted\n",
    "\n",
    "popular_hscodes = set(tmp1['HSCode'])\n",
    "hscode_degree_dict = {node_hsc : complete_G.degree(node_hsc) for node_hsc in popular_hscodes}\n",
    "K = int(len(hscode_degree_dict)*0.5)\n",
    "top_K_hscodes = [_[0] for _ in sorted(hscode_degree_dict.items() , key = operator.itemgetter(1), reverse=True)][:K]"
   ]
  },
  {
   "cell_type": "code",
   "execution_count": null,
   "metadata": {},
   "outputs": [],
   "source": []
  },
  {
   "cell_type": "code",
   "execution_count": 84,
   "metadata": {},
   "outputs": [],
   "source": [
    "# =====================================\n",
    "# To get community/clusters of nodes ,\n",
    "# We remove some highly visible nodes\n",
    "# =====================================\n",
    "rmv = []\n",
    "K = 1000\n",
    "for sorted_dict in [ bt_sorted, centrality_d]:\n",
    "    rmv.extend( [ _[0] for _ in sorted_dict[:K] ])\n",
    "rmv = list(set(rmv))"
   ]
  },
  {
   "cell_type": "code",
   "execution_count": null,
   "metadata": {
    "scrolled": true
   },
   "outputs": [],
   "source": []
  },
  {
   "cell_type": "code",
   "execution_count": 86,
   "metadata": {},
   "outputs": [
    {
     "name": "stdout",
     "output_type": "stream",
     "text": [
      "22382 10130\n",
      "5942 8738\n"
     ]
    }
   ],
   "source": [
    "B1 = nx.Graph(B0)\n",
    "print(B1.number_of_edges(), B1.number_of_nodes())\n",
    "\n",
    "B1.remove_nodes_from(rmv)\n",
    "print(B1.number_of_edges(), B1.number_of_nodes())"
   ]
  },
  {
   "cell_type": "code",
   "execution_count": 90,
   "metadata": {},
   "outputs": [],
   "source": [
    "max_comp, _components = get_largest_component_subgraph(B1)\n",
    "g_components = get_graph_components(B1)"
   ]
  },
  {
   "cell_type": "code",
   "execution_count": null,
   "metadata": {
    "scrolled": true
   },
   "outputs": [],
   "source": []
  },
  {
   "cell_type": "code",
   "execution_count": 89,
   "metadata": {},
   "outputs": [],
   "source": [
    "set_PoL =  set(df['PortOfLading'])\n",
    "\n",
    "PoL_distances = {}\n",
    "for h in set_PoL:\n",
    "    _dict = {_h:len(nx.shortest_path(complete_G, h,_h))-2 for _h in set_PoL if _h != h }\n",
    "    PoL_distances[h] = sorted(_dict.items(), key = operator.itemgetter(1), reverse=True)"
   ]
  },
  {
   "cell_type": "code",
   "execution_count": null,
   "metadata": {
    "scrolled": true
   },
   "outputs": [],
   "source": [
    "\n"
   ]
  },
  {
   "cell_type": "code",
   "execution_count": 92,
   "metadata": {},
   "outputs": [
    {
     "data": {
      "text/plain": [
       "{'Carrier': 589,\n",
       " 'ConsigneePanjivaID': 5817,\n",
       " 'HSCode': 125,\n",
       " 'PortOfLading': 243,\n",
       " 'PortOfUnlading': 67,\n",
       " 'ShipmentDestination': 126,\n",
       " 'ShipmentOrigin': 115,\n",
       " 'ShipperPanjivaID': 7271}"
      ]
     },
     "execution_count": 92,
     "metadata": {},
     "output_type": "execute_result"
    }
   ],
   "source": [
    "domain_dims = get_domain_dims()\n",
    "domain_dims"
   ]
  },
  {
   "cell_type": "code",
   "execution_count": 112,
   "metadata": {},
   "outputs": [
    {
     "name": "stdout",
     "output_type": "stream",
     "text": [
      "348\n"
     ]
    }
   ],
   "source": [
    "required_length = int(len(df_test)*config_ANOM_PERC/100)\n",
    "print( required_length )"
   ]
  },
  {
   "cell_type": "code",
   "execution_count": 117,
   "metadata": {},
   "outputs": [
    {
     "data": {
      "text/plain": [
       "1.045045045045045"
      ]
     },
     "execution_count": 117,
     "metadata": {},
     "output_type": "execute_result"
    }
   ],
   "source": [
    "348/(111*3)"
   ]
  },
  {
   "cell_type": "code",
   "execution_count": 126,
   "metadata": {
    "scrolled": true
   },
   "outputs": [
    {
     "name": "stdout",
     "output_type": "stream",
     "text": [
      "Valid candidate found\n",
      ">> 116 30 31\n"
     ]
    }
   ],
   "source": [
    "\n",
    "positive_candidate = None\n",
    "subgraph_induced_df_list = []\n",
    "# Leave out the largest community\n",
    "\n",
    "for i in range(1,10):\n",
    "    g = B1.subgraph(g_components[i][-1])\n",
    "    # what are the entity ids ?\n",
    "    \n",
    "    # Omit nodes which have degree 1\n",
    "    _nodes_ = [ _ for _ in g.nodes() if g.degree(_)>1]\n",
    "    tmp_df = df.loc[(df['ConsigneePanjivaID'].isin(_nodes_)) & (df['ShipperPanjivaID'].isin(_nodes_))].copy()\n",
    "\n",
    "    \n",
    "    subgraph_induced_df_list.append(tmp_df)\n",
    "    if (len(tmp_df)* config_MULTIPLICATIVE/ required_length) < 1.1 and (len(tmp_df)*config_MULTIPLICATIVE / required_length) > 0.9 :\n",
    "        print('Valid candidate found')\n",
    "        tmp_df = tmp_df.sample(n = int(required_length/config_MULTIPLICATIVE), replace=True) \n",
    "        print( '>>', tmp_df.shape[0], len(set(tmp_df['ConsigneePanjivaID'])), len(set(tmp_df['ShipperPanjivaID'])))\n",
    "        positive_candidate = tmp_df.copy().reset_index(drop=True)\n",
    "        break"
   ]
  },
  {
   "cell_type": "code",
   "execution_count": 93,
   "metadata": {},
   "outputs": [
    {
     "name": "stdout",
     "output_type": "stream",
     "text": [
      "Name: \n",
      "Type: Graph\n",
      "Number of nodes: 111\n",
      "Number of edges: 125\n",
      "Average degree:   2.2523\n"
     ]
    }
   ],
   "source": [
    "g = B.subgraph(g_components[2][-1])\n",
    "print(nx.info(g))\n",
    "# what are the entity ids ?\n",
    "list_e = list(g.nodes())\n",
    "tmp_df = df.loc[(df['ConsigneePanjivaID'].isin(list_e)) & (df['ShipperPanjivaID'].isin(list_e))].copy()"
   ]
  },
  {
   "cell_type": "code",
   "execution_count": 124,
   "metadata": {},
   "outputs": [
    {
     "data": {
      "text/plain": [
       "{6473, 6488, 6491, 6494, 6496, 6499, 6500, 6512, 6516}"
      ]
     },
     "execution_count": 124,
     "metadata": {},
     "output_type": "execute_result"
    }
   ],
   "source": [
    "set(positive_candidate['HSCode'])\n",
    "query_ordered_dissimilar(ent_id, entity_type, entity_type_list , query_model, exclude_list= None)"
   ]
  },
  {
   "cell_type": "code",
   "execution_count": 233,
   "metadata": {},
   "outputs": [],
   "source": [
    "def generate_aux(cand_df, idx, num_samples, perturb_extra= True):\n",
    "    global df\n",
    "    global query_model\n",
    "    global entity_type_list\n",
    "    global id_col\n",
    "    global domain_dims\n",
    "    print(cand_df.loc[idx])\n",
    "    # Choose the anchor point\n",
    "    a = np.random.uniform()\n",
    "    \n",
    "    if a < 0.5: \n",
    "        company_anchor = 'ConsigneePanjivaID'\n",
    "        domain_set_1 = ('HSCode',  'ShipmentOrigin')\n",
    "        domain_set_2 = ('Carrier', 'PortOfLoading')\n",
    "    else:\n",
    "        company_anchor = 'ShipperPanjivaID'\n",
    "        domain_set_1 = ( 'HSCode', 'ShipmentDestination')\n",
    "        domain_set_2 = ('Carrier', 'PortOfUnlading')\n",
    "    \n",
    "    d_set = domain_set_1\n",
    "    print(d_set)\n",
    "    if perturb_extra:\n",
    "        perturb_columns = [ _ for _ in domain_dims.keys() if _ not in ['ConsigneePanjivaID','ShipperPanjivaID'] + list(d_set) ]\n",
    "        \n",
    "    \n",
    "    comp_ent = cand_df.loc[idx, company_anchor]\n",
    "    a1 = get_nonCoOcc(ent_id=comp_ent, e_type=company_anchor, target_e_type=d_set[0])\n",
    "    a2 = query_ordered_dissimilar(\n",
    "        ent_id = comp_ent, \n",
    "        entity_type = d_set[0], \n",
    "        entity_type_list = entity_type_list,\n",
    "        query_model=query_model,\n",
    "        exclude_list= None)\n",
    "    a3 = list(set(a1).intersection(set(a2)))\n",
    "    \n",
    "    b1 = get_nonCoOcc(ent_id=comp_ent, e_type=company_anchor, target_e_type=d_set[1])\n",
    "    b2 =  query_ordered_dissimilar(\n",
    "            ent_id = comp_ent, \n",
    "            entity_type = d_set[1], \n",
    "            entity_type_list = entity_type_list,\n",
    "            query_model=query_model,\n",
    "            exclude_list= None\n",
    "            )\n",
    "    b3 = set(b1).intersection(set(b2))\n",
    "    \n",
    "    \n",
    "    e1_0 = np.random.choice(a3, size=1, replace=False)[0]\n",
    "    e1_ = query_ordered_similar(\n",
    "        ent_id = e1_0, \n",
    "        entity_type = d_set[0], \n",
    "        entity_type_list = entity_type_list,\n",
    "        query_model=query_model,\n",
    "        exclude_list= [e1_0],\n",
    "        include_list = list(a3)\n",
    "    )\n",
    "    \n",
    "    e1 = [e1_0] + e1_[:num_samples-1]\n",
    "    \n",
    "    e2_0 = np.random.choice(a3, size=1, replace=False)[0]\n",
    "\n",
    "    e2_ = query_ordered_similar(\n",
    "        ent_id = e2_0, \n",
    "        entity_type = d_set[1], \n",
    "        entity_type_list = entity_type_list,\n",
    "        query_model=query_model,\n",
    "        exclude_list= [e2_0],\n",
    "        include_list = list(b3)\n",
    "    )\n",
    "        \n",
    "    e2 = [e2_0] + e2_[:num_samples-1]\n",
    "    print(e1,e2)\n",
    "    res = []\n",
    "    for i in range(num_samples):\n",
    "        row_copy = cand_df.loc[idx].copy()\n",
    "        row_copy[id_col] = int(str(row_copy[id_col]) + '00{}'.format(i+1))\n",
    "        row_copy[d_set[0]]= e1[i]\n",
    "        row_copy[d_set[1]]= e2[i]\n",
    "        _p = np.random.choice(perturb_columns,size=1)[0]\n",
    "        print('>',_p)\n",
    "        row_copy[_p] = np.random.choice(entity_type_list[_p],size=1)[0]\n",
    "        res.append(row_copy)\n",
    "    res = pd.concat(res,axis=1).transpose().reset_index(drop=True)\n",
    "     \n",
    "    return res\n"
   ]
  },
  {
   "cell_type": "code",
   "execution_count": 235,
   "metadata": {},
   "outputs": [
    {
     "name": "stdout",
     "output_type": "stream",
     "text": [
      "PanjivaRecordID        112042092\n",
      "Carrier                      244\n",
      "ConsigneePanjivaID           900\n",
      "HSCode                      6494\n",
      "PortOfLading                6582\n",
      "PortOfUnlading              6789\n",
      "ShipmentDestination         6877\n",
      "ShipmentOrigin              6987\n",
      "ShipperPanjivaID            9738\n",
      "Name: 100, dtype: int64\n",
      "('HSCode', 'ShipmentDestination')\n",
      "[6434, 6475, 6441] [6468, 6902, 6945]\n",
      "> PortOfUnlading\n",
      "> Carrier\n",
      "> PortOfLading\n"
     ]
    },
    {
     "data": {
      "text/html": [
       "<div>\n",
       "<style scoped>\n",
       "    .dataframe tbody tr th:only-of-type {\n",
       "        vertical-align: middle;\n",
       "    }\n",
       "\n",
       "    .dataframe tbody tr th {\n",
       "        vertical-align: top;\n",
       "    }\n",
       "\n",
       "    .dataframe thead th {\n",
       "        text-align: right;\n",
       "    }\n",
       "</style>\n",
       "<table border=\"1\" class=\"dataframe\">\n",
       "  <thead>\n",
       "    <tr style=\"text-align: right;\">\n",
       "      <th></th>\n",
       "      <th>PanjivaRecordID</th>\n",
       "      <th>Carrier</th>\n",
       "      <th>ConsigneePanjivaID</th>\n",
       "      <th>HSCode</th>\n",
       "      <th>PortOfLading</th>\n",
       "      <th>PortOfUnlading</th>\n",
       "      <th>ShipmentDestination</th>\n",
       "      <th>ShipmentOrigin</th>\n",
       "      <th>ShipperPanjivaID</th>\n",
       "    </tr>\n",
       "  </thead>\n",
       "  <tbody>\n",
       "    <tr>\n",
       "      <th>0</th>\n",
       "      <td>112042092001</td>\n",
       "      <td>244</td>\n",
       "      <td>900</td>\n",
       "      <td>6434</td>\n",
       "      <td>6582</td>\n",
       "      <td>6808</td>\n",
       "      <td>6468</td>\n",
       "      <td>6987</td>\n",
       "      <td>9738</td>\n",
       "    </tr>\n",
       "    <tr>\n",
       "      <th>1</th>\n",
       "      <td>112042092002</td>\n",
       "      <td>136</td>\n",
       "      <td>900</td>\n",
       "      <td>6475</td>\n",
       "      <td>6582</td>\n",
       "      <td>6789</td>\n",
       "      <td>6902</td>\n",
       "      <td>6987</td>\n",
       "      <td>9738</td>\n",
       "    </tr>\n",
       "    <tr>\n",
       "      <th>2</th>\n",
       "      <td>112042092003</td>\n",
       "      <td>244</td>\n",
       "      <td>900</td>\n",
       "      <td>6441</td>\n",
       "      <td>6551</td>\n",
       "      <td>6789</td>\n",
       "      <td>6945</td>\n",
       "      <td>6987</td>\n",
       "      <td>9738</td>\n",
       "    </tr>\n",
       "  </tbody>\n",
       "</table>\n",
       "</div>"
      ],
      "text/plain": [
       "   PanjivaRecordID  Carrier  ConsigneePanjivaID  HSCode  PortOfLading  \\\n",
       "0     112042092001      244                 900    6434          6582   \n",
       "1     112042092002      136                 900    6475          6582   \n",
       "2     112042092003      244                 900    6441          6551   \n",
       "\n",
       "   PortOfUnlading  ShipmentDestination  ShipmentOrigin  ShipperPanjivaID  \n",
       "0            6808                 6468            6987              9738  \n",
       "1            6789                 6902            6987              9738  \n",
       "2            6789                 6945            6987              9738  "
      ]
     },
     "execution_count": 235,
     "metadata": {},
     "output_type": "execute_result"
    }
   ],
   "source": [
    "r = generate_aux(cand_df = positive_candidate, idx=100, num_samples=3)\n",
    "r"
   ]
  },
  {
   "cell_type": "code",
   "execution_count": 208,
   "metadata": {},
   "outputs": [
    {
     "data": {
      "text/plain": [
       "587"
      ]
     },
     "execution_count": 208,
     "metadata": {},
     "output_type": "execute_result"
    }
   ],
   "source": [
    "r = get_nonCoOcc(ent_id=4684, e_type='ConsigneePanjivaID', target_e_type='Carrier')\n",
    "len(r)"
   ]
  },
  {
   "cell_type": "code",
   "execution_count": 156,
   "metadata": {},
   "outputs": [
    {
     "data": {
      "text/plain": [
       "116.0"
      ]
     },
     "execution_count": 156,
     "metadata": {},
     "output_type": "execute_result"
    }
   ],
   "source": [
    "required_length*2/6"
   ]
  },
  {
   "cell_type": "code",
   "execution_count": 98,
   "metadata": {},
   "outputs": [
    {
     "data": {
      "text/plain": [
       "[222,\n",
       " 144,\n",
       " 71,\n",
       " 507,\n",
       " 362,\n",
       " 467,\n",
       " 442,\n",
       " 448,\n",
       " 559,\n",
       " 431,\n",
       " 518,\n",
       " 203,\n",
       " 19,\n",
       " 340,\n",
       " 61,\n",
       " 259,\n",
       " 506,\n",
       " 43,\n",
       " 367,\n",
       " 522,\n",
       " 264,\n",
       " 1,\n",
       " 311,\n",
       " 253,\n",
       " 470]"
      ]
     },
     "execution_count": 98,
     "metadata": {},
     "output_type": "execute_result"
    }
   ],
   "source": [
    "query_ordered_dissimilar(ent_id = 115, entity_type= 'Carrier', entity_type_list = entity_type_list , query_model = query_model)[:25]"
   ]
  },
  {
   "cell_type": "code",
   "execution_count": 45,
   "metadata": {},
   "outputs": [
    {
     "data": {
      "image/png": "[encoded data removed]",
      "text/plain": [
       "<Figure size 432x288 with 1 Axes>"
      ]
     },
     "metadata": {
      "needs_background": "light"
     },
     "output_type": "display_data"
    },
    {
     "data": {
      "image/png": "[encoded data removed]",
      "text/plain": [
       "<Figure size 432x288 with 1 Axes>"
      ]
     },
     "metadata": {
      "needs_background": "light"
     },
     "output_type": "display_data"
    }
   ],
   "source": [
    "_tmp_graph =  B.subgraph(g_components[3][-1])\n",
    "check_degree_distribution(_tmp_graph)"
   ]
  },
  {
   "cell_type": "code",
   "execution_count": 12,
   "metadata": {
    "scrolled": true
   },
   "outputs": [],
   "source": [
    " \n",
    "def get_largest_component_subgraph(graph_obj):\n",
    "    component_id = 0\n",
    "    components = {}\n",
    "    component_size_dict = {}\n",
    "\n",
    "    for c in nx.connected_components(graph_obj):\n",
    "        components[component_id] = c\n",
    "        component_size_dict[component_id] = len(c)\n",
    "        component_id += 1\n",
    "    component_size_dict = sorted(component_size_dict.items(), key=operator.itemgetter(1), reverse=True)\n",
    "    # Get the largest connected component\n",
    "    max_component = components[component_size_dict[0][0]]\n",
    "    subgraph = graph_obj.subgraph(max_component)\n",
    "    return subgraph"
   ]
  },
  {
   "cell_type": "code",
   "execution_count": null,
   "metadata": {},
   "outputs": [],
   "source": [
    "\n",
    "\n",
    "\n",
    "\n",
    "\n",
    "\n",
    "\n",
    "\n",
    "\n",
    "\n",
    "\n",
    "\n",
    "\n",
    "\n",
    "\n",
    "\n",
    "\n",
    "\n",
    "\n",
    "\n",
    "\n",
    "\n",
    "\n",
    "\n",
    "\n",
    "\n",
    "\n",
    "\n",
    "\n",
    "\n",
    "\n",
    "\n",
    "\n",
    "\n",
    "\n",
    "\n",
    "\n",
    "\n",
    "\n",
    "\n",
    "\n",
    "\n",
    "\n",
    "\n",
    "\n",
    "\n",
    "\n",
    "\n",
    "\n",
    "\n",
    "\n",
    "\n",
    "\n",
    "\n",
    "\n",
    "\n"
   ]
  },
  {
   "cell_type": "code",
   "execution_count": null,
   "metadata": {},
   "outputs": [],
   "source": []
  }
 ],
 "metadata": {
  "kernelspec": {
   "display_name": "Python 3",
   "language": "python",
   "name": "python3"
  },
  "language_info": {
   "codemirror_mode": {
    "name": "ipython",
    "version": 3
   },
   "file_extension": ".py",
   "mimetype": "text/x-python",
   "name": "python",
   "nbconvert_exporter": "python",
   "pygments_lexer": "ipython3",
   "version": "3.7.9"
  }
 },
 "nbformat": 4,
 "nbformat_minor": 4
}
