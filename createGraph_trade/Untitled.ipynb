{
 "cells": [
  {
   "cell_type": "code",
   "execution_count": 1,
   "metadata": {},
   "outputs": [
    {
     "name": "stdout",
     "output_type": "stream",
     "text": [
      "INFO: Pandarallel will run on 16 workers.\n",
      "INFO: Pandarallel will use Memory file system to transfer data between the main process and workers.\n",
      "INFO: Pandarallel will run on 16 workers.\n",
      "INFO: Pandarallel will use Memory file system to transfer data between the main process and workers.\n"
     ]
    }
   ],
   "source": [
    "try:\n",
    "    %load_ext autoreload\n",
    "    %autoreload 2\n",
    "except:\n",
    "    pass\n",
    "\n",
    "import argparse\n",
    "import pandas as pd\n",
    "import numpy as np\n",
    "import sys\n",
    "sys.path.append('./..')\n",
    "sys.path.append('./../..')\n",
    "from pathlib import Path\n",
    "import os\n",
    "from common_utils import utils\n",
    "from joblib import Parallel,delayed\n",
    "import multiprocessing as mp\n",
    "import pickle "
   ]
  },
  {
   "cell_type": "code",
   "execution_count": 2,
   "metadata": {},
   "outputs": [],
   "source": [
    "DIR = 'us_import1'\n",
    "# Use training data for graph creation\n",
    "DATA_LOC = './../generated_data_v1/{}'.format(DIR)\n",
    "\n",
    "with open(os.path.join(DATA_LOC,'domain_dims.pkl'),'rb') as fh:\n",
    "    domain_dims = pickle.load(fh) \n",
    "\n",
    "    "
   ]
  },
  {
   "cell_type": "code",
   "execution_count": 3,
   "metadata": {},
   "outputs": [],
   "source": [
    "    \n",
    "    \n",
    "# ---------------------------------------\n",
    "# This data is already serialized \n",
    "# ---------------------------------------\n",
    "data_df = pd.read_csv(os.path.join(DATA_LOC, 'train_data.csv'),index_col=None, low_memory=False)\n",
    "data_df = data_df.drop_duplicates(subset=list(domain_dims.keys()))"
   ]
  },
  {
   "cell_type": "code",
   "execution_count": 4,
   "metadata": {},
   "outputs": [],
   "source": [
    "# serialized_data_df = utils.convert_to_serializedID_format(data_df,DIR)"
   ]
  },
  {
   "cell_type": "code",
   "execution_count": 7,
   "metadata": {},
   "outputs": [],
   "source": [
    "# serialized_data_df.head(10)\n"
   ]
  },
  {
   "cell_type": "code",
   "execution_count": 8,
   "metadata": {},
   "outputs": [],
   "source": [
    "# data_df = serialized_data_df"
   ]
  },
  {
   "cell_type": "code",
   "execution_count": 9,
   "metadata": {},
   "outputs": [],
   "source": [
    "# ------------------------------# Create graph ingestible data \n",
    "# ------------------------------\n",
    "\n",
    "ID_COL = 'PanjivRecordID'\n",
    "\n",
    "node_types = sorted(domain_dims.keys())\n",
    "\n",
    "from itertools import combinations\n",
    "candidate_edge_types = [ '_'.join(sorted([a,b])) for a,b in combinations(node_types,2)]\n",
    "\n",
    "with open('./valid_edges.txt','r') as fh:\n",
    "    valid_edge_types = fh.readlines()\n",
    "valid_edge_types = [ _.strip('\\n') for _ in valid_edge_types]\n",
    "\n",
    "\n",
    "def get_edge_list( df, e_type):\n",
    "    s,t = e_type.split('_')\n",
    "    df_grouped = df.groupby([s,t]).size().reset_index(name='weight')\n",
    "    df_grouped = df_grouped.rename(columns={s:'source',t:'target'})\n",
    "    df_grouped['e_type'] = e_type\n",
    "    return df_grouped\n",
    "\n",
    "\n",
    "list_edge_df = Parallel( mp.cpu_count())(delayed(get_edge_list)(data_df, e) for e in valid_edge_types)\n",
    "\n",
    "sum([len(_) for _ in list_edge_df])\n",
    "\n",
    "edges_df= None\n",
    "for _df in list_edge_df:\n",
    "    if edges_df is not None:\n",
    "        edges_df = edges_df.append(_df,ignore_index=True)\n",
    "    else:\n",
    "        edges_df = pd.DataFrame(_df)\n",
    "\n",
    "\n",
    "nodes_df = pd.DataFrame(columns=['ID','n_type'])\n",
    "idMapping_df = utils.fetch_idMappingFile(DIR)\n",
    "\n",
    "for domain in domain_dims.keys():\n",
    "    tmp = pd.DataFrame(idMapping_df.loc[idMapping_df['domain']==domain]['serial_id'])\n",
    "    tmp = tmp.rename(columns={'serial_id':'ID'})\n",
    "    tmp['n_type'] = domain\n",
    "    nodes_df = nodes_df.append(tmp, ignore_index=True)\n",
    "\n",
    "len(nodes_df)\n",
    "\n",
    "\n",
    "\n",
    "# --------------------------\n",
    "# Save files \n",
    "# --------------------------\n",
    "SAVE_DIR = os.path.join(DATA_LOC,'stage_graph')\n",
    "pathobj = Path(SAVE_DIR)\n",
    "pathobj.mkdir(exist_ok=True, parents=True)\n",
    "\n",
    "edges_df.to_csv(os.path.join(SAVE_DIR, 'edges.csv'),index=False)\n",
    "nodes_df.to_csv(os.path.join(SAVE_DIR, 'nodes.csv'),index=False)"
   ]
  },
  {
   "cell_type": "code",
   "execution_count": null,
   "metadata": {},
   "outputs": [],
   "source": []
  },
  {
   "cell_type": "code",
   "execution_count": null,
   "metadata": {},
   "outputs": [],
   "source": []
  },
  {
   "cell_type": "code",
   "execution_count": null,
   "metadata": {},
   "outputs": [],
   "source": []
  }
 ],
 "metadata": {
  "kernelspec": {
   "display_name": "Python 3",
   "language": "python",
   "name": "python3"
  },
  "language_info": {
   "codemirror_mode": {
    "name": "ipython",
    "version": 3
   },
   "file_extension": ".py",
   "mimetype": "text/x-python",
   "name": "python",
   "nbconvert_exporter": "python",
   "pygments_lexer": "ipython3",
   "version": "3.7.9"
  }
 },
 "nbformat": 4,
 "nbformat_minor": 4
}
