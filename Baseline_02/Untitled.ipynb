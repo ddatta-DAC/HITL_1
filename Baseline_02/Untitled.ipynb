{
 "cells": [
  {
   "cell_type": "code",
   "execution_count": 2,
   "metadata": {},
   "outputs": [
    {
     "name": "stdout",
     "output_type": "stream",
     "text": [
      "INFO: Pandarallel will run on 16 workers.\n",
      "INFO: Pandarallel will use Memory file system to transfer data between the main process and workers.\n"
     ]
    }
   ],
   "source": [
    "import pandas as pd\n",
    "import numpy as np\n",
    "import os\n",
    "import sys\n",
    "sys.path.append('./..')\n",
    "sys.path.append('./../..')\n",
    "from pandarallel import pandarallel\n",
    "pandarallel.initialize()\n",
    "import matplotlib.pyplot as plt\n",
    "from sklearn.metrics import auc\n",
    "try:\n",
    "    from common_utils import AD_result_fetcher\n",
    "except:\n",
    "    from .common_utils import AD_result_fetcher"
   ]
  },
  {
   "cell_type": "markdown",
   "metadata": {},
   "source": [
    "# ---------------------------------\n",
    "## (Modified) implementatation of : Improve Blackbox Sequential Anomaly dtetctor Relevancy with Limited Human Feedback\n",
    "# ---------------------------------"
   ]
  },
  {
   "cell_type": "code",
   "execution_count": 8,
   "metadata": {},
   "outputs": [],
   "source": [
    "DIR = 'us_import1'\n",
    "\n",
    "PERCENTILE_THRESHOLD = 100 - 5\n",
    "\n",
    "UPDATE_scoreUB_percentile =  10 \n",
    "UPDATE_scoreUB = 0.5\n",
    "id_col = 'PanjivaRecordID'\n",
    "attribute_SHIPPER = 'ShipperPanjivaID'\n",
    "attribute_CONSIGNEE = 'ConsigneePanjivaID'"
   ]
  },
  {
   "cell_type": "code",
   "execution_count": 12,
   "metadata": {},
   "outputs": [
    {
     "name": "stdout",
     "output_type": "stream",
     "text": [
      "22935 22648\n",
      "95 0.4913615251753746\n"
     ]
    }
   ],
   "source": [
    "labelled_results = AD_result_fetcher.read_in_AD_result(DIR)\n",
    "score_threshold = np.percentile(labelled_results['score'],PERCENTILE_THRESHOLD)\n",
    "print(PERCENTILE_THRESHOLD, score_threshold)\n",
    "labelled_results = labelled_results.sort_values(by=['score'],ascending=False)\n",
    "\n",
    "\n"
   ]
  },
  {
   "cell_type": "code",
   "execution_count": null,
   "metadata": {},
   "outputs": [],
   "source": []
  },
  {
   "cell_type": "code",
   "execution_count": 10,
   "metadata": {},
   "outputs": [
    {
     "name": "stdout",
     "output_type": "stream",
     "text": [
      "0.4539567681357035\n",
      "Number of positive anomalies :  0\n"
     ]
    }
   ],
   "source": [
    "# The lowest score till which a new score should be calculated\n",
    "UPDATE_scoreUB = np.percentile(labelled_results['score'],100-UPDATE_scoreUB_percentile)\n",
    "print(UPDATE_scoreUB)\n",
    "\n",
    "print('Number of positive anomalies : ', len(labelled_results.loc[labelled_results['label']==1]))\n",
    "score_threshold = np.percentile(labelled_results['score'],PERCENTILE_THRESHOLD)"
   ]
  },
  {
   "cell_type": "code",
   "execution_count": null,
   "metadata": {},
   "outputs": [],
   "source": [
    "def calculate_cluster_relevancy():\n",
    "    return\n",
    "\n",
    "\n",
    "def get_embedding():\n",
    "    return\n",
    "\n",
    "\n"
   ]
  }
 ],
 "metadata": {
  "kernelspec": {
   "display_name": "Python 3",
   "language": "python",
   "name": "python3"
  },
  "language_info": {
   "codemirror_mode": {
    "name": "ipython",
    "version": 3
   },
   "file_extension": ".py",
   "mimetype": "text/x-python",
   "name": "python",
   "nbconvert_exporter": "python",
   "pygments_lexer": "ipython3",
   "version": "3.7.9"
  }
 },
 "nbformat": 4,
 "nbformat_minor": 4
}
