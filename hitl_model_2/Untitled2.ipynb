{
 "cells": [
  {
   "cell_type": "code",
   "execution_count": 8,
   "metadata": {},
   "outputs": [
    {
     "name": "stdout",
     "output_type": "stream",
     "text": [
      "The autoreload extension is already loaded. To reload it, use:\n",
      "  %reload_ext autoreload\n"
     ]
    }
   ],
   "source": [
    "from record import record_class\n",
    "import yaml\n",
    "import sys\n",
    "import os\n",
    "sys.path.append('./../..')\n",
    "sys.path.append('./../')\n",
    "import pandas as pd\n",
    "import time\n",
    "from collections import OrderedDict\n",
    "from common_utils import utils\n",
    "from sklearn.utils import shuffle\n",
    "from common_utils import utils\n",
    "\n",
    "try:\n",
    "    from IPython.display import display, HTML\n",
    "    %load_ext autoreload\n",
    "    %autoreload 2\n",
    "except:\n",
    "    pass\n",
    "\n",
    "\n",
    "\n",
    "explantions_file_path = None\n",
    "embedding_data_path = None\n",
    "serialID_mapping_loc = None\n",
    "\n",
    "\n",
    "def get_serialID_to_entityID():\n",
    "    global serialID_mapping_loc\n",
    "    \n",
    "    idMapper_file = os.path.join(serialID_mapping_loc)\n",
    "    mapping_df = pd.read_csv(idMapper_file, index_col=None)\n",
    "    serialID_to_entityID = {}\n",
    "\n",
    "    for i, row in mapping_df.iterrows():\n",
    "        serialID_to_entityID[row['serial_id']] = row['entity_id']\n",
    "    return serialID_to_entityID\n",
    "\n",
    "\n",
    "\n",
    "def initialize(DIR):\n",
    "    global serialID_mapping_loc, explantions_file_path, embedding_data_path\n",
    "    with open('config.yaml', 'r') as fh:\n",
    "        config = yaml.safe_load(fh)\n",
    "\n",
    "    serialID_mapping_loc = config['serialID_mapping_loc'].format(DIR)\n",
    "    embedding_data_path = config['embedding_data_path'].format(DIR)\n",
    "    explantions_file_path = config['explantions_file_path'].format(DIR)\n",
    "  \n",
    "    serialID_to_entityID = get_serialID_to_entityID()\n",
    "    record_class.__setup_embedding__(embedding_data_path, serialID_to_entityID, _normalize=True)\n",
    "    emb_dim = record_class.embedding['HSCode'].shape[1]\n",
    "    \n",
    "\n",
    "def obtain_entity_embedding(domain, entity_id):\n",
    "    global enity_emb_dict\n",
    "    \n",
    "    \n",
    "    "
   ]
  },
  {
   "cell_type": "code",
   "execution_count": 9,
   "metadata": {},
   "outputs": [],
   "source": [
    "initialize(DIR='us_import4')"
   ]
  },
  {
   "cell_type": "code",
   "execution_count": 15,
   "metadata": {},
   "outputs": [],
   "source": [
    "a = record_class.__obtainEntityFeatureInteraction__('Carrier', [10,12,45], 'HSCode', [14,15,16], interaction_type='concat')"
   ]
  },
  {
   "cell_type": "code",
   "execution_count": 13,
   "metadata": {},
   "outputs": [
    {
     "data": {
      "text/plain": [
       "(3, 256)"
      ]
     },
     "execution_count": 13,
     "metadata": {},
     "output_type": "execute_result"
    }
   ],
   "source": [
    "a.shape"
   ]
  },
  {
   "cell_type": "code",
   "execution_count": null,
   "metadata": {},
   "outputs": [],
   "source": []
  }
 ],
 "metadata": {
  "kernelspec": {
   "display_name": "Python 3",
   "language": "python",
   "name": "python3"
  },
  "language_info": {
   "codemirror_mode": {
    "name": "ipython",
    "version": 3
   },
   "file_extension": ".py",
   "mimetype": "text/x-python",
   "name": "python",
   "nbconvert_exporter": "python",
   "pygments_lexer": "ipython3",
   "version": "3.7.9"
  }
 },
 "nbformat": 4,
 "nbformat_minor": 4
}
