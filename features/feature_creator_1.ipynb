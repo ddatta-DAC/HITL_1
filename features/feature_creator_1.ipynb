{
 "cells": [
  {
   "cell_type": "code",
   "execution_count": 29,
   "metadata": {},
   "outputs": [],
   "source": [
    "from sklearn.feature_extraction import FeatureHasher\n",
    "import numpy as np\n",
    "import pandas as pd\n",
    "import os\n",
    "from sklearn.preprocessing import PolynomialFeatures\n",
    "from sklearn.base import TransformerMixin\n",
    "from itertools import combinations\n",
    "from collections import OrderedDict\n",
    "from sklearn.compose import ColumnTransformer"
   ]
  },
  {
   "cell_type": "code",
   "execution_count": 24,
   "metadata": {},
   "outputs": [],
   "source": [
    "'''\n",
    "Converts a vector (list) of binary values to its corresponding base 10 (decimal) representation.\n",
    "'''\n",
    "def convert_to_base10(vector):\n",
    "    return int(str('').join(vector.astype(str)),2)\n",
    "\n",
    "# np.apply_along_axis(convert_to_base10, 1, np.array(arr))"
   ]
  },
  {
   "cell_type": "code",
   "execution_count": 34,
   "metadata": {},
   "outputs": [],
   "source": [
    "'''\n",
    "Feature transformer \n",
    "''' \n",
    "class featureXformer(TransformerMixin):\n",
    "    def __init__(\n",
    "        self,\n",
    "        domain_dims\n",
    "    ):\n",
    "        domain_dims = OrderedDict(domain_dims)\n",
    "        self.domain_dims = domain_dims\n",
    "        self.num_domains = len(domain_dims)\n",
    "        self.base_01_encoders = {}\n",
    "        \n",
    "        for d,dim in domain_dims.items():\n",
    "            self.base_01_encoders[d] = OneHotEncoder(categories = np.arange(dim).astype(int), drop=None, sparse=True)\n",
    "            \n",
    "        self.base_01_encoders = ColumnTransformer(self.base_01_encoders)\n",
    "            \n",
    "        self.syn_feature_ohEncoders = []\n",
    "        self.base_domain_names = list(domain_dims.keys())\n",
    "        self.syn_domain_dims = {}\n",
    "        for i in range(self.num_domains):\n",
    "            for j in range(i+1,self.num_domains):\n",
    "                dim_ij = domain_dims[self.base_domain_names[i]] + domain_dims[self.base_domain_names[j]]\n",
    "                domain_ij = '_'.join(self.base_domain_names[i],self.base_domain_names[j])\n",
    "                # set up for ColumnTransformer\n",
    "                self.syn_feature_ohEncoders.append(\n",
    "                    ('xform_{}'.format(dim_ij),\n",
    "                    OneHotEncoder(categories = np.arange(dim_ij).astype(int), drop=None),\n",
    "                    dim_ij)\n",
    "                )\n",
    "                self.syn_domain_dims[domain_ij] = dim_ij\n",
    "        self.syn_feature_ohEncoders = ColumnTransformer(self.syn_feature_ohEncoders)\n",
    "        return \n",
    "    \n",
    "    def fit(self,X):\n",
    "        return \n",
    "    \n",
    "    # -------------------------\n",
    "    # Input is  X :: Pandas dataframe [ num_samples, num_domains]\n",
    "    # Columns should be ordered\n",
    "    # -------------------------\n",
    "    def transform(self, df_X, one_hot = False):\n",
    "        \n",
    "        for dom in self.base_domain_names:\n",
    "            df_X[dom] = df_X[dom].astype('categorical')\n",
    "            \n",
    "        df_X = ColumnTransformer.fit_transform(df_X)\n",
    "        arr_col_names = []\n",
    "        arr_x_ij = []\n",
    "        for i in range(self.num_domains):\n",
    "            for j in range(i+1,self.num_domains):\n",
    "                dom_i = self.base_domain_names[i]\n",
    "                dom_j = self.base_domain_names[j]\n",
    "                x_i = df_X[dom_i].values.reshape([-1,1])\n",
    "                x_j = df_X[dom_j].values.reshape([-1,1])\n",
    "                _x_i = self.base_01_encoders[dom_i].fit_tansform(x_i)\n",
    "                _x_j = self.base_01_encoders[dom_j].fit_tansform(x_j)\n",
    "                _x_ij = np.hstack([x_i,x_j])\n",
    "                x_ij = np.apply_along_axis(convert_to_base10, 1, _x_ij)\n",
    "                arr_x_ij.append(x_ij)\n",
    "                arr_col_names.append('_'.join([dom_i,dom_j]))\n",
    "        X_ij = np.concatenate(arr_x_ij, axis=1)\n",
    "        df_x_ij = pd.DataFrame(\n",
    "            data =  X_ij.astype(int),\n",
    "            columns = arr_col_names\n",
    "        )\n",
    "        if one_hot:\n",
    "            df_x_ij = self.syn_feature_ohEncoders.fit_transform(df_x_ij)   \n",
    "        return df_x_ij\n",
    "    \n",
    "     "
   ]
  },
  {
   "cell_type": "code",
   "execution_count": null,
   "metadata": {},
   "outputs": [],
   "source": []
  },
  {
   "cell_type": "code",
   "execution_count": null,
   "metadata": {},
   "outputs": [],
   "source": []
  },
  {
   "cell_type": "code",
   "execution_count": null,
   "metadata": {},
   "outputs": [],
   "source": []
  },
  {
   "cell_type": "code",
   "execution_count": null,
   "metadata": {},
   "outputs": [],
   "source": []
  },
  {
   "cell_type": "code",
   "execution_count": null,
   "metadata": {},
   "outputs": [],
   "source": []
  },
  {
   "cell_type": "code",
   "execution_count": null,
   "metadata": {},
   "outputs": [],
   "source": []
  },
  {
   "cell_type": "code",
   "execution_count": null,
   "metadata": {},
   "outputs": [],
   "source": []
  }
 ],
 "metadata": {
  "kernelspec": {
   "display_name": "Python 3",
   "language": "python",
   "name": "python3"
  },
  "language_info": {
   "codemirror_mode": {
    "name": "ipython",
    "version": 3
   },
   "file_extension": ".py",
   "mimetype": "text/x-python",
   "name": "python",
   "nbconvert_exporter": "python",
   "pygments_lexer": "ipython3",
   "version": "3.7.9"
  }
 },
 "nbformat": 4,
 "nbformat_minor": 4
}
