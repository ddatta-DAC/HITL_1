{
 "cells": [
  {
   "cell_type": "code",
   "execution_count": 1,
   "metadata": {},
   "outputs": [],
   "source": [
    "%load_ext autoreload\n",
    "%autoreload 2\n",
    "import numpy as np\n",
    "import pandas as pd"
   ]
  },
  {
   "cell_type": "code",
   "execution_count": 26,
   "metadata": {},
   "outputs": [
    {
     "name": "stdout",
     "output_type": "stream",
     "text": [
      "INFO: Pandarallel will run on 8 workers.\n",
      "INFO: Pandarallel will use Memory file system to transfer data between the main process and workers.\n"
     ]
    }
   ],
   "source": [
    "from pandarallel import pandarallel\n",
    "pandarallel.initialize()\n",
    "import matplotlib.pyplot as plt\n",
    "from sklearn.metrics import auc"
   ]
  },
  {
   "cell_type": "code",
   "execution_count": 3,
   "metadata": {},
   "outputs": [],
   "source": [
    "try:\n",
    "    import AD_result_fetcher\n",
    "except:\n",
    "    from . import AD_result_fetcher"
   ]
  },
  {
   "cell_type": "code",
   "execution_count": 4,
   "metadata": {},
   "outputs": [],
   "source": [
    "set_marked_positive = set()\n",
    "set_marked_negative = set()\n",
    "set_seen_records = set()"
   ]
  },
  {
   "cell_type": "code",
   "execution_count": 5,
   "metadata": {},
   "outputs": [],
   "source": [
    "# =======================\n",
    "# Baseline 1 \n",
    "# =======================\n",
    "DIR = 'us_import1'\n",
    "PERCENTILE_THRESHOLD = 100\n",
    "PERCENTILE_THRESHOLD = 100 - 10\n",
    "REVEAL_STEP = 5\n",
    "ID_COL = 'PanjivaRecordID'\n",
    "company_attributes = ['ConsigneePanjivaID','ShipperPanjivaID']\n",
    "\n",
    "def modify_score_v1(orig_score, num_matches):\n",
    "    alpha = 0.75\n",
    "    beta = 0.25\n",
    "    max_matches = 2\n",
    "    new_score = (alpha * orig_score + beta * (num_matches/max_matches))/(alpha + beta)\n",
    "    return new_score"
   ]
  },
  {
   "cell_type": "code",
   "execution_count": 6,
   "metadata": {},
   "outputs": [
    {
     "name": "stdout",
     "output_type": "stream",
     "text": [
      "22935 22935\n"
     ]
    }
   ],
   "source": [
    "labelled_results = AD_result_fetcher.read_in_AD_result(DIR)"
   ]
  },
  {
   "cell_type": "code",
   "execution_count": 7,
   "metadata": {},
   "outputs": [
    {
     "name": "stdout",
     "output_type": "stream",
     "text": [
      "0.4351421390699711\n"
     ]
    }
   ],
   "source": [
    "score_threshold = np.percentile(labelled_results['score'],PERCENTILE_THRESHOLD)\n",
    "print(score_threshold)"
   ]
  },
  {
   "cell_type": "code",
   "execution_count": null,
   "metadata": {},
   "outputs": [],
   "source": []
  },
  {
   "cell_type": "code",
   "execution_count": 8,
   "metadata": {},
   "outputs": [],
   "source": [
    "score_threshold = np.percentile(labelled_results['score'],PERCENTILE_THRESHOLD)"
   ]
  },
  {
   "cell_type": "code",
   "execution_count": 9,
   "metadata": {},
   "outputs": [],
   "source": [
    "working_df = labelled_results.copy()\n",
    "working_df['dynamic_score'] = labelled_results['score']"
   ]
  },
  {
   "cell_type": "code",
   "execution_count": 10,
   "metadata": {},
   "outputs": [
    {
     "data": {
      "text/html": [
       "<div>\n",
       "<style scoped>\n",
       "    .dataframe tbody tr th:only-of-type {\n",
       "        vertical-align: middle;\n",
       "    }\n",
       "\n",
       "    .dataframe tbody tr th {\n",
       "        vertical-align: top;\n",
       "    }\n",
       "\n",
       "    .dataframe thead th {\n",
       "        text-align: right;\n",
       "    }\n",
       "</style>\n",
       "<table border=\"1\" class=\"dataframe\">\n",
       "  <thead>\n",
       "    <tr style=\"text-align: right;\">\n",
       "      <th></th>\n",
       "      <th>PanjivaRecordID</th>\n",
       "      <th>Carrier</th>\n",
       "      <th>ConsigneePanjivaID</th>\n",
       "      <th>HSCode</th>\n",
       "      <th>PortOfLading</th>\n",
       "      <th>PortOfUnlading</th>\n",
       "      <th>ShipmentDestination</th>\n",
       "      <th>ShipmentOrigin</th>\n",
       "      <th>ShipperPanjivaID</th>\n",
       "      <th>label</th>\n",
       "      <th>score</th>\n",
       "      <th>dynamic_score</th>\n",
       "    </tr>\n",
       "  </thead>\n",
       "  <tbody>\n",
       "    <tr>\n",
       "      <th>5</th>\n",
       "      <td>1154884691001</td>\n",
       "      <td>245</td>\n",
       "      <td>4631</td>\n",
       "      <td>4912</td>\n",
       "      <td>5190</td>\n",
       "      <td>5288</td>\n",
       "      <td>5352</td>\n",
       "      <td>5514</td>\n",
       "      <td>9882</td>\n",
       "      <td>-1</td>\n",
       "      <td>1.000000</td>\n",
       "      <td>1.000000</td>\n",
       "    </tr>\n",
       "    <tr>\n",
       "      <th>490</th>\n",
       "      <td>11463423710011002</td>\n",
       "      <td>308</td>\n",
       "      <td>2615</td>\n",
       "      <td>5007</td>\n",
       "      <td>5129</td>\n",
       "      <td>5302</td>\n",
       "      <td>5360</td>\n",
       "      <td>5437</td>\n",
       "      <td>6194</td>\n",
       "      <td>1</td>\n",
       "      <td>0.998628</td>\n",
       "      <td>0.998628</td>\n",
       "    </tr>\n",
       "    <tr>\n",
       "      <th>22</th>\n",
       "      <td>1140462591001</td>\n",
       "      <td>435</td>\n",
       "      <td>2270</td>\n",
       "      <td>4910</td>\n",
       "      <td>5121</td>\n",
       "      <td>5264</td>\n",
       "      <td>5382</td>\n",
       "      <td>5460</td>\n",
       "      <td>6568</td>\n",
       "      <td>-1</td>\n",
       "      <td>0.995128</td>\n",
       "      <td>0.995128</td>\n",
       "    </tr>\n",
       "    <tr>\n",
       "      <th>523</th>\n",
       "      <td>11417637310011002</td>\n",
       "      <td>142</td>\n",
       "      <td>1622</td>\n",
       "      <td>4925</td>\n",
       "      <td>5185</td>\n",
       "      <td>5259</td>\n",
       "      <td>5383</td>\n",
       "      <td>5434</td>\n",
       "      <td>7826</td>\n",
       "      <td>1</td>\n",
       "      <td>0.990789</td>\n",
       "      <td>0.990789</td>\n",
       "    </tr>\n",
       "    <tr>\n",
       "      <th>631</th>\n",
       "      <td>11384327310011002</td>\n",
       "      <td>142</td>\n",
       "      <td>1567</td>\n",
       "      <td>4925</td>\n",
       "      <td>5185</td>\n",
       "      <td>5259</td>\n",
       "      <td>5377</td>\n",
       "      <td>5434</td>\n",
       "      <td>10184</td>\n",
       "      <td>1</td>\n",
       "      <td>0.990111</td>\n",
       "      <td>0.990111</td>\n",
       "    </tr>\n",
       "    <tr>\n",
       "      <th>281</th>\n",
       "      <td>1170694011001</td>\n",
       "      <td>245</td>\n",
       "      <td>4797</td>\n",
       "      <td>4912</td>\n",
       "      <td>5190</td>\n",
       "      <td>5283</td>\n",
       "      <td>5352</td>\n",
       "      <td>5456</td>\n",
       "      <td>11045</td>\n",
       "      <td>-1</td>\n",
       "      <td>0.987483</td>\n",
       "      <td>0.987483</td>\n",
       "    </tr>\n",
       "    <tr>\n",
       "      <th>365</th>\n",
       "      <td>1172173001001</td>\n",
       "      <td>142</td>\n",
       "      <td>4880</td>\n",
       "      <td>4925</td>\n",
       "      <td>5185</td>\n",
       "      <td>5259</td>\n",
       "      <td>5377</td>\n",
       "      <td>5434</td>\n",
       "      <td>7718</td>\n",
       "      <td>-1</td>\n",
       "      <td>0.981467</td>\n",
       "      <td>0.981467</td>\n",
       "    </tr>\n",
       "    <tr>\n",
       "      <th>80</th>\n",
       "      <td>1139183471001</td>\n",
       "      <td>193</td>\n",
       "      <td>2196</td>\n",
       "      <td>4952</td>\n",
       "      <td>5062</td>\n",
       "      <td>5279</td>\n",
       "      <td>5377</td>\n",
       "      <td>5502</td>\n",
       "      <td>7774</td>\n",
       "      <td>-1</td>\n",
       "      <td>0.977622</td>\n",
       "      <td>0.977622</td>\n",
       "    </tr>\n",
       "    <tr>\n",
       "      <th>105</th>\n",
       "      <td>1160867961001</td>\n",
       "      <td>142</td>\n",
       "      <td>2166</td>\n",
       "      <td>4925</td>\n",
       "      <td>5185</td>\n",
       "      <td>5259</td>\n",
       "      <td>5324</td>\n",
       "      <td>5503</td>\n",
       "      <td>9602</td>\n",
       "      <td>-1</td>\n",
       "      <td>0.976587</td>\n",
       "      <td>0.976587</td>\n",
       "    </tr>\n",
       "    <tr>\n",
       "      <th>173</th>\n",
       "      <td>1145017151001</td>\n",
       "      <td>245</td>\n",
       "      <td>4379</td>\n",
       "      <td>4912</td>\n",
       "      <td>5190</td>\n",
       "      <td>5270</td>\n",
       "      <td>5352</td>\n",
       "      <td>5434</td>\n",
       "      <td>7503</td>\n",
       "      <td>-1</td>\n",
       "      <td>0.973775</td>\n",
       "      <td>0.973775</td>\n",
       "    </tr>\n",
       "  </tbody>\n",
       "</table>\n",
       "</div>"
      ],
      "text/plain": [
       "       PanjivaRecordID  Carrier  ConsigneePanjivaID  HSCode  PortOfLading  \\\n",
       "5        1154884691001      245                4631    4912          5190   \n",
       "490  11463423710011002      308                2615    5007          5129   \n",
       "22       1140462591001      435                2270    4910          5121   \n",
       "523  11417637310011002      142                1622    4925          5185   \n",
       "631  11384327310011002      142                1567    4925          5185   \n",
       "281      1170694011001      245                4797    4912          5190   \n",
       "365      1172173001001      142                4880    4925          5185   \n",
       "80       1139183471001      193                2196    4952          5062   \n",
       "105      1160867961001      142                2166    4925          5185   \n",
       "173      1145017151001      245                4379    4912          5190   \n",
       "\n",
       "     PortOfUnlading  ShipmentDestination  ShipmentOrigin  ShipperPanjivaID  \\\n",
       "5              5288                 5352            5514              9882   \n",
       "490            5302                 5360            5437              6194   \n",
       "22             5264                 5382            5460              6568   \n",
       "523            5259                 5383            5434              7826   \n",
       "631            5259                 5377            5434             10184   \n",
       "281            5283                 5352            5456             11045   \n",
       "365            5259                 5377            5434              7718   \n",
       "80             5279                 5377            5502              7774   \n",
       "105            5259                 5324            5503              9602   \n",
       "173            5270                 5352            5434              7503   \n",
       "\n",
       "     label     score  dynamic_score  \n",
       "5       -1  1.000000       1.000000  \n",
       "490      1  0.998628       0.998628  \n",
       "22      -1  0.995128       0.995128  \n",
       "523      1  0.990789       0.990789  \n",
       "631      1  0.990111       0.990111  \n",
       "281     -1  0.987483       0.987483  \n",
       "365     -1  0.981467       0.981467  \n",
       "80      -1  0.977622       0.977622  \n",
       "105     -1  0.976587       0.976587  \n",
       "173     -1  0.973775       0.973775  "
      ]
     },
     "execution_count": 10,
     "metadata": {},
     "output_type": "execute_result"
    }
   ],
   "source": [
    "working_df.head(10)"
   ]
  },
  {
   "cell_type": "code",
   "execution_count": 11,
   "metadata": {},
   "outputs": [],
   "source": [
    "working_df['PanjivaRecordID'] = working_df['PanjivaRecordID'].astype(int)\n",
    "working_df['ConsigneePanjivaID'] = working_df['ConsigneePanjivaID'].astype(int)\n",
    "working_df['ShipperPanjivaID'] = working_df['ShipperPanjivaID'].astype(int)"
   ]
  },
  {
   "cell_type": "code",
   "execution_count": 12,
   "metadata": {},
   "outputs": [],
   "source": [
    "def process_1(new_df):\n",
    "    global set_marked_negative\n",
    "    global set_marked_positive\n",
    "    global company_attributes\n",
    "   \n",
    "    def update_row(row):\n",
    "        count = 0 \n",
    "#         count = len(set(row[company_attributes].values.tolist()).intersection(set_marked_positive))\n",
    "        for c in company_attributes:\n",
    "            if row[c] in set_marked_positive: count+=1\n",
    "        new_score = modify_score_v1(row['score'],count)  \n",
    "        return new_score\n",
    "    new_df['dynamic_score'] = new_df.parallel_apply(update_row,axis=1)\n",
    "    return new_df"
   ]
  },
  {
   "cell_type": "code",
   "execution_count": 13,
   "metadata": {},
   "outputs": [],
   "source": [
    "def execute_input(working_df, update_scores=False):\n",
    "    global ID_COL\n",
    "    global REVEAL_STEP\n",
    "    global set_marked_positive\n",
    "    global set_marked_negative\n",
    "    \n",
    "    actors = ['ConsigneePanjivaID','ShipperPanjivaID']\n",
    "    \n",
    "    top_results = working_df.head(REVEAL_STEP)\n",
    "    cur_iter_ids = top_results[ID_COL].values.tolist()\n",
    "    new_df = working_df.loc[~(working_df[ID_COL].isin(cur_iter_ids))]\n",
    "    \n",
    "    # positive labels (True Positives)\n",
    "    pos = top_results.loc[top_results['label']==1]\n",
    "    # negative labels ( False positives )\n",
    "    neg = top_results.loc[top_results['label']!=1]\n",
    "    num_correct = len(pos)\n",
    "    precision = len(pos)/REVEAL_STEP\n",
    "#     print('Precision ::', precision)\n",
    "    for col in actors:\n",
    "        set_marked_positive = set_marked_positive.union(set(pos[col]))\n",
    "    for col in actors:\n",
    "        set_marked_negative = set_marked_negative.union(set(neg[col]).difference(set_marked_positive))\n",
    "    \n",
    "    if update_scores:\n",
    "        new_df = process_1(new_df)\n",
    "        new_df = new_df.sort_values(by='dynamic_score',ascending=False)\n",
    "    \n",
    "    \n",
    "    return new_df, precision, num_correct "
   ]
  },
  {
   "cell_type": "code",
   "execution_count": 14,
   "metadata": {
    "scrolled": true
   },
   "outputs": [],
   "source": [
    "\n",
    "\n",
    "max_iter=len(working_df.loc[working_df['score']>=score_threshold])//REVEAL_STEP"
   ]
  },
  {
   "cell_type": "code",
   "execution_count": 15,
   "metadata": {
    "scrolled": true
   },
   "outputs": [],
   "source": [
    "precision_values_1 = []\n",
    "cur_df = working_df.copy()\n",
    "\n",
    "count = 0\n",
    "cum_correct = [0]\n",
    "num_revealed = [0]\n",
    "while count < max_iter:\n",
    "    cur_df, precision,correct = execute_input(cur_df)\n",
    "    precision_values_1.append(precision)\n",
    "    count +=1\n",
    "    cum_correct.append(correct+cum_correct[-1])\n",
    "    num_revealed.append(num_revealed[-1]+REVEAL_STEP)\n",
    "cum_correct_1 = cum_correct[1:]\n",
    "num_revealed_1 = num_revealed[1:]"
   ]
  },
  {
   "cell_type": "code",
   "execution_count": 16,
   "metadata": {
    "scrolled": true
   },
   "outputs": [
    {
     "name": "stderr",
     "output_type": "stream",
     "text": [
      "/home/ddatta/anaconda3/envs/SG/lib/python3.7/site-packages/ipykernel_launcher.py:13: SettingWithCopyWarning: \n",
      "A value is trying to be set on a copy of a slice from a DataFrame.\n",
      "Try using .loc[row_indexer,col_indexer] = value instead\n",
      "\n",
      "See the caveats in the documentation: https://pandas.pydata.org/pandas-docs/stable/user_guide/indexing.html#returning-a-view-versus-a-copy\n",
      "  del sys.path[0]\n"
     ]
    }
   ],
   "source": [
    "precision_values_2 = []\n",
    "cur_df = working_df.copy()\n",
    "count= 0\n",
    "\n",
    "cum_correct = [0]\n",
    "num_revealed = [0]\n",
    "while count < max_iter :\n",
    "    cur_df, precision, correct = execute_input(cur_df,True)\n",
    "    precision_values_2.append(precision)\n",
    "    remaining = len(cur_df.loc[cur_df['label']==1])\n",
    "    if remaining == 0: \n",
    "        break\n",
    "    count +=1\n",
    "    cum_correct.append(correct+cum_correct[-1])\n",
    "    num_revealed.append(num_revealed[-1]+REVEAL_STEP)\n",
    "cum_correct_2 = cum_correct[1:]\n",
    "num_revealed_2 = num_revealed[1:]"
   ]
  },
  {
   "cell_type": "code",
   "execution_count": 17,
   "metadata": {},
   "outputs": [],
   "source": []
  },
  {
   "cell_type": "code",
   "execution_count": 18,
   "metadata": {},
   "outputs": [],
   "source": [
    "# plt.figure()\n",
    "# plt.plot(np.arange(len(precision_values_1)),precision_values_1,'r')\n",
    "# plt.plot(np.arange(len(precision_values_2)),precision_values_2,'b')\n",
    "# plt.show()"
   ]
  },
  {
   "cell_type": "code",
   "execution_count": 34,
   "metadata": {},
   "outputs": [
    {
     "data": {
      "image/png": "[encoded data removed]",
      "text/plain": [
       "<Figure size 432x288 with 1 Axes>"
      ]
     },
     "metadata": {
      "needs_background": "light"
     },
     "output_type": "display_data"
    }
   ],
   "source": [
    "plt.figure()\n",
    "plt.grid()\n",
    "plt.xlabel('# Instances examined')\n",
    "plt.ylabel('# of positive anomalies')\n",
    "max_x = max(np.max(num_revealed_1),np.max(num_revealed_2))\n",
    "max_y = max(np.max(cum_correct_1),np.max(cum_correct_2))\n",
    "area = max_x*max_y\n",
    "_auc1 = auc(num_revealed_1, cum_correct_1)/area\n",
    "_auc2 = auc(num_revealed_2, cum_correct_2)/area\n",
    "plt.plot(num_revealed_1,cum_correct_1,'r',label='No input {:.2f}'.format(_auc1))\n",
    "plt.plot(num_revealed_2,cum_correct_2,'b',label='Score modification scheme 1 {:.2f}'.format(_auc2))\n",
    "plt.legend()\n",
    "plt.show()\n",
    "# cum_correct = [0]\n",
    "# num_revealed = [0]"
   ]
  },
  {
   "cell_type": "code",
   "execution_count": null,
   "metadata": {},
   "outputs": [],
   "source": []
  },
  {
   "cell_type": "code",
   "execution_count": 35,
   "metadata": {},
   "outputs": [
    {
     "data": {
      "text/plain": [
       "22935"
      ]
     },
     "execution_count": 35,
     "metadata": {},
     "output_type": "execute_result"
    }
   ],
   "source": []
  },
  {
   "cell_type": "code",
   "execution_count": null,
   "metadata": {},
   "outputs": [],
   "source": []
  }
 ],
 "metadata": {
  "kernelspec": {
   "display_name": "Python 3",
   "language": "python",
   "name": "python3"
  },
  "language_info": {
   "codemirror_mode": {
    "name": "ipython",
    "version": 3
   },
   "file_extension": ".py",
   "mimetype": "text/x-python",
   "name": "python",
   "nbconvert_exporter": "python",
   "pygments_lexer": "ipython3",
   "version": "3.7.9"
  }
 },
 "nbformat": 4,
 "nbformat_minor": 4
}
