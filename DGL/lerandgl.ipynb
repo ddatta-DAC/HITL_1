{
 "cells": [
  {
   "cell_type": "code",
   "execution_count": 24,
   "metadata": {},
   "outputs": [],
   "source": [
    "import dgl\n",
    "import torch \n",
    "from torch import nn\n",
    "import numpy as np\n",
    "import networkx as nx\n",
    "from torch import FloatTensor as FT\n",
    "from sklearn.preprocessing import OneHotEncoder"
   ]
  },
  {
   "cell_type": "code",
   "execution_count": 12,
   "metadata": {},
   "outputs": [],
   "source": [
    "g = dgl.from_networkx(nx.karate_club_graph()) \n",
    "g.ndata['x'] = torch.ones(g.num_nodes(), 3) \n",
    "g.ndata['x'][1] = 0.5"
   ]
  },
  {
   "cell_type": "code",
   "execution_count": 15,
   "metadata": {},
   "outputs": [],
   "source": [
    "from dgl import function as fn"
   ]
  },
  {
   "cell_type": "code",
   "execution_count": 17,
   "metadata": {},
   "outputs": [
    {
     "data": {
      "text/plain": [
       "<function dgl.function.message._gen_message_builtin.<locals>.func(lhs_field, rhs_field, out)>"
      ]
     },
     "execution_count": 17,
     "metadata": {},
     "output_type": "execute_result"
    }
   ],
   "source": [
    "fn.u_add_v"
   ]
  },
  {
   "cell_type": "code",
   "execution_count": 20,
   "metadata": {},
   "outputs": [
    {
     "data": {
      "text/plain": [
       "{}"
      ]
     },
     "execution_count": 20,
     "metadata": {},
     "output_type": "execute_result"
    }
   ],
   "source": [
    "g.edata\n"
   ]
  },
  {
   "cell_type": "code",
   "execution_count": 21,
   "metadata": {},
   "outputs": [],
   "source": [
    "from dgl.utils import expand_as_pair, check_eq_shape"
   ]
  },
  {
   "cell_type": "code",
   "execution_count": 22,
   "metadata": {},
   "outputs": [
    {
     "data": {
      "text/plain": [
       "<function dgl.utils.internal.expand_as_pair(input_, g=None)>"
      ]
     },
     "execution_count": 22,
     "metadata": {},
     "output_type": "execute_result"
    }
   ],
   "source": [
    "expand_as_pair"
   ]
  },
  {
   "cell_type": "code",
   "execution_count": 29,
   "metadata": {},
   "outputs": [
    {
     "data": {
      "text/plain": [
       "array([[1., 0., 0., ..., 0., 0., 0.],\n",
       "       [0., 1., 0., ..., 0., 0., 0.],\n",
       "       [0., 0., 1., ..., 0., 0., 0.],\n",
       "       ...,\n",
       "       [0., 0., 0., ..., 1., 0., 0.],\n",
       "       [0., 0., 0., ..., 0., 1., 0.],\n",
       "       [0., 0., 0., ..., 0., 0., 1.]])"
      ]
     },
     "execution_count": 29,
     "metadata": {},
     "output_type": "execute_result"
    }
   ],
   "source": [
    "ohe = OneHotEncoder()\n",
    "features = ohe.fit_transform(np.arange(len(g.nodes())).reshape([-1,1])).todense()\n",
    "features = np.array(features)\n",
    "features"
   ]
  },
  {
   "cell_type": "code",
   "execution_count": 30,
   "metadata": {},
   "outputs": [],
   "source": [
    "g.ndata['x'] = FT(\n",
    "    features\n",
    ")"
   ]
  },
  {
   "cell_type": "code",
   "execution_count": 31,
   "metadata": {},
   "outputs": [
    {
     "data": {
      "text/plain": [
       "tensor([0., 1., 0., 0., 0., 0., 0., 0., 0., 0., 0., 0., 0., 0., 0., 0., 0., 0.,\n",
       "        0., 0., 0., 0., 0., 0., 0., 0., 0., 0., 0., 0., 0., 0., 0., 0.])"
      ]
     },
     "execution_count": 31,
     "metadata": {},
     "output_type": "execute_result"
    }
   ],
   "source": [
    "g.ndata['x'][1] "
   ]
  },
  {
   "cell_type": "code",
   "execution_count": 128,
   "metadata": {},
   "outputs": [],
   "source": [
    "class GNN_1(nn.Module):\n",
    "    def __init__(\n",
    "        self,\n",
    "        in_feats,\n",
    "        out_feats,\n",
    "        aggregator_type,\n",
    "        bias=True,\n",
    "        norm=None,\n",
    "        activation=None\n",
    "    ):\n",
    "        super(GNN_1, self).__init__()\n",
    "        self._in_src_feats, self._in_dst_feats = expand_as_pair(in_feats)\n",
    "        self._out_feats = out_feats\n",
    "        self._aggre_type = aggregator_type\n",
    "        self.norm = norm\n",
    "        self.activation = activation\n",
    "        \n",
    "        self.fc_self = nn.Linear(self._in_dst_feats, out_feats, bias=bias)\n",
    "        self.FC_w_1 = nn.Linear(self._in_src_feats*2, out_feats, bias=bias)\n",
    "        self.FC_w_2 = nn.Linear(out_feats*2, out_feats, bias=bias)\n",
    "        self.reset_parameters()\n",
    "        self.aggregator_type = aggregator_type\n",
    "        return\n",
    "    \n",
    "    def reset_parameters(self):\n",
    "        \"\"\"Reinitialize learnable parameters.\"\"\"\n",
    "        gain = nn.init.calculate_gain('relu')\n",
    "        nn.init.xavier_uniform_(self.fc_self.weight, gain=gain)\n",
    "        nn.init.xavier_uniform_(self.FC_w_1.weight, gain=gain)\n",
    "        nn.init.xavier_uniform_(self.FC_w_2.weight, gain=gain)\n",
    "        return\n",
    "    \n",
    "    \n",
    "    def forward(self, graph, x):\n",
    "        x_src, x_dst = expand_as_pair(x, graph)\n",
    "        print(x_src.shape)\n",
    "        graph.srcdata['h'] = x_src\n",
    "        for layer in range(2):\n",
    "            print('layer ',layer)\n",
    "            graph.update_all(\n",
    "                fn.copy_u('h', 'm'), \n",
    "                fn.mean('m', 'nbr')\n",
    "            )\n",
    "            h_self = graph.srcdata['h']\n",
    "            h_neigh = graph.dstdata['nbr']\n",
    "            # Concatenate\n",
    "            rst = torch.cat([h_self, h_neigh],dim=1)\n",
    "           \n",
    "            if layer==0:\n",
    "                rst = self.FC_w_1(rst)\n",
    "            else:\n",
    "                rst = self.FC_w_2(rst)\n",
    "            print(rst.shape)\n",
    "            graph.srcdata['h'] = rst\n",
    "        # Do normalization\n",
    "        graph.srcdata['h'] \n",
    "        return\n",
    "    "
   ]
  },
  {
   "cell_type": "code",
   "execution_count": 129,
   "metadata": {},
   "outputs": [],
   "source": [
    "gnn_1 = GNN_1(\n",
    "    in_feats= 34,\n",
    "    out_feats=8,\n",
    "    aggregator_type='mean'\n",
    ")"
   ]
  },
  {
   "cell_type": "code",
   "execution_count": 130,
   "metadata": {},
   "outputs": [
    {
     "data": {
      "text/plain": [
       "tensor([0, 1, 2, 3, 4, 5, 6, 7, 8, 9])"
      ]
     },
     "execution_count": 130,
     "metadata": {},
     "output_type": "execute_result"
    }
   ],
   "source": [
    "g.nodes()[:10]"
   ]
  },
  {
   "cell_type": "code",
   "execution_count": 131,
   "metadata": {},
   "outputs": [
    {
     "name": "stdout",
     "output_type": "stream",
     "text": [
      "torch.Size([34, 34])\n",
      "layer  0\n",
      "torch.Size([34, 8])\n",
      "layer  1\n",
      "torch.Size([34, 8])\n"
     ]
    }
   ],
   "source": [
    "gnn_1(\n",
    "    g, g.ndata['x']\n",
    ")"
   ]
  },
  {
   "cell_type": "code",
   "execution_count": null,
   "metadata": {},
   "outputs": [],
   "source": []
  }
 ],
 "metadata": {
  "kernelspec": {
   "display_name": "Python 3",
   "language": "python",
   "name": "python3"
  },
  "language_info": {
   "codemirror_mode": {
    "name": "ipython",
    "version": 3
   },
   "file_extension": ".py",
   "mimetype": "text/x-python",
   "name": "python",
   "nbconvert_exporter": "python",
   "pygments_lexer": "ipython3",
   "version": "3.7.9"
  }
 },
 "nbformat": 4,
 "nbformat_minor": 4
}
