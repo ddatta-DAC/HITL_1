{
 "cells": [
  {
   "cell_type": "code",
   "execution_count": 54,
   "metadata": {},
   "outputs": [
    {
     "name": "stdout",
     "output_type": "stream",
     "text": [
      "INFO: Pandarallel will run on 16 workers.\n",
      "INFO: Pandarallel will use Memory file system to transfer data between the main process and workers.\n"
     ]
    }
   ],
   "source": [
    "import dgl\n",
    "import torch as th\n",
    "import sys\n",
    "import os\n",
    "sys.path.append('./..')\n",
    "import pandas as pd\n",
    "import numpy as np\n",
    "from pandarallel import pandarallel\n",
    "pandarallel.initialize()\n",
    "from dgl.data.utils import save_graphs\n",
    "from dgl.data.utils import load_graphs"
   ]
  },
  {
   "cell_type": "code",
   "execution_count": 145,
   "metadata": {
    "scrolled": true
   },
   "outputs": [],
   "source": [
    "def read_DBLP_data():\n",
    "    loc = './../DBLP'\n",
    "    fname_e = 'dblp_edges.csv'\n",
    "    fname_n = 'dblp_nodes.csv'\n",
    "    df_e = pd.read_csv(os.path.join(loc,fname_e),low_memory=False)\n",
    "    df_n = pd.read_csv(os.path.join(loc,fname_n),low_memory=False)\n",
    "    \n",
    "    \n",
    "    # replace the node id by synthetic id \n",
    "    def replace_id(val):\n",
    "        num = val[1:]\n",
    "        t = val[0]\n",
    "        return df_n.loc[(df_n['type']==t) & (df_n['ID']==val)]['synID'].values.tolist()\n",
    "        \n",
    "    df_e['n1'] = df_e['n1'].parallel_apply(replace_id)\n",
    "    df_e['n2'] = df_e['n2'].parallel_apply(replace_id)\n",
    "    \n",
    "    graph_data = {}\n",
    "    print(set(df_e['etype']))\n",
    "    for et in set(df_e['etype']):\n",
    "        et_R = et[::-1]\n",
    "        tmp = df_e.loc[df_e['etype']==et]\n",
    "        n1 = tmp['n1'].values.tolist()\n",
    "        n2 = tmp['n2'].values.tolist()\n",
    "        _list = []\n",
    "        _list_R = []\n",
    "        for i,j in zip(n1,n2):\n",
    "            _list.append((i[0], j[0]))\n",
    "            _list_R.append((j[0], i[0]))\n",
    "        graph_data [(et[0], et, et[1])] = _list \n",
    "        graph_data [(et[1], et_R, et[0])] = _list_R  \n",
    "    return graph_data"
   ]
  },
  {
   "cell_type": "code",
   "execution_count": 146,
   "metadata": {},
   "outputs": [
    {
     "name": "stdout",
     "output_type": "stream",
     "text": [
      "{'PA', 'PC', 'PT'}\n",
      "Node types, edge types ['A', 'C', 'P', 'T'] ['AP', 'CP', 'PA', 'PC', 'PT', 'TP']\n",
      "Graph :: Graph(num_nodes={'A': 4057, 'C': 20, 'P': 14328, 'T': 3590},\n",
      "      num_edges={('A', 'AP', 'P'): 19645, ('C', 'CP', 'P'): 14328, ('P', 'PA', 'A'): 19645, ('P', 'PC', 'C'): 14328, ('P', 'PT', 'T'): 81823, ('T', 'TP', 'P'): 81823},\n",
      "      metagraph=[('A', 'P', 'AP'), ('P', 'A', 'PA'), ('P', 'C', 'PC'), ('P', 'T', 'PT'), ('C', 'P', 'CP'), ('T', 'P', 'TP')])\n"
     ]
    }
   ],
   "source": [
    "graph_data = read_DBLP_data()\n",
    "g = dgl.heterograph(graph_data)\n",
    "print('Node types, edge types', g.ntypes, g.etypes)\n",
    "print('Graph ::', g)"
   ]
  },
  {
   "cell_type": "code",
   "execution_count": 147,
   "metadata": {},
   "outputs": [],
   "source": [
    "SAVE_FILE = \"./dblp_graph_obj.dgl\"\n",
    "save_graphs(SAVE_FILE, g)"
   ]
  },
  {
   "cell_type": "code",
   "execution_count": 148,
   "metadata": {},
   "outputs": [],
   "source": [
    "g,_ = load_graphs(SAVE_FILE)"
   ]
  },
  {
   "cell_type": "code",
   "execution_count": 149,
   "metadata": {},
   "outputs": [],
   "source": [
    "graph_obj = g[0]"
   ]
  },
  {
   "cell_type": "code",
   "execution_count": 150,
   "metadata": {},
   "outputs": [
    {
     "name": "stdout",
     "output_type": "stream",
     "text": [
      "Node types, edge types ['A', 'C', 'P', 'T'] ['AP', 'CP', 'PA', 'PC', 'PT', 'TP']\n",
      "Graph :: Graph(num_nodes={'A': 4057, 'C': 20, 'P': 14328, 'T': 3590},\n",
      "      num_edges={('A', 'AP', 'P'): 19645, ('C', 'CP', 'P'): 14328, ('P', 'PA', 'A'): 19645, ('P', 'PC', 'C'): 14328, ('P', 'PT', 'T'): 81823, ('T', 'TP', 'P'): 81823},\n",
      "      metagraph=[('A', 'P', 'AP'), ('P', 'A', 'PA'), ('P', 'C', 'PC'), ('P', 'T', 'PT'), ('C', 'P', 'CP'), ('T', 'P', 'TP')])\n"
     ]
    }
   ],
   "source": [
    "print('Node types, edge types', graph_obj.ntypes, graph_obj.etypes)\n",
    "print('Graph ::', graph_obj)"
   ]
  },
  {
   "cell_type": "code",
   "execution_count": 155,
   "metadata": {},
   "outputs": [],
   "source": [
    "metapaths = {\n",
    "    'C' : ['CP', 'PC' ],\n",
    "    'T' : ['TP', 'PT' ]\n",
    "}"
   ]
  },
  {
   "cell_type": "code",
   "execution_count": 159,
   "metadata": {},
   "outputs": [],
   "source": [
    "RW_list =[]\n",
    "for ntype, mp in metapaths.items():\n",
    "    RW_mp = dgl.sampling.random_walk(\n",
    "        graph_obj,\n",
    "        metapath= mp * 2 ,\n",
    "        nodes = graph_obj.nodes(ntype),\n",
    "    )\n",
    "    RW_list.append(RW_mp)"
   ]
  },
  {
   "cell_type": "code",
   "execution_count": 160,
   "metadata": {},
   "outputs": [
    {
     "data": {
      "text/plain": [
       "[(tensor([[    0,  1922,     0,  8783,     0],\n",
       "          [    1, 13277,     1,  4944,     1],\n",
       "          [    2,  8766,     2, 12121,     2],\n",
       "          [    3,   333,     3,  6859,     3],\n",
       "          [    4,  5923,     4,   255,     4],\n",
       "          [    5,  6961,     5, 13735,     5],\n",
       "          [    6,  8811,     6, 13174,     6],\n",
       "          [    7,  5978,     7,  4593,     7],\n",
       "          [    8,  8137,     8, 10946,     8],\n",
       "          [    9,  6463,     9,  7147,     9],\n",
       "          [   10, 10414,    10,  1839,    10],\n",
       "          [   11, 13580,    11,  1583,    11],\n",
       "          [   12,  4478,    12,  3728,    12],\n",
       "          [   13,  4511,    13,  9931,    13],\n",
       "          [   14,  8921,    14,  5794,    14],\n",
       "          [   15, 13253,    15,  7825,    15],\n",
       "          [   16,  4852,    16,   677,    16],\n",
       "          [   17,  7245,    17,  6981,    17],\n",
       "          [   18,  3727,    18,  2370,    18],\n",
       "          [   19,  3554,    19,  3914,    19]]),\n",
       "  tensor([1, 2, 1, 2, 1])),\n",
       " (tensor([[    0, 13955,  1218,  8297,  1364],\n",
       "          [    1,  6911,   439,  1812,   439],\n",
       "          [    2,  9007,  1034,  4491,  3453],\n",
       "          ...,\n",
       "          [ 3587,  8038,  3587, 10045,  3453],\n",
       "          [ 3588,  5542,  3588,  5446,  3452],\n",
       "          [ 3589,  5506,  3244,    60,  2061]]),\n",
       "  tensor([3, 2, 3, 2, 3]))]"
      ]
     },
     "execution_count": 160,
     "metadata": {},
     "output_type": "execute_result"
    }
   ],
   "source": []
  },
  {
   "cell_type": "code",
   "execution_count": null,
   "metadata": {},
   "outputs": [],
   "source": []
  }
 ],
 "metadata": {
  "kernelspec": {
   "display_name": "Python 3",
   "language": "python",
   "name": "python3"
  },
  "language_info": {
   "codemirror_mode": {
    "name": "ipython",
    "version": 3
   },
   "file_extension": ".py",
   "mimetype": "text/x-python",
   "name": "python",
   "nbconvert_exporter": "python",
   "pygments_lexer": "ipython3",
   "version": "3.7.9"
  }
 },
 "nbformat": 4,
 "nbformat_minor": 4
}
