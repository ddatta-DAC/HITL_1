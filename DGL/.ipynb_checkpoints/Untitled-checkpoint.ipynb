{
 "cells": [
  {
   "cell_type": "code",
   "execution_count": 289,
   "metadata": {},
   "outputs": [
    {
     "name": "stdout",
     "output_type": "stream",
     "text": [
      "INFO: Pandarallel will run on 16 workers.\n",
      "INFO: Pandarallel will use Memory file system to transfer data between the main process and workers.\n"
     ]
    }
   ],
   "source": [
    "import dgl\n",
    "import torch as th\n",
    "import sys\n",
    "import os\n",
    "sys.path.append('./..')\n",
    "import pandas as pd\n",
    "import numpy as np\n",
    "from pandarallel import pandarallel\n",
    "pandarallel.initialize()\n",
    "from dgl.data.utils import save_graphs\n",
    "import pickle\n",
    "from dgl.data.utils import load_graphs"
   ]
  },
  {
   "cell_type": "code",
   "execution_count": 145,
   "metadata": {
    "scrolled": true
   },
   "outputs": [],
   "source": [
    "def read_DBLP_data():\n",
    "    \n",
    "    loc = './../DBLP'\n",
    "    fname_e = 'dblp_edges.csv'\n",
    "    fname_n = 'dblp_nodes.csv'\n",
    "    df_e = pd.read_csv(os.path.join(loc,fname_e),low_memory=False)\n",
    "    df_n = pd.read_csv(os.path.join(loc,fname_n),low_memory=False)\n",
    "    \n",
    "    # ----------------------------------------\n",
    "    # replace the node id by synthetic id \n",
    "    # ----------------------------------------\n",
    "    def replace_id(val):      \n",
    "        num = val[1:]\n",
    "        t = val[0]\n",
    "        return df_n.loc[\n",
    "            (df_n['type']==t) & (df_n['ID']==val)\n",
    "        ]['synID'].values.tolist()\n",
    "        \n",
    "    df_e['n1'] = df_e['n1'].parallel_apply(replace_id)\n",
    "    df_e['n2'] = df_e['n2'].parallel_apply(replace_id)\n",
    "    \n",
    "    graph_data = {}\n",
    "    print('Types of edges', set(df_e['etype']))\n",
    "    \n",
    "    for et in set(df_e['etype']):\n",
    "        et_R = et[::-1]\n",
    "        tmp = df_e.loc[df_e['etype']==et]\n",
    "        n1 = tmp['n1'].values.tolist()\n",
    "        n2 = tmp['n2'].values.tolist()\n",
    "        _list = []\n",
    "        _list_R = []\n",
    "        for i,j in zip(n1,n2):\n",
    "            _list.append((i[0], j[0]))\n",
    "            _list_R.append((j[0], i[0]))\n",
    "        graph_data [(et[0], et, et[1])] = _list \n",
    "        graph_data [(et[1], et_R, et[0])] = _list_R  \n",
    "    return graph_data"
   ]
  },
  {
   "cell_type": "code",
   "execution_count": 146,
   "metadata": {},
   "outputs": [
    {
     "name": "stdout",
     "output_type": "stream",
     "text": [
      "{'PA', 'PC', 'PT'}\n",
      "Node types, edge types ['A', 'C', 'P', 'T'] ['AP', 'CP', 'PA', 'PC', 'PT', 'TP']\n",
      "Graph :: Graph(num_nodes={'A': 4057, 'C': 20, 'P': 14328, 'T': 3590},\n",
      "      num_edges={('A', 'AP', 'P'): 19645, ('C', 'CP', 'P'): 14328, ('P', 'PA', 'A'): 19645, ('P', 'PC', 'C'): 14328, ('P', 'PT', 'T'): 81823, ('T', 'TP', 'P'): 81823},\n",
      "      metagraph=[('A', 'P', 'AP'), ('P', 'A', 'PA'), ('P', 'C', 'PC'), ('P', 'T', 'PT'), ('C', 'P', 'CP'), ('T', 'P', 'TP')])\n"
     ]
    }
   ],
   "source": [
    "graph_data = read_DBLP_data()\n",
    "g = dgl.heterograph(graph_data)\n",
    "print('Node types, edge types', g.ntypes, g.etypes)\n",
    "print('Graph ::', g)"
   ]
  },
  {
   "cell_type": "code",
   "execution_count": 147,
   "metadata": {},
   "outputs": [],
   "source": [
    "SAVE_FILE = \"./dblp_graph_obj.dgl\"\n",
    "save_graphs(SAVE_FILE, g)"
   ]
  },
  {
   "cell_type": "code",
   "execution_count": 148,
   "metadata": {},
   "outputs": [],
   "source": [
    "g,_ = load_graphs(SAVE_FILE)"
   ]
  },
  {
   "cell_type": "code",
   "execution_count": 149,
   "metadata": {},
   "outputs": [],
   "source": [
    "graph_obj = g[0]"
   ]
  },
  {
   "cell_type": "code",
   "execution_count": 150,
   "metadata": {},
   "outputs": [
    {
     "name": "stdout",
     "output_type": "stream",
     "text": [
      "Node types, edge types ['A', 'C', 'P', 'T'] ['AP', 'CP', 'PA', 'PC', 'PT', 'TP']\n",
      "Graph :: Graph(num_nodes={'A': 4057, 'C': 20, 'P': 14328, 'T': 3590},\n",
      "      num_edges={('A', 'AP', 'P'): 19645, ('C', 'CP', 'P'): 14328, ('P', 'PA', 'A'): 19645, ('P', 'PC', 'C'): 14328, ('P', 'PT', 'T'): 81823, ('T', 'TP', 'P'): 81823},\n",
      "      metagraph=[('A', 'P', 'AP'), ('P', 'A', 'PA'), ('P', 'C', 'PC'), ('P', 'T', 'PT'), ('C', 'P', 'CP'), ('T', 'P', 'TP')])\n"
     ]
    }
   ],
   "source": [
    "print('Node types, edge types', graph_obj.ntypes, graph_obj.etypes)\n",
    "print('Graph ::', graph_obj)"
   ]
  },
  {
   "cell_type": "code",
   "execution_count": 178,
   "metadata": {},
   "outputs": [],
   "source": []
  },
  {
   "cell_type": "code",
   "execution_count": 179,
   "metadata": {},
   "outputs": [
    {
     "data": {
      "text/plain": [
       "{0: 'A', 1: 'C', 2: 'P', 3: 'T'}"
      ]
     },
     "execution_count": 179,
     "metadata": {},
     "output_type": "execute_result"
    }
   ],
   "source": [
    "node_typeID2typename"
   ]
  },
  {
   "cell_type": "code",
   "execution_count": 155,
   "metadata": {},
   "outputs": [],
   "source": [
    "metapaths = {\n",
    "    'C' : ['CP', 'PC' ],\n",
    "    'T' : ['TP', 'PT' ]\n",
    "}\n",
    "\n"
   ]
  },
  {
   "cell_type": "code",
   "execution_count": 226,
   "metadata": {},
   "outputs": [],
   "source": [
    "def get_RW_list(graph_obj, metapaths, prefix=True):\n",
    "    def add_prefix(prefix, val):\n",
    "        return prefix + str(val)\n",
    "    \n",
    "    node_typeID2typename = {}\n",
    "    for e in  enumerate(graph_obj.ntypes): \n",
    "        node_typeID2typename[e[0]]= e[1]\n",
    "    \n",
    "    RW_list =[]\n",
    "    for ntype, mp in metapaths.items():\n",
    "        mp =  mp * 10\n",
    "        RW_mp = dgl.sampling.random_walk(\n",
    "            graph_obj,\n",
    "            metapath= mp,\n",
    "            nodes = graph_obj.nodes(ntype),\n",
    "        )\n",
    "        print(RW_mp[1])\n",
    "        _random_walks = RW_mp[0].data.numpy()\n",
    "        if prefix:\n",
    "            pattern = RW_mp[1].data.numpy().tolist()\n",
    "            pattern = [node_typeID2typename[_] for _ in pattern ]\n",
    "            vectorized_func = np.vectorize(add_prefix)\n",
    "            _random_walks = vectorized_func(pattern,_random_walks)     \n",
    "        RW_list.extend(_random_walks.tolist())\n",
    "        \n",
    "    return RW_list"
   ]
  },
  {
   "cell_type": "code",
   "execution_count": 227,
   "metadata": {},
   "outputs": [
    {
     "name": "stdout",
     "output_type": "stream",
     "text": [
      "tensor([1, 2, 1, 2, 1, 2, 1, 2, 1, 2, 1, 2, 1, 2, 1, 2, 1, 2, 1, 2, 1])\n",
      "tensor([3, 2, 3, 2, 3, 2, 3, 2, 3, 2, 3, 2, 3, 2, 3, 2, 3, 2, 3, 2, 3])\n"
     ]
    }
   ],
   "source": [
    "random_walks =  get_RW_list(graph_obj, metapaths)"
   ]
  },
  {
   "cell_type": "code",
   "execution_count": 215,
   "metadata": {},
   "outputs": [],
   "source": [
    "from gensim.models import KeyedVectors\n",
    "from gensim.models import Word2Vec\n",
    "from gensim.models.callbacks import CallbackAny2Vec\n",
    "import multiprocessing as mp\n",
    "\n",
    "cpu_count = mp.cpu_count()"
   ]
  },
  {
   "cell_type": "code",
   "execution_count": 247,
   "metadata": {},
   "outputs": [],
   "source": [
    "class loss_callback(CallbackAny2Vec):\n",
    "    '''Callback to print loss after each epoch.'''\n",
    "\n",
    "    def __init__(self):\n",
    "        self.epoch = 0\n",
    "        self.loss_to_be_subed = 0\n",
    "            \n",
    "    def on_epoch_end(self, model):\n",
    "        loss = model.get_latest_training_loss()\n",
    "        loss_now = loss - self.loss_to_be_subed\n",
    "        self.loss_to_be_subed = loss\n",
    "        print('Loss after epoch {}: {}'.format(self.epoch, loss_now))\n",
    "        self.epoch += 1\n"
   ]
  },
  {
   "cell_type": "code",
   "execution_count": 250,
   "metadata": {},
   "outputs": [],
   "source": [
    "def node2vec(random_walks):\n",
    "    \n",
    "    cpu_count = mp.cpu_count()\n",
    "    model = Word2Vec(\n",
    "        random_walks, \n",
    "        size=128, \n",
    "        window=3, \n",
    "        negative = 10,\n",
    "        sg = 1,\n",
    "        min_count=1, \n",
    "        iter = 250,\n",
    "        compute_loss=True,\n",
    "        callbacks= [loss_callback()]\n",
    "    )\n",
    "  \n",
    "    return model"
   ]
  },
  {
   "cell_type": "code",
   "execution_count": 253,
   "metadata": {
    "scrolled": true
   },
   "outputs": [
    {
     "name": "stdout",
     "output_type": "stream",
     "text": [
      "Loss after epoch 0: 825818.625\n",
      "Loss after epoch 1: 591851.875\n",
      "Loss after epoch 2: 432151.875\n",
      "Loss after epoch 3: 377465.125\n",
      "Loss after epoch 4: 325690.5\n",
      "Loss after epoch 5: 306244.25\n",
      "Loss after epoch 6: 293204.25\n",
      "Loss after epoch 7: 279971.0\n",
      "Loss after epoch 8: 263887.25\n",
      "Loss after epoch 9: 246207.25\n",
      "Loss after epoch 10: 228091.5\n",
      "Loss after epoch 11: 187738.0\n",
      "Loss after epoch 12: 170986.5\n",
      "Loss after epoch 13: 157336.0\n",
      "Loss after epoch 14: 144931.5\n",
      "Loss after epoch 15: 134555.0\n",
      "Loss after epoch 16: 124860.5\n",
      "Loss after epoch 17: 115810.5\n",
      "Loss after epoch 18: 108662.5\n",
      "Loss after epoch 19: 101135.0\n",
      "Loss after epoch 20: 95610.0\n",
      "Loss after epoch 21: 91162.5\n",
      "Loss after epoch 22: 84446.0\n",
      "Loss after epoch 23: 79951.0\n",
      "Loss after epoch 24: 77138.5\n",
      "Loss after epoch 25: 73615.5\n",
      "Loss after epoch 26: 71936.0\n",
      "Loss after epoch 27: 68350.5\n",
      "Loss after epoch 28: 66689.5\n",
      "Loss after epoch 29: 65687.5\n",
      "Loss after epoch 30: 61697.5\n",
      "Loss after epoch 31: 60767.0\n",
      "Loss after epoch 32: 58664.0\n",
      "Loss after epoch 33: 57676.0\n",
      "Loss after epoch 34: 56653.0\n",
      "Loss after epoch 35: 55821.5\n",
      "Loss after epoch 36: 55163.0\n",
      "Loss after epoch 37: 53323.0\n",
      "Loss after epoch 38: 52237.5\n",
      "Loss after epoch 39: 50348.5\n",
      "Loss after epoch 40: 49893.5\n",
      "Loss after epoch 41: 49890.5\n",
      "Loss after epoch 42: 48923.0\n",
      "Loss after epoch 43: 47579.5\n",
      "Loss after epoch 44: 47466.5\n",
      "Loss after epoch 45: 46636.5\n",
      "Loss after epoch 46: 46947.5\n",
      "Loss after epoch 47: 45363.0\n",
      "Loss after epoch 48: 45474.0\n",
      "Loss after epoch 49: 46051.5\n",
      "Loss after epoch 50: 43673.5\n",
      "Loss after epoch 51: 43500.5\n",
      "Loss after epoch 52: 43689.0\n",
      "Loss after epoch 53: 42917.5\n",
      "Loss after epoch 54: 42712.0\n",
      "Loss after epoch 55: 42589.5\n",
      "Loss after epoch 56: 42273.0\n",
      "Loss after epoch 57: 42008.5\n",
      "Loss after epoch 58: 41172.0\n",
      "Loss after epoch 59: 41148.5\n",
      "Loss after epoch 60: 41542.0\n",
      "Loss after epoch 61: 40513.5\n",
      "Loss after epoch 62: 40266.5\n",
      "Loss after epoch 63: 40292.5\n",
      "Loss after epoch 64: 39590.0\n",
      "Loss after epoch 65: 39764.5\n",
      "Loss after epoch 66: 39416.5\n",
      "Loss after epoch 67: 39500.5\n",
      "Loss after epoch 68: 38890.0\n",
      "Loss after epoch 69: 39896.0\n",
      "Loss after epoch 70: 39454.5\n",
      "Loss after epoch 71: 38516.0\n",
      "Loss after epoch 72: 38893.0\n",
      "Loss after epoch 73: 38178.5\n",
      "Loss after epoch 74: 38545.0\n",
      "Loss after epoch 75: 38982.0\n",
      "Loss after epoch 76: 38104.5\n",
      "Loss after epoch 77: 37700.5\n",
      "Loss after epoch 78: 36694.5\n",
      "Loss after epoch 79: 33858.0\n",
      "Loss after epoch 80: 34168.0\n",
      "Loss after epoch 81: 33921.0\n",
      "Loss after epoch 82: 33128.0\n",
      "Loss after epoch 83: 33747.0\n",
      "Loss after epoch 84: 33595.0\n",
      "Loss after epoch 85: 33526.0\n",
      "Loss after epoch 86: 32827.0\n",
      "Loss after epoch 87: 32833.0\n",
      "Loss after epoch 88: 33314.0\n",
      "Loss after epoch 89: 33078.0\n",
      "Loss after epoch 90: 32695.0\n",
      "Loss after epoch 91: 33507.0\n",
      "Loss after epoch 92: 32843.0\n",
      "Loss after epoch 93: 33052.0\n",
      "Loss after epoch 94: 33149.0\n",
      "Loss after epoch 95: 32890.0\n",
      "Loss after epoch 96: 32679.0\n",
      "Loss after epoch 97: 32717.0\n",
      "Loss after epoch 98: 32193.0\n",
      "Loss after epoch 99: 32157.0\n",
      "Loss after epoch 100: 32467.0\n",
      "Loss after epoch 101: 32377.0\n",
      "Loss after epoch 102: 31976.0\n",
      "Loss after epoch 103: 31829.0\n",
      "Loss after epoch 104: 32736.0\n",
      "Loss after epoch 105: 32520.0\n",
      "Loss after epoch 106: 32362.0\n",
      "Loss after epoch 107: 32183.0\n",
      "Loss after epoch 108: 32078.0\n",
      "Loss after epoch 109: 31951.0\n",
      "Loss after epoch 110: 32230.0\n",
      "Loss after epoch 111: 31748.0\n",
      "Loss after epoch 112: 31819.0\n",
      "Loss after epoch 113: 31716.0\n",
      "Loss after epoch 114: 32011.0\n",
      "Loss after epoch 115: 31914.0\n",
      "Loss after epoch 116: 31918.0\n",
      "Loss after epoch 117: 31325.0\n",
      "Loss after epoch 118: 31797.0\n",
      "Loss after epoch 119: 31880.0\n",
      "Loss after epoch 120: 31820.0\n",
      "Loss after epoch 121: 31574.0\n",
      "Loss after epoch 122: 31649.0\n",
      "Loss after epoch 123: 31764.0\n",
      "Loss after epoch 124: 31468.0\n",
      "Loss after epoch 125: 31451.0\n",
      "Loss after epoch 126: 31638.0\n",
      "Loss after epoch 127: 31211.0\n",
      "Loss after epoch 128: 31457.0\n",
      "Loss after epoch 129: 31756.0\n",
      "Loss after epoch 130: 31186.0\n",
      "Loss after epoch 131: 31603.0\n",
      "Loss after epoch 132: 31181.0\n",
      "Loss after epoch 133: 31478.0\n",
      "Loss after epoch 134: 30994.0\n",
      "Loss after epoch 135: 30832.0\n",
      "Loss after epoch 136: 30946.0\n",
      "Loss after epoch 137: 31289.0\n",
      "Loss after epoch 138: 30732.0\n",
      "Loss after epoch 139: 31120.0\n",
      "Loss after epoch 140: 31499.0\n",
      "Loss after epoch 141: 31028.0\n",
      "Loss after epoch 142: 30822.0\n",
      "Loss after epoch 143: 30423.0\n",
      "Loss after epoch 144: 31396.0\n",
      "Loss after epoch 145: 30566.0\n",
      "Loss after epoch 146: 30896.0\n",
      "Loss after epoch 147: 31268.0\n",
      "Loss after epoch 148: 31201.0\n",
      "Loss after epoch 149: 30462.0\n",
      "Loss after epoch 150: 31284.0\n",
      "Loss after epoch 151: 30544.0\n",
      "Loss after epoch 152: 31280.0\n",
      "Loss after epoch 153: 30834.0\n",
      "Loss after epoch 154: 30750.0\n",
      "Loss after epoch 155: 30085.0\n",
      "Loss after epoch 156: 29938.0\n",
      "Loss after epoch 157: 30164.0\n",
      "Loss after epoch 158: 30594.0\n",
      "Loss after epoch 159: 30076.0\n",
      "Loss after epoch 160: 30447.0\n",
      "Loss after epoch 161: 30074.0\n",
      "Loss after epoch 162: 29894.0\n",
      "Loss after epoch 163: 30386.0\n",
      "Loss after epoch 164: 30073.0\n",
      "Loss after epoch 165: 30507.0\n",
      "Loss after epoch 166: 29884.0\n",
      "Loss after epoch 167: 30204.0\n",
      "Loss after epoch 168: 30279.0\n",
      "Loss after epoch 169: 30539.0\n",
      "Loss after epoch 170: 29953.0\n",
      "Loss after epoch 171: 30164.0\n",
      "Loss after epoch 172: 30331.0\n",
      "Loss after epoch 173: 29906.0\n",
      "Loss after epoch 174: 30117.0\n",
      "Loss after epoch 175: 29720.0\n",
      "Loss after epoch 176: 29855.0\n",
      "Loss after epoch 177: 29562.0\n",
      "Loss after epoch 178: 29756.0\n",
      "Loss after epoch 179: 30231.0\n",
      "Loss after epoch 180: 29487.0\n",
      "Loss after epoch 181: 29717.0\n",
      "Loss after epoch 182: 29206.0\n",
      "Loss after epoch 183: 30059.0\n",
      "Loss after epoch 184: 30284.0\n",
      "Loss after epoch 185: 29967.0\n",
      "Loss after epoch 186: 29763.0\n",
      "Loss after epoch 187: 30149.0\n",
      "Loss after epoch 188: 29414.0\n",
      "Loss after epoch 189: 29742.0\n",
      "Loss after epoch 190: 29238.0\n",
      "Loss after epoch 191: 29321.0\n",
      "Loss after epoch 192: 29123.0\n",
      "Loss after epoch 193: 29131.0\n",
      "Loss after epoch 194: 29378.0\n",
      "Loss after epoch 195: 28846.0\n",
      "Loss after epoch 196: 29305.0\n",
      "Loss after epoch 197: 29931.0\n",
      "Loss after epoch 198: 29186.0\n",
      "Loss after epoch 199: 29155.0\n",
      "Loss after epoch 200: 29496.0\n",
      "Loss after epoch 201: 29530.0\n",
      "Loss after epoch 202: 28820.0\n",
      "Loss after epoch 203: 28815.0\n",
      "Loss after epoch 204: 29152.0\n",
      "Loss after epoch 205: 28882.0\n",
      "Loss after epoch 206: 28481.0\n",
      "Loss after epoch 207: 29122.0\n",
      "Loss after epoch 208: 28392.0\n",
      "Loss after epoch 209: 28991.0\n",
      "Loss after epoch 210: 28944.0\n",
      "Loss after epoch 211: 28986.0\n",
      "Loss after epoch 212: 28975.0\n",
      "Loss after epoch 213: 28704.0\n",
      "Loss after epoch 214: 28743.0\n",
      "Loss after epoch 215: 28525.0\n",
      "Loss after epoch 216: 28729.0\n",
      "Loss after epoch 217: 28657.0\n",
      "Loss after epoch 218: 28722.0\n",
      "Loss after epoch 219: 28230.0\n",
      "Loss after epoch 220: 28091.0\n",
      "Loss after epoch 221: 28328.0\n",
      "Loss after epoch 222: 28836.0\n",
      "Loss after epoch 223: 28418.0\n",
      "Loss after epoch 224: 29078.0\n",
      "Loss after epoch 225: 28417.0\n",
      "Loss after epoch 226: 28617.0\n",
      "Loss after epoch 227: 28052.0\n",
      "Loss after epoch 228: 28334.0\n",
      "Loss after epoch 229: 28046.0\n",
      "Loss after epoch 230: 28122.0\n",
      "Loss after epoch 231: 28407.0\n",
      "Loss after epoch 232: 28158.0\n",
      "Loss after epoch 233: 27993.0\n",
      "Loss after epoch 234: 28322.0\n",
      "Loss after epoch 235: 27477.0\n",
      "Loss after epoch 236: 28138.0\n",
      "Loss after epoch 237: 27922.0\n",
      "Loss after epoch 238: 27842.0\n",
      "Loss after epoch 239: 28105.0\n",
      "Loss after epoch 240: 27803.0\n",
      "Loss after epoch 241: 27828.0\n",
      "Loss after epoch 242: 28037.0\n",
      "Loss after epoch 243: 28153.0\n",
      "Loss after epoch 244: 27912.0\n",
      "Loss after epoch 245: 28077.0\n",
      "Loss after epoch 246: 27638.0\n",
      "Loss after epoch 247: 28085.0\n",
      "Loss after epoch 248: 28097.0\n",
      "Loss after epoch 249: 27989.0\n"
     ]
    }
   ],
   "source": [
    "model = node2vec(random_walks)"
   ]
  },
  {
   "cell_type": "code",
   "execution_count": 286,
   "metadata": {},
   "outputs": [],
   "source": [
    "def get_node_vectors(w2v_model):\n",
    "    vectors_dict = {} \n",
    "    for node,vec  in  w2v_model.wv.vocab.items():\n",
    "        _type = node[0]\n",
    "        _id = int(node[1:])\n",
    "        if _type not in vectors_dict.keys(): vectors_dict[_type]= {}\n",
    "        vectors_dict[_type][_id] = w2v_model.wv[node]\n",
    "    return vectors_dict "
   ]
  },
  {
   "cell_type": "code",
   "execution_count": 287,
   "metadata": {},
   "outputs": [],
   "source": [
    "vectors_dict = get_node_vectors(model)"
   ]
  },
  {
   "cell_type": "code",
   "execution_count": 290,
   "metadata": {},
   "outputs": [],
   "source": [
    "# Save the node2vec vectors\n",
    "with open(\"node2vec_vectors_dblp.pkl\",'wb') as fh:\n",
    "    pickle.dump(vectors_dict, fh, pickle.HIGHEST_PROTOCOL)"
   ]
  },
  {
   "cell_type": "code",
   "execution_count": null,
   "metadata": {},
   "outputs": [],
   "source": []
  }
 ],
 "metadata": {
  "kernelspec": {
   "display_name": "Python 3",
   "language": "python",
   "name": "python3"
  },
  "language_info": {
   "codemirror_mode": {
    "name": "ipython",
    "version": 3
   },
   "file_extension": ".py",
   "mimetype": "text/x-python",
   "name": "python",
   "nbconvert_exporter": "python",
   "pygments_lexer": "ipython3",
   "version": "3.7.9"
  }
 },
 "nbformat": 4,
 "nbformat_minor": 4
}
