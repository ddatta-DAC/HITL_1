{
 "cells": [
  {
   "cell_type": "code",
   "execution_count": 224,
   "metadata": {},
   "outputs": [
    {
     "name": "stdout",
     "output_type": "stream",
     "text": [
      "INFO: Pandarallel will run on 8 workers.\n",
      "INFO: Pandarallel will use Memory file system to transfer data between the main process and workers.\n"
     ]
    }
   ],
   "source": [
    "import dgl\n",
    "import torch as th\n",
    "import sys\n",
    "import os\n",
    "sys.path.append('./..')\n",
    "import pandas as pd\n",
    "import numpy as np\n",
    "from pandarallel import pandarallel\n",
    "pandarallel.initialize()\n",
    "from dgl.data.utils import save_graphs\n",
    "import pickle\n",
    "from dgl.data.utils import load_graphs\n",
    "from torch import nn\n",
    "from torch.nn import functional as F\n",
    "from torch import FloatTensor as FT\n",
    "from torch import LongTensor as LT\n",
    "import torch\n",
    "import dgl.function as fn\n",
    "from torch import FloatTensor as FT\n",
    "from torch import LongTensor as LT\n",
    "from tqdm import tqdm"
   ]
  },
  {
   "cell_type": "code",
   "execution_count": 3,
   "metadata": {},
   "outputs": [],
   "source": [
    "\n"
   ]
  },
  {
   "cell_type": "code",
   "execution_count": 4,
   "metadata": {
    "scrolled": true
   },
   "outputs": [],
   "source": [
    "def read_DBLP_data():\n",
    "    \n",
    "    loc = './../DBLP'\n",
    "    fname_e = 'dblp_edges.csv'\n",
    "    fname_n = 'dblp_nodes.csv'\n",
    "    df_e = pd.read_csv(os.path.join(loc,fname_e),low_memory=False)\n",
    "    df_n = pd.read_csv(os.path.join(loc,fname_n),low_memory=False)\n",
    "    \n",
    "    # ----------------------------------------\n",
    "    # replace the node id by synthetic id \n",
    "    # ----------------------------------------\n",
    "    def replace_id(val):      \n",
    "        num = val[1:]\n",
    "        t = val[0]\n",
    "        return df_n.loc[\n",
    "            (df_n['type']==t) & (df_n['ID']==val)\n",
    "        ]['synID'].values.tolist()\n",
    "        \n",
    "    df_e['n1'] = df_e['n1'].parallel_apply(replace_id)\n",
    "    df_e['n2'] = df_e['n2'].parallel_apply(replace_id)\n",
    "    \n",
    "    graph_data = {}\n",
    "    print('Types of edges', set(df_e['etype']))\n",
    "    \n",
    "    for et in set(df_e['etype']):\n",
    "        et_R = et[::-1]\n",
    "        tmp = df_e.loc[df_e['etype']==et]\n",
    "        n1 = tmp['n1'].values.tolist()\n",
    "        n2 = tmp['n2'].values.tolist()\n",
    "        _list = []\n",
    "        _list_R = []\n",
    "        for i,j in zip(n1,n2):\n",
    "            _list.append((i[0], j[0]))\n",
    "            _list_R.append((j[0], i[0]))\n",
    "        graph_data [(et[0], et, et[1])] = _list \n",
    "        graph_data [(et[1], et_R, et[0])] = _list_R  \n",
    "    return graph_data"
   ]
  },
  {
   "cell_type": "code",
   "execution_count": 4,
   "metadata": {},
   "outputs": [
    {
     "name": "stdout",
     "output_type": "stream",
     "text": [
      "Types of edges {'PA', 'PT', 'PC'}\n",
      "Node types, edge types ['A', 'C', 'P', 'T'] ['AP', 'CP', 'PA', 'PC', 'PT', 'TP']\n",
      "Graph :: Graph(num_nodes={'A': 4057, 'C': 20, 'P': 14328, 'T': 3590},\n",
      "      num_edges={('A', 'AP', 'P'): 19645, ('C', 'CP', 'P'): 14328, ('P', 'PA', 'A'): 19645, ('P', 'PC', 'C'): 14328, ('P', 'PT', 'T'): 81823, ('T', 'TP', 'P'): 81823},\n",
      "      metagraph=[('A', 'P', 'AP'), ('P', 'A', 'PA'), ('P', 'C', 'PC'), ('P', 'T', 'PT'), ('C', 'P', 'CP'), ('T', 'P', 'TP')])\n"
     ]
    }
   ],
   "source": [
    "graph_data = read_DBLP_data()\n",
    "g = dgl.heterograph(graph_data)\n",
    "print('Node types, edge types', g.ntypes, g.etypes)\n",
    "print('Graph ::', g)"
   ]
  },
  {
   "cell_type": "code",
   "execution_count": 5,
   "metadata": {},
   "outputs": [],
   "source": [
    "SAVE_FILE = \"./dblp_graph_obj.dgl\""
   ]
  },
  {
   "cell_type": "code",
   "execution_count": 5,
   "metadata": {},
   "outputs": [],
   "source": [
    "save_graphs(SAVE_FILE, g)"
   ]
  },
  {
   "cell_type": "code",
   "execution_count": 6,
   "metadata": {},
   "outputs": [],
   "source": [
    "g,_ = load_graphs(SAVE_FILE)"
   ]
  },
  {
   "cell_type": "code",
   "execution_count": 7,
   "metadata": {},
   "outputs": [],
   "source": [
    "graph_obj = g[0]"
   ]
  },
  {
   "cell_type": "code",
   "execution_count": 8,
   "metadata": {},
   "outputs": [
    {
     "name": "stdout",
     "output_type": "stream",
     "text": [
      "Node types, edge types ['A', 'C', 'P', 'T'] ['AP', 'CP', 'PA', 'PC', 'PT', 'TP']\n",
      "Graph :: Graph(num_nodes={'A': 4057, 'C': 20, 'P': 14328, 'T': 3590},\n",
      "      num_edges={('A', 'AP', 'P'): 19645, ('C', 'CP', 'P'): 14328, ('P', 'PA', 'A'): 19645, ('P', 'PC', 'C'): 14328, ('P', 'PT', 'T'): 81823, ('T', 'TP', 'P'): 81823},\n",
      "      metagraph=[('A', 'P', 'AP'), ('P', 'A', 'PA'), ('P', 'C', 'PC'), ('P', 'T', 'PT'), ('C', 'P', 'CP'), ('T', 'P', 'TP')])\n"
     ]
    }
   ],
   "source": [
    "print('Node types, edge types', graph_obj.ntypes, graph_obj.etypes)\n",
    "print('Graph ::', graph_obj)"
   ]
  },
  {
   "cell_type": "code",
   "execution_count": null,
   "metadata": {},
   "outputs": [],
   "source": [
    "\n",
    "\n"
   ]
  },
  {
   "cell_type": "code",
   "execution_count": 10,
   "metadata": {},
   "outputs": [],
   "source": [
    "metapaths = {\n",
    "    'C' : ['CP', 'PC' ],\n",
    "    'T' : ['TP', 'PT' ],\n",
    "    'P' : ['PT', 'TP', 'PC' , 'CP']\n",
    "}\n",
    "\n"
   ]
  },
  {
   "cell_type": "code",
   "execution_count": 9,
   "metadata": {},
   "outputs": [],
   "source": [
    "def get_RW_list(graph_obj, metapaths, prefix=True):\n",
    "    def add_prefix(prefix, val):\n",
    "        return prefix + str(val)\n",
    "    \n",
    "    node_typeID2typename = {}\n",
    "    for e in  enumerate(graph_obj.ntypes): \n",
    "        node_typeID2typename[e[0]]= e[1]\n",
    "    \n",
    "    RW_list =[]\n",
    "    for ntype, mp in metapaths.items():\n",
    "        mp =  mp * 10\n",
    "        RW_mp = dgl.sampling.random_walk(\n",
    "            graph_obj,\n",
    "            metapath= mp,\n",
    "            nodes = graph_obj.nodes(ntype),\n",
    "        )\n",
    "        print(RW_mp[1])\n",
    "        _random_walks = RW_mp[0].data.numpy()\n",
    "        if prefix:\n",
    "            pattern = RW_mp[1].data.numpy().tolist()\n",
    "            pattern = [node_typeID2typename[_] for _ in pattern ]\n",
    "            print(pattern)\n",
    "            vectorized_func = np.vectorize(add_prefix)\n",
    "            _random_walks = vectorized_func( patterlengthn, _random_walks)\n",
    "           \n",
    "        RW_list.extend(_random_walks.tolist())\n",
    "        \n",
    "    return RW_list"
   ]
  },
  {
   "cell_type": "code",
   "execution_count": null,
   "metadata": {},
   "outputs": [],
   "source": []
  },
  {
   "cell_type": "code",
   "execution_count": 72,
   "metadata": {},
   "outputs": [
    {
     "name": "stdout",
     "output_type": "stream",
     "text": [
      "tensor([1, 2, 1, 2, 1, 2, 1, 2, 1, 2, 1, 2, 1, 2, 1, 2, 1, 2, 1, 2, 1])\n",
      "['C', 'P', 'C', 'P', 'C', 'P', 'C', 'P', 'C', 'P', 'C', 'P', 'C', 'P', 'C', 'P', 'C', 'P', 'C', 'P', 'C']\n",
      "tensor([3, 2, 3, 2, 3, 2, 3, 2, 3, 2, 3, 2, 3, 2, 3, 2, 3, 2, 3, 2, 3])\n",
      "['T', 'P', 'T', 'P', 'T', 'P', 'T', 'P', 'T', 'P', 'T', 'P', 'T', 'P', 'T', 'P', 'T', 'P', 'T', 'P', 'T']\n",
      "tensor([2, 3, 2, 1, 2, 3, 2, 1, 2, 3, 2, 1, 2, 3, 2, 1, 2, 3, 2, 1, 2, 3, 2, 1,\n",
      "        2, 3, 2, 1, 2, 3, 2, 1, 2, 3, 2, 1, 2, 3, 2, 1, 2])\n",
      "['P', 'T', 'P', 'C', 'P', 'T', 'P', 'C', 'P', 'T', 'P', 'C', 'P', 'T', 'P', 'C', 'P', 'T', 'P', 'C', 'P', 'T', 'P', 'C', 'P', 'T', 'P', 'C', 'P', 'T', 'P', 'C', 'P', 'T', 'P', 'C', 'P', 'T', 'P', 'C', 'P']\n"
     ]
    }
   ],
   "source": [
    "random_walks = get_RW_list(graph_obj, metapaths)"
   ]
  },
  {
   "cell_type": "code",
   "execution_count": null,
   "metadata": {},
   "outputs": [],
   "source": []
  },
  {
   "cell_type": "code",
   "execution_count": 73,
   "metadata": {},
   "outputs": [],
   "source": []
  },
  {
   "cell_type": "code",
   "execution_count": 74,
   "metadata": {},
   "outputs": [
    {
     "data": {
      "text/plain": [
       "True"
      ]
     },
     "execution_count": 74,
     "metadata": {},
     "output_type": "execute_result"
    }
   ],
   "source": []
  },
  {
   "cell_type": "code",
   "execution_count": 10,
   "metadata": {},
   "outputs": [],
   "source": [
    "from gensim.models import KeyedVectors\n",
    "from gensim.models import Word2Vec\n",
    "from gensim.models.callbacks import CallbackAny2Vec\n",
    "import multiprocessing as mp\n",
    "\n",
    "cpu_count = mp.cpu_count()"
   ]
  },
  {
   "cell_type": "code",
   "execution_count": 14,
   "metadata": {},
   "outputs": [],
   "source": [
    "class loss_callback(CallbackAny2Vec):\n",
    "    '''Callback to print loss after each epoch.'''\n",
    "\n",
    "    def __init__(self):\n",
    "        self.epoch = 0\n",
    "        self.loss_to_be_subed = 0\n",
    "            \n",
    "    def on_epoch_end(self, model):\n",
    "        loss = model.get_latest_training_loss()\n",
    "        loss_now = loss - self.loss_to_be_subed\n",
    "        self.loss_to_be_subed = loss\n",
    "        print('Loss after epoch {}: {}'.format(self.epoch, loss_now))\n",
    "        self.epoch += 1\n"
   ]
  },
  {
   "cell_type": "code",
   "execution_count": null,
   "metadata": {},
   "outputs": [],
   "source": []
  },
  {
   "cell_type": "code",
   "execution_count": 15,
   "metadata": {},
   "outputs": [],
   "source": [
    "def node2vec(random_walks, epochs = 100):\n",
    "    cpu_count = mp.cpu_count()\n",
    "    model = Word2Vec(\n",
    "        random_walks, \n",
    "        size=128, \n",
    "        window=3, \n",
    "        negative = 10,\n",
    "        sg = 1,\n",
    "        min_count=1, \n",
    "        iter = epochs,\n",
    "        compute_loss=True,\n",
    "        callbacks= [loss_callback()]\n",
    "    )\n",
    "  \n",
    "    return model"
   ]
  },
  {
   "cell_type": "code",
   "execution_count": 16,
   "metadata": {
    "scrolled": true
   },
   "outputs": [
    {
     "name": "stdout",
     "output_type": "stream",
     "text": [
      "Loss after epoch 0: 2959041.25\n",
      "Loss after epoch 1: 1616846.75\n",
      "Loss after epoch 2: 1539773.5\n",
      "Loss after epoch 3: 1494218.5\n",
      "Loss after epoch 4: 1329412.0\n",
      "Loss after epoch 5: 1068293.0\n",
      "Loss after epoch 6: 1019163.0\n",
      "Loss after epoch 7: 1126825.0\n",
      "Loss after epoch 8: 1063675.0\n",
      "Loss after epoch 9: 925662.0\n",
      "Loss after epoch 10: 1026505.0\n",
      "Loss after epoch 11: 965177.0\n",
      "Loss after epoch 12: 907416.0\n",
      "Loss after epoch 13: 795062.0\n",
      "Loss after epoch 14: 781654.0\n",
      "Loss after epoch 15: 731722.0\n",
      "Loss after epoch 16: 750374.0\n",
      "Loss after epoch 17: 710116.0\n",
      "Loss after epoch 18: 652882.0\n",
      "Loss after epoch 19: 711134.0\n",
      "Loss after epoch 20: 694964.0\n",
      "Loss after epoch 21: 627070.0\n",
      "Loss after epoch 22: 689686.0\n",
      "Loss after epoch 23: 614478.0\n",
      "Loss after epoch 24: 646726.0\n",
      "Loss after epoch 25: 669510.0\n",
      "Loss after epoch 26: 611840.0\n",
      "Loss after epoch 27: 662960.0\n",
      "Loss after epoch 28: 653640.0\n",
      "Loss after epoch 29: 650250.0\n",
      "Loss after epoch 30: 567358.0\n",
      "Loss after epoch 31: 658266.0\n",
      "Loss after epoch 32: 578638.0\n",
      "Loss after epoch 33: 569578.0\n",
      "Loss after epoch 34: 636776.0\n",
      "Loss after epoch 35: 636152.0\n",
      "Loss after epoch 36: 627532.0\n",
      "Loss after epoch 37: 611364.0\n",
      "Loss after epoch 38: 410936.0\n",
      "Loss after epoch 39: 384344.0\n",
      "Loss after epoch 40: 431892.0\n",
      "Loss after epoch 41: 431756.0\n",
      "Loss after epoch 42: 368744.0\n",
      "Loss after epoch 43: 379112.0\n",
      "Loss after epoch 44: 421868.0\n",
      "Loss after epoch 45: 380308.0\n",
      "Loss after epoch 46: 373356.0\n",
      "Loss after epoch 47: 369540.0\n",
      "Loss after epoch 48: 369740.0\n",
      "Loss after epoch 49: 366004.0\n",
      "Loss after epoch 50: 412616.0\n",
      "Loss after epoch 51: 404188.0\n",
      "Loss after epoch 52: 363652.0\n",
      "Loss after epoch 53: 362636.0\n",
      "Loss after epoch 54: 409768.0\n",
      "Loss after epoch 55: 411576.0\n",
      "Loss after epoch 56: 358604.0\n",
      "Loss after epoch 57: 376500.0\n",
      "Loss after epoch 58: 393492.0\n",
      "Loss after epoch 59: 384600.0\n",
      "Loss after epoch 60: 354484.0\n",
      "Loss after epoch 61: 381188.0\n",
      "Loss after epoch 62: 397624.0\n",
      "Loss after epoch 63: 350124.0\n",
      "Loss after epoch 64: 401152.0\n",
      "Loss after epoch 65: 391596.0\n",
      "Loss after epoch 66: 346192.0\n",
      "Loss after epoch 67: 345984.0\n",
      "Loss after epoch 68: 391400.0\n",
      "Loss after epoch 69: 340516.0\n",
      "Loss after epoch 70: 344268.0\n",
      "Loss after epoch 71: 373928.0\n",
      "Loss after epoch 72: 377780.0\n",
      "Loss after epoch 73: 376484.0\n",
      "Loss after epoch 74: 344104.0\n",
      "Loss after epoch 75: 372552.0\n",
      "Loss after epoch 76: 370440.0\n",
      "Loss after epoch 77: 363572.0\n",
      "Loss after epoch 78: 368984.0\n",
      "Loss after epoch 79: 340872.0\n",
      "Loss after epoch 80: 360916.0\n",
      "Loss after epoch 81: 366788.0\n",
      "Loss after epoch 82: 349408.0\n",
      "Loss after epoch 83: 362356.0\n",
      "Loss after epoch 84: 334600.0\n",
      "Loss after epoch 85: 343320.0\n",
      "Loss after epoch 86: 354704.0\n",
      "Loss after epoch 87: 327328.0\n",
      "Loss after epoch 88: 325236.0\n",
      "Loss after epoch 89: 348508.0\n",
      "Loss after epoch 90: 356700.0\n",
      "Loss after epoch 91: 321312.0\n",
      "Loss after epoch 92: 321728.0\n",
      "Loss after epoch 93: 320548.0\n",
      "Loss after epoch 94: 319440.0\n",
      "Loss after epoch 95: 351856.0\n",
      "Loss after epoch 96: 337316.0\n",
      "Loss after epoch 97: 346072.0\n",
      "Loss after epoch 98: 354868.0\n",
      "Loss after epoch 99: 338036.0\n"
     ]
    }
   ],
   "source": [
    "model = node2vec(random_walks)"
   ]
  },
  {
   "cell_type": "code",
   "execution_count": 17,
   "metadata": {},
   "outputs": [],
   "source": [
    "model.save(\"node2vec.model\")"
   ]
  },
  {
   "cell_type": "code",
   "execution_count": 75,
   "metadata": {},
   "outputs": [],
   "source": [
    "def get_node_vectors(w2v_model):\n",
    "    vectors_dict = {} \n",
    "    for node, vec  in  w2v_model.wv.vocab.items():\n",
    "        _type = node[0]\n",
    "        _id = int(node[1:])\n",
    "        if _id < 0 : continue\n",
    "     \n",
    "        if _type not in vectors_dict.keys(): vectors_dict[_type]= {}\n",
    "        vectors_dict[_type][_id] = w2v_model.wv[node]\n",
    "    return vectors_dict "
   ]
  },
  {
   "cell_type": "code",
   "execution_count": 78,
   "metadata": {
    "scrolled": true
   },
   "outputs": [],
   "source": [
    "vectors_dict =  get_node_vectors(model)"
   ]
  },
  {
   "cell_type": "code",
   "execution_count": null,
   "metadata": {},
   "outputs": [],
   "source": []
  },
  {
   "cell_type": "code",
   "execution_count": 79,
   "metadata": {},
   "outputs": [
    {
     "data": {
      "text/plain": [
       "20"
      ]
     },
     "execution_count": 79,
     "metadata": {},
     "output_type": "execute_result"
    }
   ],
   "source": [
    "len(vectors_dict['C'])"
   ]
  },
  {
   "cell_type": "code",
   "execution_count": 80,
   "metadata": {},
   "outputs": [],
   "source": [
    "# Save the node2vec vectors\n",
    "with open(\"node2vec_vectors_dblp.pkl\",'wb') as fh:\n",
    "    pickle.dump(vectors_dict, fh, pickle.HIGHEST_PROTOCOL)"
   ]
  },
  {
   "cell_type": "code",
   "execution_count": 11,
   "metadata": {},
   "outputs": [],
   "source": [
    "with open(\"node2vec_vectors_dblp.pkl\",'rb') as fh:\n",
    "    vectors_dict = pickle.load(fh)"
   ]
  },
  {
   "cell_type": "code",
   "execution_count": null,
   "metadata": {},
   "outputs": [],
   "source": []
  },
  {
   "cell_type": "code",
   "execution_count": null,
   "metadata": {},
   "outputs": [],
   "source": []
  },
  {
   "cell_type": "code",
   "execution_count": 16,
   "metadata": {},
   "outputs": [
    {
     "name": "stdout",
     "output_type": "stream",
     "text": [
      "(20, 128)\n",
      "(14328, 128)\n",
      "(3590, 128)\n"
     ]
    }
   ],
   "source": [
    "# ---------------------------------\n",
    "# Assign the vectors to nodes \n",
    "# ---------------------------------\n",
    "for _type,vec_dict in vectors_dict.items():\n",
    "    # Sort by keys\n",
    "    vec_dict = {k: vec_dict[k] for k in sorted(vec_dict)}\n",
    "    arr = np.array(list(vec_dict.values()))\n",
    "    print(arr.shape)\n",
    "    graph_obj.nodes[_type].data['mp2v'] = FT(arr)\n"
   ]
  },
  {
   "cell_type": "code",
   "execution_count": 138,
   "metadata": {},
   "outputs": [
    {
     "data": {
      "text/plain": [
       "torch.Size([2, 128])"
      ]
     },
     "execution_count": 138,
     "metadata": {},
     "output_type": "execute_result"
    }
   ],
   "source": [
    "graph_obj.nodes['A'][0]['features'][(10,12),:].shape"
   ]
  },
  {
   "cell_type": "code",
   "execution_count": 139,
   "metadata": {},
   "outputs": [
    {
     "data": {
      "text/plain": [
       "NodeSpace(data={'h': tensor([[-2.3155,  0.9874, -1.0372,  ..., -3.5197,  1.6381, -0.4157],\n",
       "        [ 0.1247,  0.7769, -0.2920,  ..., -0.4021,  0.0756, -0.2785],\n",
       "        [-0.2103,  0.9218,  0.1488,  ..., -0.1678,  1.2385,  0.2185],\n",
       "        ...,\n",
       "        [ 0.9587,  0.1735,  0.3462,  ..., -2.0214, -1.3904,  1.0250],\n",
       "        [-0.3391,  0.4953,  0.4317,  ..., -0.3763,  0.1117, -0.4074],\n",
       "        [-0.1395,  1.5959, -0.8736,  ...,  0.3145, -0.3659, -0.0525]]), 'features': tensor([[-1.7605e-03,  1.1173e-03,  9.0707e-05,  ..., -1.7978e-03,\n",
       "          1.7927e-03, -1.4459e-03],\n",
       "        [ 1.3830e-04, -2.7170e-04, -1.6747e-03,  ..., -1.5016e-03,\n",
       "          1.6060e-03,  1.4256e-03],\n",
       "        [ 1.3713e-04,  1.2106e-03,  4.5244e-04,  ..., -1.1915e-03,\n",
       "          2.0488e-04,  3.6495e-04],\n",
       "        ...,\n",
       "        [-1.5831e-03, -6.6044e-04, -1.7741e-03,  ..., -1.6603e-03,\n",
       "         -1.5522e-03, -1.3597e-03],\n",
       "        [ 1.5274e-03,  1.4183e-03, -1.7338e-03,  ...,  8.5928e-04,\n",
       "          1.5271e-03,  8.4462e-04],\n",
       "        [-1.7899e-03,  1.7318e-03, -3.0319e-04,  ..., -1.6907e-03,\n",
       "         -2.6448e-04, -4.0917e-05]], grad_fn=<DivBackward0>)})"
      ]
     },
     "execution_count": 139,
     "metadata": {},
     "output_type": "execute_result"
    }
   ],
   "source": [
    "graph_obj.nodes['A']"
   ]
  },
  {
   "cell_type": "code",
   "execution_count": null,
   "metadata": {},
   "outputs": [],
   "source": [
    "graph_obj.nodes['A'][0]['h'][(10,12),:].shape"
   ]
  },
  {
   "cell_type": "code",
   "execution_count": 27,
   "metadata": {},
   "outputs": [],
   "source": []
  },
  {
   "cell_type": "code",
   "execution_count": null,
   "metadata": {},
   "outputs": [],
   "source": []
  },
  {
   "cell_type": "code",
   "execution_count": null,
   "metadata": {},
   "outputs": [],
   "source": []
  },
  {
   "cell_type": "code",
   "execution_count": 232,
   "metadata": {},
   "outputs": [],
   "source": [
    "class GNN_1(nn.Module):\n",
    "    def __init__(\n",
    "        self,\n",
    "        inp_dim,\n",
    "        out_dim,\n",
    "        edge_type,\n",
    "        target_type,\n",
    "        aggregator_type='mean',\n",
    "        bias=True,\n",
    "        norm=True,\n",
    "        activation=None\n",
    "    ):\n",
    "        super(GNN_1, self).__init__()\n",
    "        self.out_dim = out_dim\n",
    "        self.inp_dim = inp_dim\n",
    "        self.aggregator_type = aggregator_type\n",
    "        self.norm = norm\n",
    "        self.activation = activation\n",
    "        \n",
    "        # ------\n",
    "        # Assuming a 2 layer GNN\n",
    "        # ------\n",
    "        self.num_layers = 2 \n",
    "        self.FC_w = nn.Linear(self.inp_dim*2, self.out_dim, bias=bias)\n",
    "        self.reset_parameters()\n",
    "        self.aggregator_type = aggregator_type\n",
    "        self.edge_type = edge_type\n",
    "        self.tgt_node_type = target_type \n",
    "        return\n",
    "    \n",
    "    def reset_parameters(self):\n",
    "        \"\"\"Reinitialize learnable parameters.\"\"\"\n",
    "        gain = nn.init.calculate_gain('relu')\n",
    "        nn.init.xavier_uniform_(self.FC_w.weight, gain=gain)\n",
    "        return\n",
    "    \n",
    "    \n",
    "    def forward(self, graph):        \n",
    "        for layer in range( self.num_layers ):\n",
    "            funcs = {}\n",
    "            funcs[self.edge_type] = (\n",
    "                fn.copy_u('mp2v', 'm'), \n",
    "                fn.sum('m', 'h')\n",
    "            )\n",
    "            # Update along the given edge\n",
    "            graph_obj.multi_update_all(funcs, 'sum')\n",
    "            \n",
    "            # --------------------------------------\n",
    "            # If first layer store the result from h\n",
    "            # --------------------------------------\n",
    "            if layer == 0 :\n",
    "                graph_obj.nodes[self.tgt_node_type].data['features'] = graph_obj.nodes[self.tgt_node_type].data['h']\n",
    "            else:\n",
    "                concat_ftrs = torch.cat([\n",
    "                    graph_obj.nodes[self.tgt_node_type].data['features'],\n",
    "                    graph_obj.nodes[self.tgt_node_type].data['h']\n",
    "                ], dim=1)\n",
    "                \n",
    "                ftrs = self.FC_w(concat_ftrs)\n",
    "                ftrs = F.tanh(ftrs)\n",
    "                if self.norm:\n",
    "                    ftrs = ftrs/torch.norm(ftrs,p=2)\n",
    "                graph_obj.nodes[self.tgt_node_type].data['features'] = ftrs \n",
    "        return"
   ]
  },
  {
   "cell_type": "code",
   "execution_count": 293,
   "metadata": {},
   "outputs": [],
   "source": []
  },
  {
   "cell_type": "code",
   "execution_count": null,
   "metadata": {},
   "outputs": [],
   "source": []
  },
  {
   "cell_type": "code",
   "execution_count": null,
   "metadata": {},
   "outputs": [],
   "source": []
  },
  {
   "cell_type": "code",
   "execution_count": 88,
   "metadata": {},
   "outputs": [],
   "source": [
    "def generate_negative_edges(graph_obj, edge_type):\n",
    "    src_type = None\n",
    "    dst_type = None\n",
    "    for ce in graph_obj.canonical_etypes:\n",
    "        if ce[1]==edge_type:\n",
    "            src_type = ce[0] \n",
    "            dst_type = ce[2]\n",
    "    src_nodes = graph_obj.nodes(src_type).data.numpy()\n",
    "    dst_nodes = graph_obj.nodes(dst_type).data.numpy()\n",
    "    valid_edges = graph_obj.edges(etype=edge_type)\n",
    "    \n",
    "    # --------------------------------- #\n",
    "    def join(a, b):\n",
    "        return str(a) + '_' + str(b)\n",
    "\n",
    "    def add_prefix(a,p):\n",
    "        return p + str(a)\n",
    "    \n",
    "    def remove_prefix(a):\n",
    "        return int(a[1:])\n",
    "    \n",
    "    vectorized_join = np.vectorize(myfunc)\n",
    "    vectorized_prefix = np.vectorize(add_prefix)\n",
    "    vectorized_rmv_prefix = np.vectorize(remove_prefix)\n",
    "    \n",
    "    # --------------------------------- #\n",
    "    node_pairs = []\n",
    "    for v,prefix in zip(valid_edges,(src_type,dst_type)):\n",
    "        n = vectorized_prefix(v,prefix)\n",
    "        node_pairs.append(n)\n",
    "    \n",
    "    src_nodes = vectorized_prefix(src_nodes,prefix)\n",
    "    dst_nodes = vectorized_prefix(dst_nodes,prefix)\n",
    "    \n",
    "    set_src_nodes = set(node_pairs[0])\n",
    "    set_dst_nodes = set(node_pairs[1])\n",
    "    \n",
    "    pos_nbrs = { _: [] for _ in set_src_nodes }\n",
    "    neg_nbrs = { _ :[] for _ in set_src_nodes }\n",
    "    \n",
    "    for i,j  in zip(node_pairs[0],node_pairs[1]):\n",
    "        pos_nbrs[i].append(j)\n",
    "    \n",
    "    # Final list to be sent\n",
    "    neg_nbr_dict = {}\n",
    "    pos_nbr_dict = {}\n",
    "    \n",
    "    for i in set_src_nodes:\n",
    "        pos_nbrs[i] = set(pos_nbrs[i])\n",
    "        neg_nbrs[i] = list(set_dst_nodes.difference(pos_nbrs[i]))\n",
    "        neg_nbrs[i] = vectorized_rmv_prefix(neg_nbrs[i])\n",
    "        pos_nbrs[i] = vectorized_rmv_prefix(list(pos_nbrs[i]))\n",
    "        _key = int(i[1:])\n",
    "        \n",
    "        neg_nbr_dict[_key] = neg_nbrs[i] \n",
    "        pos_nbr_dict[_key] = pos_nbrs[i] \n",
    "    \n",
    "    \n",
    "    # For each source type get negative destination neighbors\n",
    "    \n",
    "    return pos_nbr_dict,neg_nbr_dict"
   ]
  },
  {
   "cell_type": "code",
   "execution_count": null,
   "metadata": {},
   "outputs": [],
   "source": [
    "\n"
   ]
  },
  {
   "cell_type": "code",
   "execution_count": 90,
   "metadata": {},
   "outputs": [],
   "source": [
    "pos_nbr_dict,neg_nbr_dict = generate_negative_edges(graph_obj, edge_type='AP')"
   ]
  },
  {
   "cell_type": "code",
   "execution_count": 236,
   "metadata": {},
   "outputs": [],
   "source": [
    "# get ptriplets [ anchor ,ositive and negative ]\n",
    "def get_triplets(pos_nbr_dict, neg_nbr_dict):\n",
    "   \n",
    "    nodes = list(pos_nbr_dict.keys())\n",
    "    pos_pairs = []\n",
    "    neg_pairs = []\n",
    "    triplets = []\n",
    "    for n in nodes:\n",
    "        t =[n, \n",
    "            np.random.choice(pos_nbr_dict[n],size=1)[0], \n",
    "            np.random.choice(neg_nbr_dict[n],size=1)[0]\n",
    "        ]\n",
    "        triplets.append(t)\n",
    "    triplets = np.array(triplets)\n",
    "    \n",
    "#     print(triplets.shape)\n",
    "    return triplets"
   ]
  },
  {
   "cell_type": "code",
   "execution_count": 211,
   "metadata": {},
   "outputs": [],
   "source": [
    "# loss = torch.mean(torch.max(distance, torch.zeros_like(distance))) "
   ]
  },
  {
   "cell_type": "code",
   "execution_count": 152,
   "metadata": {},
   "outputs": [],
   "source": [
    "# triplets = get_triplets(pos_nbr_dict,neg_nbr_dict, count=10)"
   ]
  },
  {
   "cell_type": "code",
   "execution_count": 212,
   "metadata": {},
   "outputs": [],
   "source": [
    "# def calc_margin_loss(x1,x2, m, pos=True):\n",
    "#     d = 1 - F.cosine_similarity(0)    \n",
    "#     if not pos:\n",
    "#         d = torch.floor(0, m - d)\n",
    "#     return d \n"
   ]
  },
  {
   "cell_type": "code",
   "execution_count": 213,
   "metadata": {},
   "outputs": [],
   "source": [
    "# t = get_triplets(pos_nbr_dict,neg_nbr_dict)\n"
   ]
  },
  {
   "cell_type": "code",
   "execution_count": 341,
   "metadata": {},
   "outputs": [],
   "source": [
    "def calc_loss( xt, xp, xn):\n",
    "    m = 0.25\n",
    "    v1 = 1 - F.cosine_similarity(xt, xp, dim=1)\n",
    "    v2 = 1 - F.cosine_similarity(xt, xn, dim=1)\n",
    "    \n",
    "    d =  v1 - v2 + m\n",
    "    loss = torch.max(d, torch.zeros_like(d))\n",
    "\n",
    "    return torch.mean(loss, dim=0, keepdim=False)"
   ]
  },
  {
   "cell_type": "code",
   "execution_count": 342,
   "metadata": {},
   "outputs": [],
   "source": [
    "def train_model(\n",
    "    graph_obj, \n",
    "    gnn_obj,\n",
    "    pos_nbr_dict,\n",
    "    neg_nbr_dict,\n",
    "    tgt_edge = 'AP',\n",
    "    tgt_node = 'A',\n",
    "    cmp_node = 'P',\n",
    "    num_epochs = 10\n",
    "):\n",
    "    opt = torch.optim.Adam(\n",
    "        list(gnn_obj.parameters())\n",
    "    )\n",
    "    \n",
    "#     pos_nbr_dict,neg_nbr_dict = generate_negative_edges(graph_obj, edge_type = tgt_edge)\n",
    "    pbar = tqdm(range(num_epochs))\n",
    "    for e in pbar :\n",
    "        opt.zero_grad()\n",
    "        triplets = get_triplets(pos_nbr_dict,neg_nbr_dict)\n",
    "       \n",
    "        gnn_obj(graph_obj)\n",
    "        idx_t = LT(triplets[:,0])\n",
    "        emb_t = graph_obj.nodes[tgt_node][0]['features'][idx_t,:] \n",
    "       \n",
    "        idx_p = LT(triplets[:,1])\n",
    "        idx_n = LT(triplets[:,2])\n",
    "        emb_p = graph_obj.nodes[cmp_node][0]['mp2v'][idx_p,:] \n",
    "        emb_n = graph_obj.nodes[cmp_node][0]['mp2v'][idx_n,:] \n",
    "        loss_val = calc_loss(emb_t, emb_p, emb_n)\n",
    "        loss_val.backward()\n",
    "        opt.step()\n",
    "#         print(' Epoch {} Loss {:4f}'.format(e,np.mean(loss_val.data.numpy())))\n",
    "        pbar.set_postfix({'Loss': '{:4f}'.format(np.mean(loss_val.data.numpy()))})\n",
    "\n",
    "    return\n",
    "              \n",
    "        "
   ]
  },
  {
   "cell_type": "code",
   "execution_count": null,
   "metadata": {},
   "outputs": [],
   "source": [
    "tgt_edge = 'AP'\n",
    "pos_nbr_dict,neg_nbr_dict = generate_negative_edges(graph_obj, edge_type = tgt_edge)"
   ]
  },
  {
   "cell_type": "code",
   "execution_count": 343,
   "metadata": {},
   "outputs": [],
   "source": [
    "gnn_obj = GNN_1(\n",
    "        inp_dim=128,\n",
    "        out_dim=128,\n",
    "        edge_type='PA',\n",
    "        target_type='A',\n",
    "        aggregator_type='mean',\n",
    "        bias=True,\n",
    "        norm=True,\n",
    "        activation='tanh'\n",
    ")"
   ]
  },
  {
   "cell_type": "code",
   "execution_count": 344,
   "metadata": {
    "scrolled": true
   },
   "outputs": [
    {
     "name": "stderr",
     "output_type": "stream",
     "text": [
      "  0%|          | 0/400 [00:00<?, ?it/s]/home/ddatta/anaconda3/envs/SG/lib/python3.7/site-packages/torch/nn/functional.py:1340: UserWarning: nn.functional.tanh is deprecated. Use torch.tanh instead.\n",
      "  warnings.warn(\"nn.functional.tanh is deprecated. Use torch.tanh instead.\")\n",
      "100%|██████████| 400/400 [03:34<00:00,  1.87it/s, Loss=0.016761]\n"
     ]
    }
   ],
   "source": [
    "train_model(\n",
    "    graph_obj, \n",
    "    gnn_obj,\n",
    "    pos_nbr_dict,\n",
    "    neg_nbr_dict,\n",
    "    num_epochs = 400\n",
    ")"
   ]
  },
  {
   "cell_type": "code",
   "execution_count": 345,
   "metadata": {},
   "outputs": [],
   "source": [
    "A_features = graph_obj.nodes['A'][0]['features'].data.numpy()"
   ]
  },
  {
   "cell_type": "code",
   "execution_count": 346,
   "metadata": {},
   "outputs": [
    {
     "data": {
      "text/plain": [
       "array([[-2.0211672e-03,  8.1119360e-04, -8.3204848e-04, ...,\n",
       "        -2.1621876e-03,  1.8022689e-03, -4.5910574e-04],\n",
       "       [ 7.4668345e-04,  2.3519321e-04, -7.6314237e-04, ...,\n",
       "         9.1296551e-04, -6.4705824e-04, -7.0769893e-04],\n",
       "       [ 1.1626004e-04, -2.8986629e-04, -4.6374782e-05, ...,\n",
       "         1.7234766e-03,  8.9080253e-04,  5.6282204e-04],\n",
       "       ...,\n",
       "       [ 1.9880640e-03, -1.8586463e-03,  1.3739058e-03, ...,\n",
       "        -1.7143299e-03, -1.7751486e-03,  1.6799540e-03],\n",
       "       [-4.7051569e-04,  5.4853157e-05,  9.9812273e-04, ...,\n",
       "         1.3101585e-03, -8.7983487e-04, -9.2044682e-04],\n",
       "       [ 1.9209052e-03, -1.5821884e-03, -1.6924156e-03, ...,\n",
       "         2.1613550e-03, -6.9595687e-04, -7.4295484e-04]], dtype=float32)"
      ]
     },
     "execution_count": 346,
     "metadata": {},
     "output_type": "execute_result"
    }
   ],
   "source": [
    "A_features"
   ]
  },
  {
   "cell_type": "code",
   "execution_count": 332,
   "metadata": {},
   "outputs": [],
   "source": [
    "from sklearn import metrics\n",
    "from sklearn.cluster import KMeans\n",
    "\n",
    "from sklearn.decomposition import PCA"
   ]
  },
  {
   "cell_type": "code",
   "execution_count": 347,
   "metadata": {},
   "outputs": [],
   "source": [
    "reduced_data = PCA(n_components=2).fit_transform(A_features)"
   ]
  },
  {
   "cell_type": "code",
   "execution_count": 348,
   "metadata": {},
   "outputs": [
    {
     "data": {
      "text/plain": [
       "KMeans(algorithm='auto', copy_x=True, init='k-means++', max_iter=300,\n",
       "       n_clusters=4, n_init=10, n_jobs=-1, precompute_distances='auto',\n",
       "       random_state=None, tol=0.0001, verbose=0)"
      ]
     },
     "execution_count": 348,
     "metadata": {},
     "output_type": "execute_result"
    }
   ],
   "source": [
    "kmeans = KMeans(init='k-means++', n_clusters=4, n_init=10, n_jobs=-1)\n",
    "kmeans.fit(reduced_data)"
   ]
  },
  {
   "cell_type": "code",
   "execution_count": 349,
   "metadata": {},
   "outputs": [],
   "source": [
    "from matplotlib import pyplot as plt"
   ]
  },
  {
   "cell_type": "code",
   "execution_count": 350,
   "metadata": {},
   "outputs": [
    {
     "data": {
      "text/plain": [
       "<matplotlib.collections.PathCollection at 0x7fc50c325d10>"
      ]
     },
     "execution_count": 350,
     "metadata": {},
     "output_type": "execute_result"
    },
    {
     "data": {
      "image/png": "[encoded data removed]",
      "text/plain": [
       "<Figure size 432x288 with 1 Axes>"
      ]
     },
     "metadata": {
      "needs_background": "light"
     },
     "output_type": "display_data"
    }
   ],
   "source": [
    "plt.scatter(\n",
    "    reduced_data[:,0], reduced_data[:,1],s=0.2\n",
    ")"
   ]
  },
  {
   "cell_type": "code",
   "execution_count": 351,
   "metadata": {},
   "outputs": [],
   "source": [
    "# read in labels \n",
    "df_nodes = pd.read_csv('./../DBLP/dblp_nodes.csv',index_col=None)\n",
    "labels_list = df_nodes.loc[df_nodes['type']=='A']['label'].astype(int).values"
   ]
  },
  {
   "cell_type": "code",
   "execution_count": 352,
   "metadata": {},
   "outputs": [],
   "source": [
    "labels = labels_list\n",
    "x = reduced_data[:,0]\n",
    "y = reduced_data[:,1]\n",
    "data = np.vstack([x,y,labels])"
   ]
  },
  {
   "cell_type": "code",
   "execution_count": 353,
   "metadata": {},
   "outputs": [
    {
     "data": {
      "text/plain": [
       "(4057, 3)"
      ]
     },
     "execution_count": 353,
     "metadata": {},
     "output_type": "execute_result"
    }
   ],
   "source": [
    "data = data.transpose()\n",
    "data.shape"
   ]
  },
  {
   "cell_type": "code",
   "execution_count": 354,
   "metadata": {},
   "outputs": [],
   "source": [
    "df = pd.DataFrame(data, columns=['x','y','label'])"
   ]
  },
  {
   "cell_type": "code",
   "execution_count": 356,
   "metadata": {},
   "outputs": [
    {
     "data": {
      "image/png": "[encoded data removed]",
      "text/plain": [
       "<Figure size 720x576 with 1 Axes>"
      ]
     },
     "metadata": {
      "needs_background": "light"
     },
     "output_type": "display_data"
    }
   ],
   "source": [
    "plt.figure(figsize=[10,8])\n",
    "colors = ['r','g','b','m']\n",
    "for l in range(4):\n",
    "    _x = df.loc[df['label']==l]['x'].values\n",
    "    _y = df.loc[df['label']==l]['y'].values\n",
    "    c = colors[l]\n",
    "    plt.scatter(_x,_y,color=c,s=0.975)\n",
    "plt.show()\n",
    "    "
   ]
  },
  {
   "cell_type": "code",
   "execution_count": 307,
   "metadata": {},
   "outputs": [],
   "source": []
  },
  {
   "cell_type": "code",
   "execution_count": 315,
   "metadata": {},
   "outputs": [],
   "source": []
  },
  {
   "cell_type": "code",
   "execution_count": null,
   "metadata": {},
   "outputs": [],
   "source": []
  }
 ],
 "metadata": {
  "kernelspec": {
   "display_name": "Python 3",
   "language": "python",
   "name": "python3"
  },
  "language_info": {
   "codemirror_mode": {
    "name": "ipython",
    "version": 3
   },
   "file_extension": ".py",
   "mimetype": "text/x-python",
   "name": "python",
   "nbconvert_exporter": "python",
   "pygments_lexer": "ipython3",
   "version": "3.7.9"
  }
 },
 "nbformat": 4,
 "nbformat_minor": 4
}
